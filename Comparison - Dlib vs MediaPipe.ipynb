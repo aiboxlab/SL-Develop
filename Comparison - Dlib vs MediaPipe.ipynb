{
 "cells": [
  {
   "cell_type": "markdown",
   "id": "162ef013",
   "metadata": {},
   "source": [
    "\n",
    "## Pré-Processing"
   ]
  },
  {
   "cell_type": "markdown",
   "id": "01901db7",
   "metadata": {},
   "source": [
    "Neste jupyter notebook, iremos realizar uma análise comparativa entre os extratores de features da face: MediaPipe e Dlib"
   ]
  },
  {
   "cell_type": "markdown",
   "id": "1d329d49",
   "metadata": {},
   "source": [
    "As features foram extraídas utilizando as seguintes configurações de máquina:\n",
    "    \n",
    "    - 15,4 GiB\n",
    "    - 11th Gen Intel® Core™ i5-1135G7 @ 2.40GHz × 8 \n",
    "    - Mesa Intel® Xe Graphics (TGL GT2)\n",
    "    - 256,1 GB\n",
    "    - Ubuntu 20.04.3 LTS\n",
    "    - 64 bits\n",
    "    \n",
    "Foram utilizados 591 vídeos da base UCF-101, ou seja, todos os vídeos das classes de:\n",
    "    - ApplyEyeMakeup\n",
    "    - BrushingTeeth\n",
    "    - PlayingFlute\n",
    "    - ShavingBeard\n",
    "    \n",
    "A escolha dessas classes de comportamentos, tem como justificativa classes de comportamento que de certa forma enfatizam a face humana durante os vídeos, utilizando movimentos, interações com objetos e cenas com oclusão da face sejam por esses objetos ou membro do corpo, ou pelo movimento associado ao comportamento."
   ]
  },
  {
   "cell_type": "code",
   "execution_count": 2,
   "id": "96b2f68d",
   "metadata": {},
   "outputs": [
    {
     "ename": "ModuleNotFoundError",
     "evalue": "No module named 'seaborn'",
     "output_type": "error",
     "traceback": [
      "\u001b[0;31m---------------------------------------------------------------------------\u001b[0m",
      "\u001b[0;31mModuleNotFoundError\u001b[0m                       Traceback (most recent call last)",
      "\u001b[0;32m<ipython-input-2-b22bd57cf69d>\u001b[0m in \u001b[0;36m<module>\u001b[0;34m()\u001b[0m\n\u001b[1;32m      2\u001b[0m \u001b[0;32mimport\u001b[0m \u001b[0mglob\u001b[0m\u001b[0;34m\u001b[0m\u001b[0;34m\u001b[0m\u001b[0m\n\u001b[1;32m      3\u001b[0m \u001b[0;32mimport\u001b[0m \u001b[0mpandas\u001b[0m \u001b[0;32mas\u001b[0m \u001b[0mpd\u001b[0m\u001b[0;34m\u001b[0m\u001b[0;34m\u001b[0m\u001b[0m\n\u001b[0;32m----> 4\u001b[0;31m \u001b[0;32mimport\u001b[0m \u001b[0mseaborn\u001b[0m \u001b[0;32mas\u001b[0m \u001b[0msns\u001b[0m\u001b[0;34m\u001b[0m\u001b[0;34m\u001b[0m\u001b[0m\n\u001b[0m\u001b[1;32m      5\u001b[0m \u001b[0;32mimport\u001b[0m \u001b[0mnumpy\u001b[0m \u001b[0;32mas\u001b[0m \u001b[0mnp\u001b[0m\u001b[0;34m\u001b[0m\u001b[0;34m\u001b[0m\u001b[0m\n\u001b[1;32m      6\u001b[0m \u001b[0;32mimport\u001b[0m \u001b[0mmatplotlib\u001b[0m\u001b[0;34m.\u001b[0m\u001b[0mpyplot\u001b[0m \u001b[0;32mas\u001b[0m \u001b[0mplt\u001b[0m\u001b[0;34m\u001b[0m\u001b[0;34m\u001b[0m\u001b[0m\n",
      "\u001b[0;31mModuleNotFoundError\u001b[0m: No module named 'seaborn'"
     ]
    }
   ],
   "source": [
    "import os\n",
    "import glob\n",
    "import pandas as pd\n",
    "import seaborn as sns\n",
    "import numpy as np\n",
    "import matplotlib.pyplot as plt\n"
   ]
  },
  {
   "cell_type": "code",
   "execution_count": null,
   "id": "ea342883",
   "metadata": {},
   "outputs": [],
   "source": [
    "#Dlib\n",
    "os.chdir('../../data/processed/dlib/UFC-101-Analisys/')\n",
    "extension = 'csv'\n",
    "all_filenames = [i for i in glob.glob('*.{}'.format(extension))]\n",
    "print(\"Quantidade de Vídeos [Dlib]: \"+str(len(all_filenames)))\n",
    "\n",
    "combined_csv_dlib = pd.concat([pd.read_csv(f, sep=\";\", index_col=None) for f in all_filenames ])\n",
    "print('Quantidade de Frames [Dlib]: '+str(combined_csv_dlib.shape[0]))\n",
    "combined_csv_dlib['extractor'] = 'dlib'\n",
    "\n",
    "\n",
    "#Mediapipe\n",
    "os.chdir('../../mediapipe/UFC-101-Analisys/')\n",
    "extension = 'csv'\n",
    "all_filenames = [i for i in glob.glob('*.{}'.format(extension))]\n",
    "print(\"Quantidade de Vídeos [Mediapipe]: \"+str(len(all_filenames)))\n",
    "\n",
    "combined_csv_mediapipe = pd.concat([pd.read_csv(f, sep=\";\", index_col=None) for f in all_filenames ])\n",
    "print('Quantidade de Frames [Mediapipe]: '+str(combined_csv_mediapipe.shape[0]))\n",
    "combined_csv_mediapipe['extractor'] = 'mediapipe'\n",
    "\n",
    "#os.chdir('../../../../notebooks/feature_extraction/')"
   ]
  },
  {
   "cell_type": "code",
   "execution_count": null,
   "id": "7813e3c5",
   "metadata": {},
   "outputs": [],
   "source": [
    "combined_csv_mediapipe.head(5)"
   ]
  },
  {
   "cell_type": "code",
   "execution_count": null,
   "id": "94d573e1",
   "metadata": {},
   "outputs": [],
   "source": [
    "combined_csv_dlib.head(5)"
   ]
  },
  {
   "cell_type": "code",
   "execution_count": null,
   "id": "f15687f2",
   "metadata": {},
   "outputs": [],
   "source": [
    "combined_csv = pd.concat([combined_csv_dlib, combined_csv_mediapipe], axis=0)\n",
    "print('Linhas, Colunas: '+str(combined_csv.shape))\n",
    "print('Quantidade de Frames [Dlib]: '+str(combined_csv.loc[combined_csv.extractor == 'dlib'].shape))\n",
    "print('Quantidade de Frames [Mediapipe]: '+str(combined_csv.loc[combined_csv.extractor == 'mediapipe'].shape))"
   ]
  },
  {
   "cell_type": "code",
   "execution_count": null,
   "id": "75ab67dd",
   "metadata": {},
   "outputs": [],
   "source": [
    "df_geral = pd.DataFrame(columns=['extractor', 'total_notna'])\n",
    "\n",
    "df_geral = df_geral.append(\n",
    "[{\n",
    "    'extractor': 'dlib',\n",
    "    'total_notna': int(combined_csv.loc[combined_csv.extractor == 'dlib']['keys'].notna().sum())\n",
    "},\n",
    "{ \n",
    "    'extractor': 'mediapipe',\n",
    "    'total_notna': int(combined_csv.loc[combined_csv.extractor == 'mediapipe']['keys'].notna().sum())\n",
    "}],\n",
    "    \n",
    "ignore_index=True)\n",
    "\n",
    "df_geral"
   ]
  },
  {
   "cell_type": "code",
   "execution_count": null,
   "id": "beca1ade",
   "metadata": {},
   "outputs": [],
   "source": [
    "combined_csv['na'] = np.where(combined_csv['keys'].isna(), 1, 0)\n",
    "combined_csv_dlib['na'] = np.where(combined_csv_dlib['keys'].isna(), 1, 0)\n",
    "combined_csv_mediapipe['na'] = np.where(combined_csv_mediapipe['keys'].isna(), 1, 0)"
   ]
  },
  {
   "cell_type": "code",
   "execution_count": null,
   "id": "ae6fc09d",
   "metadata": {},
   "outputs": [],
   "source": [
    "combined_csv"
   ]
  },
  {
   "cell_type": "code",
   "execution_count": null,
   "id": "113ccdd0",
   "metadata": {},
   "outputs": [],
   "source": [
    "print(len(combined_csv.loc[(combined_csv.extractor == 'mediapipe') & (combined_csv['keys'].notna())])/len(combined_csv))\n",
    "print(len(combined_csv.loc[(combined_csv.extractor == 'mediapipe') & (combined_csv['keys'].isna())])/len(combined_csv))\n",
    "print(len(combined_csv.loc[(combined_csv.extractor == 'dlib') & (combined_csv['keys'].notna())])/len(combined_csv))\n",
    "print(len(combined_csv.loc[(combined_csv.extractor == 'dlib') & (combined_csv['keys'].isna())])/len(combined_csv))"
   ]
  },
  {
   "cell_type": "markdown",
   "id": "f0330b6b",
   "metadata": {},
   "source": [
    "# Análise"
   ]
  },
  {
   "cell_type": "markdown",
   "id": "3768d270",
   "metadata": {},
   "source": [
    "## No Geral"
   ]
  },
  {
   "cell_type": "code",
   "execution_count": null,
   "id": "f71fd2f9",
   "metadata": {},
   "outputs": [],
   "source": [
    "# plot\n",
    "fig = plt.figure(figsize=(10,10))\n",
    "plt.subplot(2,2,1)\n",
    "\n",
    "ax = sns.countplot(x=\"extractor\", hue=\"na\", data=combined_csv_dlib)\n",
    "ax.set(ylabel='Total of Frames', title='Bar Count and Percent of Total')\n",
    "\n",
    "# add annotations\n",
    "for c in ax.containers:\n",
    "    # custom label calculates percent and add an empty string so 0 value bars don't have a number\n",
    "    labels = [f'{w/len(combined_csv_dlib.index)*100:0.1f}%' if (w := v.get_height()) > 0 else '' for v in c]\n",
    "    ax.bar_label(c, labels=labels, label_type='edge')\n",
    "\n",
    "    \n",
    "plt.subplot(2,2,2)\n",
    "\n",
    "ax = sns.countplot(x=\"extractor\", hue=\"na\", data=combined_csv_mediapipe)\n",
    "ax.set(ylabel='Total of Frames', title='Bar Count and Percent of Total')\n",
    "\n",
    "# add annotations\n",
    "for c in ax.containers:\n",
    "    # custom label calculates percent and add an empty string so 0 value bars don't have a number\n",
    "    labels = [f'{w/len(combined_csv_mediapipe.index)*100:0.1f}%' if (w := v.get_height()) > 0 else '' for v in c]\n",
    "    ax.bar_label(c, labels=labels, label_type='edge')"
   ]
  },
  {
   "cell_type": "code",
   "execution_count": null,
   "id": "48ef1d0d",
   "metadata": {},
   "outputs": [],
   "source": [
    "82.1 - 32.1"
   ]
  },
  {
   "cell_type": "markdown",
   "id": "47042dc0",
   "metadata": {},
   "source": [
    "Na figura acima é possível visualizar que dos 134.484 frames da base selecionada para a análise, apenas em 32,1% frames desse total, o Dlib foi capaz de reconhecer os landmarks da face. Enquanto que o extrator Mediapipe conseguiu detectar os landmarks em 82,1% dos frames. Portanto, de maneira geral, temos que com o extrator de features Mediapipe foi possível detectar landmarks em 50% de frames a mais que no Dlib.\n"
   ]
  },
  {
   "cell_type": "markdown",
   "id": "8b8290bd",
   "metadata": {},
   "source": [
    "## Por vídeo"
   ]
  },
  {
   "cell_type": "code",
   "execution_count": null,
   "id": "a5e2b496",
   "metadata": {},
   "outputs": [],
   "source": [
    "combined_csv['class'] = combined_csv['video_name'].str.split('_', expand=True)[1]\n",
    "combined_csv.head(2)"
   ]
  },
  {
   "cell_type": "code",
   "execution_count": null,
   "id": "c3ebf0ff",
   "metadata": {},
   "outputs": [],
   "source": [
    "fig = plt.figure(figsize=(14,10))\n",
    "count = 1\n",
    "\n",
    "for i in combined_csv['class'].unique():\n",
    "    #col, row, order\n",
    "    plt.subplot(2,2, count)\n",
    "    df = combined_csv.loc[combined_csv['class'] == i]\n",
    "    ax = sns.countplot(x=\"extractor\", hue=\"na\", data=df)\n",
    "    ax.set(ylabel='Total of Frames', title=i)\n",
    "    for c in ax.containers:\n",
    "        labels = [f'{w/len(df.index)*200:0.1f}%' if (w := v.get_height()) > 0 else '' for v in c]\n",
    "        ax.bar_label(c, labels=labels, label_type='edge')\n",
    "    count+=1\n",
    "    "
   ]
  },
  {
   "cell_type": "markdown",
   "id": "65ed6925",
   "metadata": {},
   "source": [
    "Tanto para o extrator Mediapipe quando para o Dlib, a classe em que foi retornada mais frames com informações da face foi a ApplyEyeMakeup com 47,5% e 30,5% respectivamente (diferença de 17%). Enquanto que para a classe de comportamento PlayingFlute, ambos os extratores de features retornaram os valores mais baixos de frames com features detectadas, o Mediapipe 35,4% e o Dlib 5,6% (diferença de 29,8%). "
   ]
  },
  {
   "cell_type": "markdown",
   "id": "92e4dd10",
   "metadata": {},
   "source": [
    "## Por momentos específicos"
   ]
  },
  {
   "cell_type": "code",
   "execution_count": null,
   "id": "26eba4cd",
   "metadata": {},
   "outputs": [],
   "source": [
    "!sudo apt-get install ffmpeg"
   ]
  },
  {
   "cell_type": "code",
   "execution_count": null,
   "id": "7691b77f",
   "metadata": {},
   "outputs": [],
   "source": [
    "import mediapy as media\n",
    "url = '../../../../data/processed/examples/v_ShavingBeard_g03_c03-mediapipe.avi'\n",
    "video = media.read_video(url)\n",
    "media.show_video(video)  "
   ]
  },
  {
   "cell_type": "code",
   "execution_count": null,
   "id": "3f6a592c",
   "metadata": {},
   "outputs": [],
   "source": [
    "from IPython.display import Video\n",
    "\n",
    "Video(\"../../../../data/processed/examples/v_ShavingBeard_g03_c03-mediapipe.avi\", embed=True)"
   ]
  },
  {
   "cell_type": "code",
   "execution_count": null,
   "id": "95a27010",
   "metadata": {},
   "outputs": [],
   "source": [
    "from IPython.display import HTML\n",
    "\n",
    "\n",
    "HTML(\"\"\"\n",
    "<video width=\"320\" height=\"240\" controls>\n",
    "  <source src=\"../../../../data/processed/examples/v_ShavingBeard_g03_c03-mediapipe.avi\" type=\"video/avi\">\n",
    "</video>\n",
    "\"\"\")"
   ]
  },
  {
   "cell_type": "code",
   "execution_count": null,
   "id": "96135985",
   "metadata": {},
   "outputs": [],
   "source": [
    "os.listdir('../../../../data/processed/examples/')"
   ]
  },
  {
   "cell_type": "code",
   "execution_count": null,
   "id": "e7910c06",
   "metadata": {},
   "outputs": [],
   "source": [
    "combined_csv.head(1)"
   ]
  },
  {
   "cell_type": "code",
   "execution_count": null,
   "id": "999717a3",
   "metadata": {},
   "outputs": [],
   "source": []
  },
  {
   "cell_type": "code",
   "execution_count": null,
   "id": "a2d54061",
   "metadata": {},
   "outputs": [],
   "source": [
    "47.5 - 30.5"
   ]
  },
  {
   "cell_type": "code",
   "execution_count": null,
   "id": "daffb0d5",
   "metadata": {},
   "outputs": [],
   "source": [
    "for i in combined_csv['class'].unique():\n",
    "    print(i)"
   ]
  },
  {
   "cell_type": "code",
   "execution_count": null,
   "id": "b2ad8ce1",
   "metadata": {},
   "outputs": [],
   "source": []
  }
 ],
 "metadata": {
  "kernelspec": {
   "display_name": "Python 3",
   "language": "python",
   "name": "python3"
  },
  "language_info": {
   "codemirror_mode": {
    "name": "ipython",
    "version": 3
   },
   "file_extension": ".py",
   "mimetype": "text/x-python",
   "name": "python",
   "nbconvert_exporter": "python",
   "pygments_lexer": "ipython3",
   "version": "3.6.13"
  },
  "toc": {
   "base_numbering": 1,
   "nav_menu": {},
   "number_sections": true,
   "sideBar": true,
   "skip_h1_title": false,
   "title_cell": "Table of Contents",
   "title_sidebar": "Contents",
   "toc_cell": false,
   "toc_position": {},
   "toc_section_display": true,
   "toc_window_display": false
  }
 },
 "nbformat": 4,
 "nbformat_minor": 5
}
