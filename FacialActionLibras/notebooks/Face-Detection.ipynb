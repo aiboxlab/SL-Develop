{
 "cells": [
  {
   "cell_type": "code",
   "execution_count": null,
   "id": "ea008d5c",
   "metadata": {},
   "outputs": [
    {
     "name": "stdout",
     "output_type": "stream",
     "text": [
      "4.5.3\n",
      "found 1 face(s)\n"
     ]
    }
   ],
   "source": [
    "import cv2 as cv\n",
    "\n",
    "print(cv.__version__)\n",
    "RED = (0, 0, 255)\n",
    "\n",
    "img = cv.imread('img_video_26.png')\n",
    "cv.imshow('window', img)\n",
    "\n",
    "gray = cv.cvtColor(img, cv.COLOR_BGR2GRAY)\n",
    "cv.imshow('window2', gray)\n",
    "\n",
    "path = '../models/haarcascade_frontalface_default.xml'\n",
    "face_detector = cv.CascadeClassifier(path)\n",
    "\n",
    "face_rects = face_detector.detectMultiScale(gray, 1.15, 4, 0, (100, 100))\n",
    "\n",
    "\"\"\"\n",
    "face_rects = face_detector.detectMultiScale(gray,\n",
    "        scaleFactor=1.1,\n",
    "        minNeighbors=5, \n",
    "        minSize=(30, 30),\n",
    "        flags = cv.CASCADE_SCALE_IMAGE)\n",
    "\"\"\"\n",
    "print(f'found {len(face_rects)} face(s)')\n",
    "\n",
    "for rect in face_rects:\n",
    "    cv.rectangle(img, rect, RED, 2)\n",
    "\n",
    "cv.imshow('window', img)\n",
    "cv.waitKey(0)"
   ]
  },
  {
   "cell_type": "code",
   "execution_count": null,
   "id": "dc38c820",
   "metadata": {},
   "outputs": [],
   "source": []
  }
 ],
 "metadata": {
  "kernelspec": {
   "display_name": "Python 3",
   "language": "python",
   "name": "python3"
  },
  "language_info": {
   "codemirror_mode": {
    "name": "ipython",
    "version": 3
   },
   "file_extension": ".py",
   "mimetype": "text/x-python",
   "name": "python",
   "nbconvert_exporter": "python",
   "pygments_lexer": "ipython3",
   "version": "3.8.8"
  }
 },
 "nbformat": 4,
 "nbformat_minor": 5
}
