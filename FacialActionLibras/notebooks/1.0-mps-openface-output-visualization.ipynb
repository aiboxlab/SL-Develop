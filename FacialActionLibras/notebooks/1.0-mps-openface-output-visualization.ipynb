{
 "cells": [
  {
   "cell_type": "markdown",
   "id": "b11c36c2-91ad-4d90-8d0b-c680eec7a580",
   "metadata": {},
   "source": [
    "### 1. Import libraries and set paths"
   ]
  },
  {
   "cell_type": "code",
   "execution_count": 19,
   "id": "0ca0f9fa-060b-4458-9f4c-5a9fe9bcb74e",
   "metadata": {},
   "outputs": [],
   "source": [
    "%matplotlib inline\n",
    "import numpy as np\n",
    "import pandas as pd\n",
    "from itertools import compress\n",
    "import matplotlib.pyplot as plt\n",
    "from collections import defaultdict"
   ]
  },
  {
   "cell_type": "code",
   "execution_count": 20,
   "id": "e67f6020-0d2f-4730-90a5-a645cdbd33c8",
   "metadata": {},
   "outputs": [],
   "source": [
    "## Fixed\n",
    "# path_csv_video1 = '../reports/examples/validation_aus_openface/RostoIntensidade-07Setima-Sortudo/RostoIntensidade-07Setima-Sortudo.csv'\n",
    "# path_csv_video2 = '../reports/examples/validation_aus_openface/RostoIntensidade-05Quinta-Acalmar/RostoIntensidade-05Quinta-Acalmar.csv'\n",
    "\n",
    "##Dynamic\n",
    "augmentations = ['adjust_brightness', 'adjust_jpeg_quality', 'rgb_to_grayscale','rot90']\n",
    "videos=['RostoIntensidade-07Setima-Zangado', 'RostoIntensidade-04Quarta-Surpresa',\n",
    " 'RostoIntensidade-07Setima-Sortudo','RostoIntensidade-05Quinta-Acalmar']\n",
    "\n",
    "path_base_input = '../reports/examples/validation_aus_openface/tamires_augmentation/'"
   ]
  },
  {
   "cell_type": "markdown",
   "id": "3a00ba43-0921-4d2b-b759-23f73161dff6",
   "metadata": {},
   "source": [
    "### 2. Load data"
   ]
  },
  {
   "cell_type": "markdown",
   "id": "b109d2a4-4c8f-413c-bc59-68f00befea68",
   "metadata": {
    "jp-MarkdownHeadingCollapsed": true,
    "tags": []
   },
   "source": [
    "#### 2.1. Fixed"
   ]
  },
  {
   "cell_type": "code",
   "execution_count": 3,
   "id": "4fe992f3-56af-45f1-b817-c970d1f512ef",
   "metadata": {},
   "outputs": [],
   "source": [
    "video1_df = pd.read_csv(path_csv_video1, sep=',')\n",
    "video2_df = pd.read_csv(path_csv_video2, sep=',')"
   ]
  },
  {
   "cell_type": "code",
   "execution_count": 4,
   "id": "494043dc-3ced-43bb-99e1-041ea95ed465",
   "metadata": {},
   "outputs": [
    {
     "data": {
      "text/html": [
       "<div>\n",
       "<style scoped>\n",
       "    .dataframe tbody tr th:only-of-type {\n",
       "        vertical-align: middle;\n",
       "    }\n",
       "\n",
       "    .dataframe tbody tr th {\n",
       "        vertical-align: top;\n",
       "    }\n",
       "\n",
       "    .dataframe thead th {\n",
       "        text-align: right;\n",
       "    }\n",
       "</style>\n",
       "<table border=\"1\" class=\"dataframe\">\n",
       "  <thead>\n",
       "    <tr style=\"text-align: right;\">\n",
       "      <th></th>\n",
       "      <th>frame</th>\n",
       "      <th>face_id</th>\n",
       "      <th>timestamp</th>\n",
       "      <th>confidence</th>\n",
       "      <th>success</th>\n",
       "      <th>AU01_r</th>\n",
       "      <th>AU02_r</th>\n",
       "      <th>AU04_r</th>\n",
       "      <th>AU05_r</th>\n",
       "      <th>AU06_r</th>\n",
       "      <th>...</th>\n",
       "      <th>AU12_c</th>\n",
       "      <th>AU14_c</th>\n",
       "      <th>AU15_c</th>\n",
       "      <th>AU17_c</th>\n",
       "      <th>AU20_c</th>\n",
       "      <th>AU23_c</th>\n",
       "      <th>AU25_c</th>\n",
       "      <th>AU26_c</th>\n",
       "      <th>AU28_c</th>\n",
       "      <th>AU45_c</th>\n",
       "    </tr>\n",
       "  </thead>\n",
       "  <tbody>\n",
       "    <tr>\n",
       "      <th>0</th>\n",
       "      <td>1</td>\n",
       "      <td>0</td>\n",
       "      <td>0.000</td>\n",
       "      <td>0.98</td>\n",
       "      <td>1</td>\n",
       "      <td>0.27</td>\n",
       "      <td>0.25</td>\n",
       "      <td>0.00</td>\n",
       "      <td>0.0</td>\n",
       "      <td>0.00</td>\n",
       "      <td>...</td>\n",
       "      <td>0.0</td>\n",
       "      <td>0.0</td>\n",
       "      <td>0.0</td>\n",
       "      <td>1.0</td>\n",
       "      <td>0.0</td>\n",
       "      <td>1.0</td>\n",
       "      <td>1.0</td>\n",
       "      <td>0.0</td>\n",
       "      <td>0.0</td>\n",
       "      <td>1.0</td>\n",
       "    </tr>\n",
       "    <tr>\n",
       "      <th>1</th>\n",
       "      <td>2</td>\n",
       "      <td>0</td>\n",
       "      <td>0.033</td>\n",
       "      <td>0.98</td>\n",
       "      <td>1</td>\n",
       "      <td>0.09</td>\n",
       "      <td>0.12</td>\n",
       "      <td>0.09</td>\n",
       "      <td>0.0</td>\n",
       "      <td>0.03</td>\n",
       "      <td>...</td>\n",
       "      <td>0.0</td>\n",
       "      <td>0.0</td>\n",
       "      <td>0.0</td>\n",
       "      <td>0.0</td>\n",
       "      <td>0.0</td>\n",
       "      <td>0.0</td>\n",
       "      <td>1.0</td>\n",
       "      <td>0.0</td>\n",
       "      <td>0.0</td>\n",
       "      <td>1.0</td>\n",
       "    </tr>\n",
       "  </tbody>\n",
       "</table>\n",
       "<p>2 rows × 40 columns</p>\n",
       "</div>"
      ],
      "text/plain": [
       "   frame  face_id  timestamp  confidence  success  AU01_r  AU02_r  AU04_r  \\\n",
       "0      1        0      0.000        0.98        1    0.27    0.25    0.00   \n",
       "1      2        0      0.033        0.98        1    0.09    0.12    0.09   \n",
       "\n",
       "   AU05_r  AU06_r  ...  AU12_c  AU14_c  AU15_c  AU17_c  AU20_c  AU23_c  \\\n",
       "0     0.0    0.00  ...     0.0     0.0     0.0     1.0     0.0     1.0   \n",
       "1     0.0    0.03  ...     0.0     0.0     0.0     0.0     0.0     0.0   \n",
       "\n",
       "   AU25_c  AU26_c  AU28_c  AU45_c  \n",
       "0     1.0     0.0     0.0     1.0  \n",
       "1     1.0     0.0     0.0     1.0  \n",
       "\n",
       "[2 rows x 40 columns]"
      ]
     },
     "execution_count": 4,
     "metadata": {},
     "output_type": "execute_result"
    }
   ],
   "source": [
    "video1_df.head(2)"
   ]
  },
  {
   "cell_type": "code",
   "execution_count": 18,
   "id": "d8c24321-f358-456d-a1ea-3cb5c7a5a834",
   "metadata": {},
   "outputs": [
    {
     "data": {
      "text/html": [
       "<div>\n",
       "<style scoped>\n",
       "    .dataframe tbody tr th:only-of-type {\n",
       "        vertical-align: middle;\n",
       "    }\n",
       "\n",
       "    .dataframe tbody tr th {\n",
       "        vertical-align: top;\n",
       "    }\n",
       "\n",
       "    .dataframe thead th {\n",
       "        text-align: right;\n",
       "    }\n",
       "</style>\n",
       "<table border=\"1\" class=\"dataframe\">\n",
       "  <thead>\n",
       "    <tr style=\"text-align: right;\">\n",
       "      <th></th>\n",
       "      <th>frame</th>\n",
       "      <th>face_id</th>\n",
       "      <th>timestamp</th>\n",
       "      <th>confidence</th>\n",
       "      <th>success</th>\n",
       "      <th>AU01_r</th>\n",
       "      <th>AU02_r</th>\n",
       "      <th>AU04_r</th>\n",
       "      <th>AU05_r</th>\n",
       "      <th>AU06_r</th>\n",
       "      <th>...</th>\n",
       "      <th>AU12_c</th>\n",
       "      <th>AU14_c</th>\n",
       "      <th>AU15_c</th>\n",
       "      <th>AU17_c</th>\n",
       "      <th>AU20_c</th>\n",
       "      <th>AU23_c</th>\n",
       "      <th>AU25_c</th>\n",
       "      <th>AU26_c</th>\n",
       "      <th>AU28_c</th>\n",
       "      <th>AU45_c</th>\n",
       "    </tr>\n",
       "  </thead>\n",
       "  <tbody>\n",
       "    <tr>\n",
       "      <th>0</th>\n",
       "      <td>1</td>\n",
       "      <td>0</td>\n",
       "      <td>0.000</td>\n",
       "      <td>0.93</td>\n",
       "      <td>1</td>\n",
       "      <td>0.42</td>\n",
       "      <td>0.00</td>\n",
       "      <td>0.17</td>\n",
       "      <td>0.0</td>\n",
       "      <td>0.35</td>\n",
       "      <td>...</td>\n",
       "      <td>0.0</td>\n",
       "      <td>1.0</td>\n",
       "      <td>0.0</td>\n",
       "      <td>1.0</td>\n",
       "      <td>1.0</td>\n",
       "      <td>0.0</td>\n",
       "      <td>0.0</td>\n",
       "      <td>0.0</td>\n",
       "      <td>0.0</td>\n",
       "      <td>0.0</td>\n",
       "    </tr>\n",
       "    <tr>\n",
       "      <th>1</th>\n",
       "      <td>2</td>\n",
       "      <td>0</td>\n",
       "      <td>0.033</td>\n",
       "      <td>0.98</td>\n",
       "      <td>1</td>\n",
       "      <td>0.35</td>\n",
       "      <td>0.03</td>\n",
       "      <td>0.06</td>\n",
       "      <td>0.0</td>\n",
       "      <td>0.31</td>\n",
       "      <td>...</td>\n",
       "      <td>0.0</td>\n",
       "      <td>1.0</td>\n",
       "      <td>0.0</td>\n",
       "      <td>1.0</td>\n",
       "      <td>0.0</td>\n",
       "      <td>1.0</td>\n",
       "      <td>0.0</td>\n",
       "      <td>0.0</td>\n",
       "      <td>0.0</td>\n",
       "      <td>0.0</td>\n",
       "    </tr>\n",
       "  </tbody>\n",
       "</table>\n",
       "<p>2 rows × 40 columns</p>\n",
       "</div>"
      ],
      "text/plain": [
       "   frame  face_id  timestamp  confidence  success  AU01_r  AU02_r  AU04_r  \\\n",
       "0      1        0      0.000        0.93        1    0.42    0.00    0.17   \n",
       "1      2        0      0.033        0.98        1    0.35    0.03    0.06   \n",
       "\n",
       "   AU05_r  AU06_r  ...  AU12_c  AU14_c  AU15_c  AU17_c  AU20_c  AU23_c  \\\n",
       "0     0.0    0.35  ...     0.0     1.0     0.0     1.0     1.0     0.0   \n",
       "1     0.0    0.31  ...     0.0     1.0     0.0     1.0     0.0     1.0   \n",
       "\n",
       "   AU25_c  AU26_c  AU28_c  AU45_c  \n",
       "0     0.0     0.0     0.0     0.0  \n",
       "1     0.0     0.0     0.0     0.0  \n",
       "\n",
       "[2 rows x 40 columns]"
      ]
     },
     "execution_count": 18,
     "metadata": {},
     "output_type": "execute_result"
    }
   ],
   "source": [
    "video2_df.head(2)"
   ]
  },
  {
   "cell_type": "markdown",
   "id": "f9049a51-bf0d-4bb4-abd0-2c356eb7c5a4",
   "metadata": {},
   "source": [
    "#### 2.2. Dynamic"
   ]
  },
  {
   "cell_type": "code",
   "execution_count": 21,
   "id": "bc9ba967-c9bd-47da-a964-0136a71023cb",
   "metadata": {},
   "outputs": [
    {
     "name": "stdout",
     "output_type": "stream",
     "text": [
      "adjust_brightness + RostoIntensidade-07Setima-Zangado\n",
      "adjust_brightness + RostoIntensidade-04Quarta-Surpresa\n",
      "adjust_brightness + RostoIntensidade-07Setima-Sortudo\n",
      "adjust_brightness + RostoIntensidade-05Quinta-Acalmar\n",
      "adjust_jpeg_quality + RostoIntensidade-07Setima-Zangado\n",
      "adjust_jpeg_quality + RostoIntensidade-04Quarta-Surpresa\n",
      "adjust_jpeg_quality + RostoIntensidade-07Setima-Sortudo\n",
      "adjust_jpeg_quality + RostoIntensidade-05Quinta-Acalmar\n",
      "rgb_to_grayscale + RostoIntensidade-07Setima-Zangado\n",
      "rgb_to_grayscale + RostoIntensidade-04Quarta-Surpresa\n",
      "rgb_to_grayscale + RostoIntensidade-07Setima-Sortudo\n",
      "rgb_to_grayscale + RostoIntensidade-05Quinta-Acalmar\n",
      "rot90 + RostoIntensidade-07Setima-Zangado\n",
      "rot90 + RostoIntensidade-04Quarta-Surpresa\n",
      "rot90 + RostoIntensidade-07Setima-Sortudo\n",
      "rot90 + RostoIntensidade-05Quinta-Acalmar\n"
     ]
    }
   ],
   "source": [
    "videos_df = defaultdict(lambda: defaultdict(str))\n",
    "\n",
    "for aug in augmentations:\n",
    "    for vid in videos:\n",
    "        print(aug,'+',vid)\n",
    "        videos_df[aug][vid] = pd.read_csv(path_base_input+aug+'/'+vid+'/'+vid+'.csv', sep=',')\n",
    "    "
   ]
  },
  {
   "cell_type": "code",
   "execution_count": 8,
   "id": "195acaa4-9b06-4db6-af23-4d37eaaa8c2f",
   "metadata": {},
   "outputs": [],
   "source": [
    "# for key1 in videos_df:\n",
    "#     for key2 in videos_df[key1]:\n",
    "#         print(key1,'+',key2)\n",
    "#         print(videos_df[key1][key2].tail(1))"
   ]
  },
  {
   "cell_type": "markdown",
   "id": "f52ceb54-93f5-484e-8fac-3725bcebfa3a",
   "metadata": {},
   "source": [
    "### 3. Results analysis"
   ]
  },
  {
   "cell_type": "markdown",
   "id": "381d9f4b-9831-4c06-a59b-479d7b84c465",
   "metadata": {
    "jp-MarkdownHeadingCollapsed": true,
    "tags": []
   },
   "source": [
    "#### 3.1. Were all frames succesfully tracked?"
   ]
  },
  {
   "cell_type": "markdown",
   "id": "e705ef01-dd7e-454a-90f6-4fbf77fd31aa",
   "metadata": {
    "jp-MarkdownHeadingCollapsed": true,
    "tags": []
   },
   "source": [
    "##### 3.1.1. Fixed\n",
    "Yes!"
   ]
  },
  {
   "cell_type": "code",
   "execution_count": 6,
   "id": "e2f6b74d-cf85-4d05-b75b-992de76f9e6e",
   "metadata": {},
   "outputs": [
    {
     "name": "stdout",
     "output_type": "stream",
     "text": [
      "Sucesses Video 1: (array([1]), array([85]))\n",
      "Sucesses Video 2: (array([1]), array([112]))\n"
     ]
    }
   ],
   "source": [
    "v1_success = video1_df['success'].values\n",
    "v2_success = video2_df['success'].values\n",
    "\n",
    "print('Sucesses Video 1:', np.unique(v1_success, return_counts=True))\n",
    "print('Sucesses Video 2:', np.unique(v2_success, return_counts=True))"
   ]
  },
  {
   "cell_type": "markdown",
   "id": "b35f48f2-a191-40b7-9963-3473d545b5d7",
   "metadata": {
    "jp-MarkdownHeadingCollapsed": true,
    "tags": []
   },
   "source": [
    "##### 3.1.2. Dynamic\n",
    "\n",
    "Yes in all augmentations, except in rotation 90, where the most part of the frames were not sucessfully tracked."
   ]
  },
  {
   "cell_type": "code",
   "execution_count": 4,
   "id": "c74495ac-3079-47e7-a78b-a417d9bba7bb",
   "metadata": {},
   "outputs": [
    {
     "name": "stdout",
     "output_type": "stream",
     "text": [
      "Sucesses Video  adjust_brightness RostoIntensidade-07Setima-Zangado (array([1]), array([74]))\n",
      "Sucesses Video  adjust_brightness RostoIntensidade-04Quarta-Surpresa (array([1]), array([52]))\n",
      "Sucesses Video  adjust_brightness RostoIntensidade-07Setima-Sortudo (array([1]), array([85]))\n",
      "Sucesses Video  adjust_brightness RostoIntensidade-05Quinta-Acalmar (array([1]), array([112]))\n",
      "Sucesses Video  adjust_jpeg_quality RostoIntensidade-07Setima-Zangado (array([1]), array([74]))\n",
      "Sucesses Video  adjust_jpeg_quality RostoIntensidade-04Quarta-Surpresa (array([1]), array([52]))\n",
      "Sucesses Video  adjust_jpeg_quality RostoIntensidade-07Setima-Sortudo (array([1]), array([85]))\n",
      "Sucesses Video  adjust_jpeg_quality RostoIntensidade-05Quinta-Acalmar (array([1]), array([112]))\n",
      "Sucesses Video  rgb_to_grayscale RostoIntensidade-07Setima-Zangado (array([1]), array([74]))\n",
      "Sucesses Video  rgb_to_grayscale RostoIntensidade-04Quarta-Surpresa (array([1]), array([52]))\n",
      "Sucesses Video  rgb_to_grayscale RostoIntensidade-07Setima-Sortudo (array([1]), array([85]))\n",
      "Sucesses Video  rgb_to_grayscale RostoIntensidade-05Quinta-Acalmar (array([1]), array([112]))\n",
      "Sucesses Video  rot90 RostoIntensidade-07Setima-Zangado (array([0, 1]), array([73,  1]))\n",
      "Sucesses Video  rot90 RostoIntensidade-04Quarta-Surpresa (array([0, 1]), array([50,  2]))\n",
      "Sucesses Video  rot90 RostoIntensidade-07Setima-Sortudo (array([0]), array([85]))\n",
      "Sucesses Video  rot90 RostoIntensidade-05Quinta-Acalmar (array([0]), array([112]))\n"
     ]
    }
   ],
   "source": [
    "for key1 in videos_df:\n",
    "    for key2 in videos_df[key1]:\n",
    "        print('Sucesses Video ',key1,key2, np.unique(videos_df[key1][key2]['success'].values, return_counts=True))"
   ]
  },
  {
   "cell_type": "markdown",
   "id": "65712a03-8002-446a-9be6-b51d90100280",
   "metadata": {
    "jp-MarkdownHeadingCollapsed": true,
    "tags": []
   },
   "source": [
    "#### 3.2. Which are the largest and the smaller confidences?"
   ]
  },
  {
   "cell_type": "markdown",
   "id": "57c39489-53d9-492c-8e99-64b29c2458cf",
   "metadata": {
    "jp-MarkdownHeadingCollapsed": true,
    "tags": []
   },
   "source": [
    "##### 3.2.1. Fixed"
   ]
  },
  {
   "cell_type": "code",
   "execution_count": 7,
   "id": "ef455cd5-36d8-41b7-bf17-416c0af06a0c",
   "metadata": {},
   "outputs": [
    {
     "name": "stdout",
     "output_type": "stream",
     "text": [
      "Video 1 - max conf. =  0.98 min conf. =  0.88\n",
      "Video 2 - max conf. =  0.98 min conf. =  0.93\n"
     ]
    }
   ],
   "source": [
    "print('Video 1 - max conf. = ', np.max(video1_df['confidence'].values), 'min conf. = ', np.min(video1_df['confidence'].values))\n",
    "print('Video 2 - max conf. = ', np.max(video2_df['confidence'].values), 'min conf. = ', np.min(video2_df['confidence'].values))"
   ]
  },
  {
   "cell_type": "markdown",
   "id": "6c8c26f7-c749-45db-a53a-2544be283eef",
   "metadata": {
    "jp-MarkdownHeadingCollapsed": true,
    "tags": []
   },
   "source": [
    "##### 3.2.2. Dynamic"
   ]
  },
  {
   "cell_type": "code",
   "execution_count": 5,
   "id": "9dd11ece-6830-46d2-bd08-d5213953df04",
   "metadata": {},
   "outputs": [
    {
     "name": "stdout",
     "output_type": "stream",
     "text": [
      "Video adjust_brightness RostoIntensidade-07Setima-Zangado max conf. = 0.98 min conf. =  0.93\n",
      "Video adjust_brightness RostoIntensidade-04Quarta-Surpresa max conf. = 0.98 min conf. =  0.88\n",
      "Video adjust_brightness RostoIntensidade-07Setima-Sortudo max conf. = 0.98 min conf. =  0.88\n",
      "Video adjust_brightness RostoIntensidade-05Quinta-Acalmar max conf. = 0.93 min conf. =  0.88\n",
      "Video adjust_jpeg_quality RostoIntensidade-07Setima-Zangado max conf. = 0.98 min conf. =  0.98\n",
      "Video adjust_jpeg_quality RostoIntensidade-04Quarta-Surpresa max conf. = 0.98 min conf. =  0.88\n",
      "Video adjust_jpeg_quality RostoIntensidade-07Setima-Sortudo max conf. = 0.98 min conf. =  0.88\n",
      "Video adjust_jpeg_quality RostoIntensidade-05Quinta-Acalmar max conf. = 0.98 min conf. =  0.93\n",
      "Video rgb_to_grayscale RostoIntensidade-07Setima-Zangado max conf. = 0.98 min conf. =  0.98\n",
      "Video rgb_to_grayscale RostoIntensidade-04Quarta-Surpresa max conf. = 0.98 min conf. =  0.88\n",
      "Video rgb_to_grayscale RostoIntensidade-07Setima-Sortudo max conf. = 0.98 min conf. =  0.88\n",
      "Video rgb_to_grayscale RostoIntensidade-05Quinta-Acalmar max conf. = 0.98 min conf. =  0.93\n",
      "Video rot90 RostoIntensidade-07Setima-Zangado max conf. = 0.68 min conf. =  0.0\n",
      "Video rot90 RostoIntensidade-04Quarta-Surpresa max conf. = 0.82 min conf. =  0.0\n",
      "Video rot90 RostoIntensidade-07Setima-Sortudo max conf. = 0.0 min conf. =  0.0\n",
      "Video rot90 RostoIntensidade-05Quinta-Acalmar max conf. = 0.0 min conf. =  0.0\n"
     ]
    }
   ],
   "source": [
    "for key1 in videos_df:\n",
    "    for key2 in videos_df[key1]:\n",
    "        confidence = videos_df[key1][key2]['confidence'].values\n",
    "        print('Video',key1,key2,'max conf. =', np.max(confidence), 'min conf. = ', np.min(confidence))\n",
    "        "
   ]
  },
  {
   "cell_type": "markdown",
   "id": "ce5fd676-e93b-4ce6-ba1d-31f9e4de2215",
   "metadata": {
    "tags": []
   },
   "source": [
    "#### 3.3. Which AUs were detected in the selected frames?"
   ]
  },
  {
   "cell_type": "markdown",
   "id": "91e47f29-0a4c-4e3c-883b-82fd31832085",
   "metadata": {
    "jp-MarkdownHeadingCollapsed": true,
    "tags": []
   },
   "source": [
    "##### 3.3.1. Fixed"
   ]
  },
  {
   "cell_type": "code",
   "execution_count": 19,
   "id": "fa2bfd03-876e-44c9-a962-c3d3dfd7e643",
   "metadata": {},
   "outputs": [],
   "source": [
    "video1_s_frames = [4,21,48,68,74,84]\n",
    "video2_s_frames = [20,40,54,56,69,81]"
   ]
  },
  {
   "cell_type": "markdown",
   "id": "e314058d-01d5-4a34-80f5-b57949991752",
   "metadata": {
    "tags": []
   },
   "source": [
    "###### 3.3.1.1. According to classification"
   ]
  },
  {
   "cell_type": "code",
   "execution_count": 20,
   "id": "8bda4f81-d890-4a9a-a58f-c7ff7ad692ce",
   "metadata": {},
   "outputs": [
    {
     "name": "stdout",
     "output_type": "stream",
     "text": [
      "['frame', 'AU01_c', 'AU02_c', 'AU04_c', 'AU05_c', 'AU06_c', 'AU07_c', 'AU09_c', 'AU10_c', 'AU12_c', 'AU14_c', 'AU15_c', 'AU17_c', 'AU20_c', 'AU23_c', 'AU25_c', 'AU26_c', 'AU28_c', 'AU45_c']\n"
     ]
    }
   ],
   "source": [
    "#https://pandas.pydata.org/docs/getting_started/intro_tutorials/03_subset_data.html\n",
    "#Select rows given the selected frames\n",
    "vid1_s_rows = video1_df[video1_df['frame'].isin(video1_s_frames)]\n",
    "vid2_s_rows = video2_df[video2_df['frame'].isin(video2_s_frames)]\n",
    "\n",
    "#Select the AU_c columns\n",
    "cols = [video1_df.columns[0]]+ list(video1_df.columns[-18:])\n",
    "vid1_s_rows = vid1_s_rows[cols]\n",
    "vid2_s_rows = vid2_s_rows[cols]\n",
    "\n",
    "print(cols)"
   ]
  },
  {
   "cell_type": "code",
   "execution_count": 11,
   "id": "251124e4-f421-4547-8182-d7c14344cc3a",
   "metadata": {},
   "outputs": [],
   "source": [
    "vid1_aus = {}\n",
    "for id, r in vid1_s_rows.iterrows():\n",
    "    v = r.values[1:]\n",
    "    vid1_aus[int(r.values[0])] = list(compress(cols[1:], v))"
   ]
  },
  {
   "cell_type": "code",
   "execution_count": 12,
   "id": "49d61fb6-329b-4511-a6a6-452ca65ecdc6",
   "metadata": {},
   "outputs": [
    {
     "data": {
      "text/plain": [
       "{4: ['AU04_c', 'AU10_c', 'AU14_c', 'AU25_c', 'AU45_c'],\n",
       " 21: ['AU05_c', 'AU10_c'],\n",
       " 48: ['AU05_c', 'AU10_c', 'AU23_c'],\n",
       " 68: ['AU04_c', 'AU07_c', 'AU10_c', 'AU14_c', 'AU23_c'],\n",
       " 74: ['AU04_c', 'AU06_c', 'AU10_c', 'AU14_c', 'AU23_c', 'AU45_c'],\n",
       " 84: ['AU06_c', 'AU09_c', 'AU10_c', 'AU14_c', 'AU25_c', 'AU26_c', 'AU45_c']}"
      ]
     },
     "execution_count": 12,
     "metadata": {},
     "output_type": "execute_result"
    }
   ],
   "source": [
    "vid1_aus"
   ]
  },
  {
   "cell_type": "code",
   "execution_count": 15,
   "id": "f3ee8a2f-89d6-40f1-99c9-37b4793fea63",
   "metadata": {},
   "outputs": [],
   "source": [
    "vid2_aus = {}\n",
    "for id, r in vid2_s_rows.iterrows():\n",
    "    v = r.values[1:]\n",
    "    vid2_aus[int(r.values[0])] = list(compress(cols[1:], v))"
   ]
  },
  {
   "cell_type": "code",
   "execution_count": 16,
   "id": "14a8ad61-8495-4d28-af9a-f06b9921708c",
   "metadata": {},
   "outputs": [
    {
     "data": {
      "text/plain": [
       "{20: ['AU06_c', 'AU07_c', 'AU12_c'],\n",
       " 40: ['AU06_c', 'AU10_c', 'AU14_c'],\n",
       " 54: ['AU06_c', 'AU07_c', 'AU10_c', 'AU12_c', 'AU25_c'],\n",
       " 56: ['AU06_c', 'AU07_c', 'AU10_c', 'AU12_c', 'AU25_c'],\n",
       " 69: ['AU06_c', 'AU10_c', 'AU12_c', 'AU14_c', 'AU25_c'],\n",
       " 81: ['AU04_c', 'AU06_c', 'AU10_c', 'AU12_c', 'AU14_c', 'AU23_c']}"
      ]
     },
     "execution_count": 16,
     "metadata": {},
     "output_type": "execute_result"
    }
   ],
   "source": [
    "vid2_aus"
   ]
  },
  {
   "cell_type": "markdown",
   "id": "654f22ba-8f89-4177-876f-4ec2fea1e00d",
   "metadata": {
    "jp-MarkdownHeadingCollapsed": true,
    "tags": []
   },
   "source": [
    "###### 3.3.1.2. According to regression"
   ]
  },
  {
   "cell_type": "code",
   "execution_count": null,
   "id": "1825be9b-186a-4715-86f4-88b18d4fabc1",
   "metadata": {},
   "outputs": [],
   "source": []
  },
  {
   "cell_type": "code",
   "execution_count": 22,
   "id": "d76a934d-7e4f-4d9f-88c4-e6af81ebb34d",
   "metadata": {},
   "outputs": [
    {
     "name": "stdout",
     "output_type": "stream",
     "text": [
      "['frame', 'AU01_r', 'AU02_r', 'AU04_r', 'AU05_r', 'AU06_r', 'AU07_r', 'AU09_r', 'AU10_r', 'AU12_r', 'AU14_r', 'AU15_r', 'AU17_r', 'AU20_r', 'AU23_r', 'AU25_r', 'AU26_r', 'AU45_r']\n"
     ]
    }
   ],
   "source": [
    "#https://pandas.pydata.org/docs/getting_started/intro_tutorials/03_subset_data.html\n",
    "#Select rows given the selected frames\n",
    "vid1_s_rows = video1_df[video1_df['frame'].isin(video1_s_frames)]\n",
    "vid2_s_rows = video2_df[video2_df['frame'].isin(video2_s_frames)]\n",
    "\n",
    "#Select the AU_c columns\n",
    "cols = [video1_df.columns[0]]+ list(video1_df.columns[5:22])\n",
    "vid1_s_rows = vid1_s_rows[cols]\n",
    "vid2_s_rows = vid2_s_rows[cols]\n",
    "\n",
    "print(cols)"
   ]
  },
  {
   "cell_type": "code",
   "execution_count": 23,
   "id": "b6273afd-6d03-487c-a7cd-95beeb368a3a",
   "metadata": {},
   "outputs": [],
   "source": [
    "vid1_aus_r = {}\n",
    "for id, r in vid1_s_rows.iterrows():\n",
    "    v = r.values[1:]\n",
    "    vid1_aus_r[int(r.values[0])] = list(compress(cols[1:], v))"
   ]
  },
  {
   "cell_type": "code",
   "execution_count": 25,
   "id": "45afea58-60e4-46f2-85cc-edd19273e154",
   "metadata": {},
   "outputs": [
    {
     "data": {
      "text/html": [
       "<div>\n",
       "<style scoped>\n",
       "    .dataframe tbody tr th:only-of-type {\n",
       "        vertical-align: middle;\n",
       "    }\n",
       "\n",
       "    .dataframe tbody tr th {\n",
       "        vertical-align: top;\n",
       "    }\n",
       "\n",
       "    .dataframe thead th {\n",
       "        text-align: right;\n",
       "    }\n",
       "</style>\n",
       "<table border=\"1\" class=\"dataframe\">\n",
       "  <thead>\n",
       "    <tr style=\"text-align: right;\">\n",
       "      <th></th>\n",
       "      <th>frame</th>\n",
       "      <th>AU01_r</th>\n",
       "      <th>AU02_r</th>\n",
       "      <th>AU04_r</th>\n",
       "      <th>AU05_r</th>\n",
       "      <th>AU06_r</th>\n",
       "      <th>AU07_r</th>\n",
       "      <th>AU09_r</th>\n",
       "      <th>AU10_r</th>\n",
       "      <th>AU12_r</th>\n",
       "      <th>AU14_r</th>\n",
       "      <th>AU15_r</th>\n",
       "      <th>AU17_r</th>\n",
       "      <th>AU20_r</th>\n",
       "      <th>AU23_r</th>\n",
       "      <th>AU25_r</th>\n",
       "      <th>AU26_r</th>\n",
       "      <th>AU45_r</th>\n",
       "    </tr>\n",
       "  </thead>\n",
       "  <tbody>\n",
       "    <tr>\n",
       "      <th>3</th>\n",
       "      <td>4</td>\n",
       "      <td>0.16</td>\n",
       "      <td>0.00</td>\n",
       "      <td>2.14</td>\n",
       "      <td>0.00</td>\n",
       "      <td>0.27</td>\n",
       "      <td>0.76</td>\n",
       "      <td>0.00</td>\n",
       "      <td>0.00</td>\n",
       "      <td>0.0</td>\n",
       "      <td>0.00</td>\n",
       "      <td>0.89</td>\n",
       "      <td>0.00</td>\n",
       "      <td>0.09</td>\n",
       "      <td>0.00</td>\n",
       "      <td>0.56</td>\n",
       "      <td>1.64</td>\n",
       "      <td>0.12</td>\n",
       "    </tr>\n",
       "    <tr>\n",
       "      <th>10</th>\n",
       "      <td>11</td>\n",
       "      <td>0.00</td>\n",
       "      <td>0.15</td>\n",
       "      <td>1.27</td>\n",
       "      <td>0.00</td>\n",
       "      <td>0.09</td>\n",
       "      <td>0.56</td>\n",
       "      <td>0.00</td>\n",
       "      <td>0.01</td>\n",
       "      <td>0.0</td>\n",
       "      <td>0.00</td>\n",
       "      <td>0.28</td>\n",
       "      <td>0.74</td>\n",
       "      <td>0.00</td>\n",
       "      <td>0.00</td>\n",
       "      <td>1.22</td>\n",
       "      <td>2.87</td>\n",
       "      <td>0.33</td>\n",
       "    </tr>\n",
       "    <tr>\n",
       "      <th>23</th>\n",
       "      <td>24</td>\n",
       "      <td>0.00</td>\n",
       "      <td>0.00</td>\n",
       "      <td>1.53</td>\n",
       "      <td>0.14</td>\n",
       "      <td>0.00</td>\n",
       "      <td>0.06</td>\n",
       "      <td>0.02</td>\n",
       "      <td>0.20</td>\n",
       "      <td>0.0</td>\n",
       "      <td>0.04</td>\n",
       "      <td>0.09</td>\n",
       "      <td>1.14</td>\n",
       "      <td>0.24</td>\n",
       "      <td>0.32</td>\n",
       "      <td>0.48</td>\n",
       "      <td>0.61</td>\n",
       "      <td>0.00</td>\n",
       "    </tr>\n",
       "    <tr>\n",
       "      <th>41</th>\n",
       "      <td>42</td>\n",
       "      <td>0.00</td>\n",
       "      <td>0.00</td>\n",
       "      <td>1.39</td>\n",
       "      <td>0.00</td>\n",
       "      <td>0.00</td>\n",
       "      <td>0.00</td>\n",
       "      <td>0.12</td>\n",
       "      <td>0.64</td>\n",
       "      <td>0.0</td>\n",
       "      <td>0.00</td>\n",
       "      <td>0.00</td>\n",
       "      <td>0.44</td>\n",
       "      <td>0.00</td>\n",
       "      <td>0.28</td>\n",
       "      <td>0.02</td>\n",
       "      <td>0.15</td>\n",
       "      <td>0.00</td>\n",
       "    </tr>\n",
       "    <tr>\n",
       "      <th>43</th>\n",
       "      <td>44</td>\n",
       "      <td>0.00</td>\n",
       "      <td>0.00</td>\n",
       "      <td>1.31</td>\n",
       "      <td>0.00</td>\n",
       "      <td>0.00</td>\n",
       "      <td>0.00</td>\n",
       "      <td>0.10</td>\n",
       "      <td>0.64</td>\n",
       "      <td>0.0</td>\n",
       "      <td>0.00</td>\n",
       "      <td>0.04</td>\n",
       "      <td>0.71</td>\n",
       "      <td>0.00</td>\n",
       "      <td>0.26</td>\n",
       "      <td>0.01</td>\n",
       "      <td>0.25</td>\n",
       "      <td>0.00</td>\n",
       "    </tr>\n",
       "    <tr>\n",
       "      <th>63</th>\n",
       "      <td>64</td>\n",
       "      <td>0.51</td>\n",
       "      <td>0.18</td>\n",
       "      <td>0.63</td>\n",
       "      <td>0.00</td>\n",
       "      <td>0.00</td>\n",
       "      <td>0.00</td>\n",
       "      <td>0.00</td>\n",
       "      <td>0.00</td>\n",
       "      <td>0.0</td>\n",
       "      <td>0.00</td>\n",
       "      <td>0.39</td>\n",
       "      <td>0.11</td>\n",
       "      <td>0.00</td>\n",
       "      <td>0.00</td>\n",
       "      <td>0.45</td>\n",
       "      <td>1.28</td>\n",
       "      <td>0.39</td>\n",
       "    </tr>\n",
       "  </tbody>\n",
       "</table>\n",
       "</div>"
      ],
      "text/plain": [
       "    frame  AU01_r  AU02_r  AU04_r  AU05_r  AU06_r  AU07_r  AU09_r  AU10_r  \\\n",
       "3       4    0.16    0.00    2.14    0.00    0.27    0.76    0.00    0.00   \n",
       "10     11    0.00    0.15    1.27    0.00    0.09    0.56    0.00    0.01   \n",
       "23     24    0.00    0.00    1.53    0.14    0.00    0.06    0.02    0.20   \n",
       "41     42    0.00    0.00    1.39    0.00    0.00    0.00    0.12    0.64   \n",
       "43     44    0.00    0.00    1.31    0.00    0.00    0.00    0.10    0.64   \n",
       "63     64    0.51    0.18    0.63    0.00    0.00    0.00    0.00    0.00   \n",
       "\n",
       "    AU12_r  AU14_r  AU15_r  AU17_r  AU20_r  AU23_r  AU25_r  AU26_r  AU45_r  \n",
       "3      0.0    0.00    0.89    0.00    0.09    0.00    0.56    1.64    0.12  \n",
       "10     0.0    0.00    0.28    0.74    0.00    0.00    1.22    2.87    0.33  \n",
       "23     0.0    0.04    0.09    1.14    0.24    0.32    0.48    0.61    0.00  \n",
       "41     0.0    0.00    0.00    0.44    0.00    0.28    0.02    0.15    0.00  \n",
       "43     0.0    0.00    0.04    0.71    0.00    0.26    0.01    0.25    0.00  \n",
       "63     0.0    0.00    0.39    0.11    0.00    0.00    0.45    1.28    0.39  "
      ]
     },
     "execution_count": 25,
     "metadata": {},
     "output_type": "execute_result"
    }
   ],
   "source": [
    "vid1_s_rows"
   ]
  },
  {
   "cell_type": "code",
   "execution_count": 24,
   "id": "e34af0a8-9255-44bd-a567-8a7579e72122",
   "metadata": {},
   "outputs": [
    {
     "data": {
      "text/plain": [
       "{4: ['AU01_r',\n",
       "  'AU04_r',\n",
       "  'AU06_r',\n",
       "  'AU07_r',\n",
       "  'AU15_r',\n",
       "  'AU20_r',\n",
       "  'AU25_r',\n",
       "  'AU26_r',\n",
       "  'AU45_r'],\n",
       " 11: ['AU02_r',\n",
       "  'AU04_r',\n",
       "  'AU06_r',\n",
       "  'AU07_r',\n",
       "  'AU10_r',\n",
       "  'AU15_r',\n",
       "  'AU17_r',\n",
       "  'AU25_r',\n",
       "  'AU26_r',\n",
       "  'AU45_r'],\n",
       " 24: ['AU04_r',\n",
       "  'AU05_r',\n",
       "  'AU07_r',\n",
       "  'AU09_r',\n",
       "  'AU10_r',\n",
       "  'AU14_r',\n",
       "  'AU15_r',\n",
       "  'AU17_r',\n",
       "  'AU20_r',\n",
       "  'AU23_r',\n",
       "  'AU25_r',\n",
       "  'AU26_r'],\n",
       " 42: ['AU04_r', 'AU09_r', 'AU10_r', 'AU17_r', 'AU23_r', 'AU25_r', 'AU26_r'],\n",
       " 44: ['AU04_r',\n",
       "  'AU09_r',\n",
       "  'AU10_r',\n",
       "  'AU15_r',\n",
       "  'AU17_r',\n",
       "  'AU23_r',\n",
       "  'AU25_r',\n",
       "  'AU26_r'],\n",
       " 64: ['AU01_r',\n",
       "  'AU02_r',\n",
       "  'AU04_r',\n",
       "  'AU15_r',\n",
       "  'AU17_r',\n",
       "  'AU25_r',\n",
       "  'AU26_r',\n",
       "  'AU45_r']}"
      ]
     },
     "execution_count": 24,
     "metadata": {},
     "output_type": "execute_result"
    }
   ],
   "source": [
    "vid1_aus_r"
   ]
  },
  {
   "cell_type": "code",
   "execution_count": null,
   "id": "4da9eb6f-61d4-4cf8-b862-11e55f120dc5",
   "metadata": {},
   "outputs": [],
   "source": [
    "vid2_aus_r = {}\n",
    "for id, r in vid2_s_rows.iterrows():\n",
    "    v = r.values[1:]\n",
    "    vid2_aus_r[int(r.values[0])] = list(compress(cols[1:], v))"
   ]
  },
  {
   "cell_type": "markdown",
   "id": "b13f0818-cec1-49f2-84b3-8825c569c9c2",
   "metadata": {},
   "source": [
    "##### 3.2.1. Dynamic"
   ]
  },
  {
   "cell_type": "code",
   "execution_count": 22,
   "id": "46bb73c6-8438-4516-a176-2bd107dfda2b",
   "metadata": {},
   "outputs": [],
   "source": [
    "frames_zangado = [4, 11, 24, 42, 44, 64]\n",
    "frames_surpresa = [5, 7, 16, 26, 30, 50]\n",
    "frames_sortudo = [4, 21, 48, 68, 74, 84]\n",
    "frames_acalmar = [20, 40, 54, 56, 69, 81]\n",
    "\n",
    "frames_selected = {\n",
    "    'Zangado' : frames_zangado,\n",
    "    'Surpresa' : frames_surpresa,\n",
    "    'Sortudo' : frames_sortudo,\n",
    "    'Acalmar' : frames_acalmar\n",
    "}"
   ]
  },
  {
   "cell_type": "code",
   "execution_count": 23,
   "id": "bb9aebdb-090e-46f2-a23b-da9b35b8b878",
   "metadata": {},
   "outputs": [
    {
     "name": "stdout",
     "output_type": "stream",
     "text": [
      "adjust_brightness RostoIntensidade-07Setima-Zangado\n",
      "Zangado\n",
      "adjust_brightness RostoIntensidade-04Quarta-Surpresa\n",
      "Surpresa\n",
      "adjust_brightness RostoIntensidade-07Setima-Sortudo\n",
      "Sortudo\n",
      "adjust_brightness RostoIntensidade-05Quinta-Acalmar\n",
      "Acalmar\n",
      "adjust_jpeg_quality RostoIntensidade-07Setima-Zangado\n",
      "Zangado\n",
      "adjust_jpeg_quality RostoIntensidade-04Quarta-Surpresa\n",
      "Surpresa\n",
      "adjust_jpeg_quality RostoIntensidade-07Setima-Sortudo\n",
      "Sortudo\n",
      "adjust_jpeg_quality RostoIntensidade-05Quinta-Acalmar\n",
      "Acalmar\n",
      "rgb_to_grayscale RostoIntensidade-07Setima-Zangado\n",
      "Zangado\n",
      "rgb_to_grayscale RostoIntensidade-04Quarta-Surpresa\n",
      "Surpresa\n",
      "rgb_to_grayscale RostoIntensidade-07Setima-Sortudo\n",
      "Sortudo\n",
      "rgb_to_grayscale RostoIntensidade-05Quinta-Acalmar\n",
      "Acalmar\n",
      "rot90 RostoIntensidade-07Setima-Zangado\n",
      "Zangado\n",
      "rot90 RostoIntensidade-04Quarta-Surpresa\n",
      "Surpresa\n",
      "rot90 RostoIntensidade-07Setima-Sortudo\n",
      "Sortudo\n",
      "rot90 RostoIntensidade-05Quinta-Acalmar\n",
      "Acalmar\n"
     ]
    }
   ],
   "source": [
    "videos_rows = defaultdict(lambda: defaultdict(str))\n",
    "\n",
    "for aug_key in videos_df:\n",
    "    for vid_key in videos_df[aug_key]:\n",
    "        print(aug_key, vid_key)\n",
    "        #Select rows given the selected frames\n",
    "        aux_split = vid_key.split('-')[-1]\n",
    "        print(aux_split)\n",
    "        videos_rows[aug_key][vid_key] = videos_df[aug_key][vid_key][videos_df[aug_key][vid_key]['frame'].isin(frames_selected[aux_split])]\n",
    "        #Select the AU_c columns\n",
    "        cols = [videos_df[aug_key][vid_key].columns[0]]+ list(videos_df[aug_key][vid_key].columns[-18:])\n",
    "        videos_rows[aug_key][vid_key] = videos_rows[aug_key][vid_key][cols]\n",
    "        # print(cols)"
   ]
  },
  {
   "cell_type": "code",
   "execution_count": 24,
   "id": "97154a23-3e16-47e4-864e-b4041dad7e48",
   "metadata": {},
   "outputs": [],
   "source": [
    "# for key1 in videos_rows:\n",
    "#     for key2 in videos_rows[key1]:\n",
    "#         print(key1,key2)\n",
    "#         print(videos_rows[key1][key2])"
   ]
  },
  {
   "cell_type": "code",
   "execution_count": 24,
   "id": "4634076f-1fdf-410d-8052-3a13c29ce5f0",
   "metadata": {},
   "outputs": [
    {
     "name": "stdout",
     "output_type": "stream",
     "text": [
      "adjust_brightness_RostoIntensidade-07Setima-Zangado\n",
      "adjust_brightness_RostoIntensidade-04Quarta-Surpresa\n",
      "adjust_brightness_RostoIntensidade-07Setima-Sortudo\n",
      "adjust_brightness_RostoIntensidade-05Quinta-Acalmar\n",
      "adjust_jpeg_quality_RostoIntensidade-07Setima-Zangado\n",
      "adjust_jpeg_quality_RostoIntensidade-04Quarta-Surpresa\n",
      "adjust_jpeg_quality_RostoIntensidade-07Setima-Sortudo\n",
      "adjust_jpeg_quality_RostoIntensidade-05Quinta-Acalmar\n",
      "rgb_to_grayscale_RostoIntensidade-07Setima-Zangado\n",
      "rgb_to_grayscale_RostoIntensidade-04Quarta-Surpresa\n",
      "rgb_to_grayscale_RostoIntensidade-07Setima-Sortudo\n",
      "rgb_to_grayscale_RostoIntensidade-05Quinta-Acalmar\n",
      "rot90_RostoIntensidade-07Setima-Zangado\n",
      "rot90_RostoIntensidade-04Quarta-Surpresa\n",
      "rot90_RostoIntensidade-07Setima-Sortudo\n",
      "rot90_RostoIntensidade-05Quinta-Acalmar\n"
     ]
    }
   ],
   "source": [
    "videos_aus = defaultdict(lambda: defaultdict(str))\n",
    "\n",
    "for aug_key in videos_rows:\n",
    "    for vid_key in videos_rows[aug_key]:\n",
    "        print(aug_key+'_'+vid_key)\n",
    "        for id, row in videos_rows[aug_key][vid_key].iterrows():\n",
    "            selector = row.values[1:]\n",
    "            videos_aus[aug_key+'_'+vid_key][int(row.values[0])] = list(compress(cols[1:], selector))"
   ]
  },
  {
   "cell_type": "code",
   "execution_count": 25,
   "id": "3dfef5af-14a7-416a-8a5a-6f6e6df84819",
   "metadata": {},
   "outputs": [
    {
     "name": "stdout",
     "output_type": "stream",
     "text": [
      "*** adjust_brightness_RostoIntensidade-07Setima-Zangado ***\n",
      "*** adjust_brightness_RostoIntensidade-04Quarta-Surpresa ***\n",
      "*** adjust_brightness_RostoIntensidade-07Setima-Sortudo ***\n",
      "*** adjust_brightness_RostoIntensidade-05Quinta-Acalmar ***\n",
      "*** adjust_jpeg_quality_RostoIntensidade-07Setima-Zangado ***\n",
      "*** adjust_jpeg_quality_RostoIntensidade-04Quarta-Surpresa ***\n",
      "*** adjust_jpeg_quality_RostoIntensidade-07Setima-Sortudo ***\n",
      "*** adjust_jpeg_quality_RostoIntensidade-05Quinta-Acalmar ***\n",
      "*** rgb_to_grayscale_RostoIntensidade-07Setima-Zangado ***\n",
      "*** rgb_to_grayscale_RostoIntensidade-04Quarta-Surpresa ***\n",
      "*** rgb_to_grayscale_RostoIntensidade-07Setima-Sortudo ***\n",
      "*** rgb_to_grayscale_RostoIntensidade-05Quinta-Acalmar ***\n",
      "*** rot90_RostoIntensidade-07Setima-Zangado ***\n",
      "*** rot90_RostoIntensidade-04Quarta-Surpresa ***\n",
      "*** rot90_RostoIntensidade-07Setima-Sortudo ***\n",
      "*** rot90_RostoIntensidade-05Quinta-Acalmar ***\n"
     ]
    }
   ],
   "source": [
    "for key1 in videos_aus:\n",
    "    print('***', key1,'***')\n",
    "    pd.DataFrame.from_dict(videos_aus[key1],orient='index').to_csv(path_base_input+'aus/'+key1+'.csv')\n",
    "    "
   ]
  },
  {
   "cell_type": "code",
   "execution_count": null,
   "id": "ff2c64ea-c2c1-4237-9d43-2fde835e9ada",
   "metadata": {},
   "outputs": [],
   "source": []
  }
 ],
 "metadata": {
  "kernelspec": {
   "display_name": "Python 3 (ipykernel)",
   "language": "python",
   "name": "python3"
  },
  "language_info": {
   "codemirror_mode": {
    "name": "ipython",
    "version": 3
   },
   "file_extension": ".py",
   "mimetype": "text/x-python",
   "name": "python",
   "nbconvert_exporter": "python",
   "pygments_lexer": "ipython3",
   "version": "3.7.11"
  }
 },
 "nbformat": 4,
 "nbformat_minor": 5
}
