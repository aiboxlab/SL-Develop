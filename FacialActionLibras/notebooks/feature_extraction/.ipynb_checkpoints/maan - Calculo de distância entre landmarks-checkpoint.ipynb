{
 "cells": [
  {
   "cell_type": "code",
   "execution_count": 1,
   "id": "4d3ce38e",
   "metadata": {},
   "outputs": [
    {
     "name": "stdout",
     "output_type": "stream",
     "text": [
      "Requirement already satisfied: pandas in /home/manoel/miniconda3/envs/mediapipe39/lib/python3.9/site-packages (1.3.3)\n",
      "Requirement already satisfied: numpy>=1.17.3 in /home/manoel/miniconda3/envs/mediapipe39/lib/python3.9/site-packages (from pandas) (1.21.2)\n",
      "Requirement already satisfied: python-dateutil>=2.7.3 in /home/manoel/miniconda3/envs/mediapipe39/lib/python3.9/site-packages (from pandas) (2.8.2)\n",
      "Requirement already satisfied: pytz>=2017.3 in /home/manoel/miniconda3/envs/mediapipe39/lib/python3.9/site-packages (from pandas) (2021.3)\n",
      "Requirement already satisfied: six>=1.5 in /home/manoel/miniconda3/envs/mediapipe39/lib/python3.9/site-packages (from python-dateutil>=2.7.3->pandas) (1.16.0)\n",
      "Note: you may need to restart the kernel to use updated packages.\n"
     ]
    }
   ],
   "source": [
    "pip install pandas"
   ]
  },
  {
   "cell_type": "code",
   "execution_count": 2,
   "id": "ef40ce1a",
   "metadata": {},
   "outputs": [],
   "source": [
    "import csv\n",
    "import pandas as pd\n",
    "import os"
   ]
  },
  {
   "cell_type": "code",
   "execution_count": 3,
   "id": "b97a7809",
   "metadata": {},
   "outputs": [],
   "source": [
    "df_dlib_landmarks = pd.read_csv(\"../../data/processed/dlib/tamires/dlib_landmarks.csv\", sep=\";\")"
   ]
  },
  {
   "cell_type": "code",
   "execution_count": 4,
   "id": "2d15fb6c",
   "metadata": {},
   "outputs": [],
   "source": [
    "df_mediapipe_xy = pd.read_csv(\"../../data/processed/mediapipe/tamires/landmarks_xy.csv\", sep=\";\")"
   ]
  },
  {
   "cell_type": "code",
   "execution_count": 5,
   "id": "7fe86229",
   "metadata": {},
   "outputs": [
    {
     "data": {
      "text/html": [
       "<div>\n",
       "<style scoped>\n",
       "    .dataframe tbody tr th:only-of-type {\n",
       "        vertical-align: middle;\n",
       "    }\n",
       "\n",
       "    .dataframe tbody tr th {\n",
       "        vertical-align: top;\n",
       "    }\n",
       "\n",
       "    .dataframe thead th {\n",
       "        text-align: right;\n",
       "    }\n",
       "</style>\n",
       "<table border=\"1\" class=\"dataframe\">\n",
       "  <thead>\n",
       "    <tr style=\"text-align: right;\">\n",
       "      <th></th>\n",
       "      <th>landmarks</th>\n",
       "    </tr>\n",
       "  </thead>\n",
       "  <tbody>\n",
       "    <tr>\n",
       "      <th>0</th>\n",
       "      <td>[[29, 66], [29, 76], [30, 86], [33, 96], [37, ...</td>\n",
       "    </tr>\n",
       "    <tr>\n",
       "      <th>1</th>\n",
       "      <td>[[29, 66], [29, 76], [30, 86], [33, 96], [37, ...</td>\n",
       "    </tr>\n",
       "    <tr>\n",
       "      <th>2</th>\n",
       "      <td>[[30, 65], [29, 75], [30, 85], [32, 95], [36, ...</td>\n",
       "    </tr>\n",
       "    <tr>\n",
       "      <th>3</th>\n",
       "      <td>[[29, 65], [29, 75], [31, 85], [33, 94], [37, ...</td>\n",
       "    </tr>\n",
       "    <tr>\n",
       "      <th>4</th>\n",
       "      <td>[[29, 65], [30, 75], [30, 85], [32, 94], [36, ...</td>\n",
       "    </tr>\n",
       "    <tr>\n",
       "      <th>...</th>\n",
       "      <td>...</td>\n",
       "    </tr>\n",
       "    <tr>\n",
       "      <th>7627</th>\n",
       "      <td>[[34, 79], [35, 90], [36, 100], [39, 110], [43...</td>\n",
       "    </tr>\n",
       "    <tr>\n",
       "      <th>7628</th>\n",
       "      <td>[[34, 79], [35, 90], [36, 100], [39, 110], [43...</td>\n",
       "    </tr>\n",
       "    <tr>\n",
       "      <th>7629</th>\n",
       "      <td>[[33, 80], [34, 90], [35, 101], [38, 111], [42...</td>\n",
       "    </tr>\n",
       "    <tr>\n",
       "      <th>7630</th>\n",
       "      <td>[[33, 79], [34, 90], [35, 100], [38, 110], [41...</td>\n",
       "    </tr>\n",
       "    <tr>\n",
       "      <th>7631</th>\n",
       "      <td>[[32, 80], [33, 91], [34, 101], [37, 111], [41...</td>\n",
       "    </tr>\n",
       "  </tbody>\n",
       "</table>\n",
       "<p>7632 rows × 1 columns</p>\n",
       "</div>"
      ],
      "text/plain": [
       "                                              landmarks\n",
       "0     [[29, 66], [29, 76], [30, 86], [33, 96], [37, ...\n",
       "1     [[29, 66], [29, 76], [30, 86], [33, 96], [37, ...\n",
       "2     [[30, 65], [29, 75], [30, 85], [32, 95], [36, ...\n",
       "3     [[29, 65], [29, 75], [31, 85], [33, 94], [37, ...\n",
       "4     [[29, 65], [30, 75], [30, 85], [32, 94], [36, ...\n",
       "...                                                 ...\n",
       "7627  [[34, 79], [35, 90], [36, 100], [39, 110], [43...\n",
       "7628  [[34, 79], [35, 90], [36, 100], [39, 110], [43...\n",
       "7629  [[33, 80], [34, 90], [35, 101], [38, 111], [42...\n",
       "7630  [[33, 79], [34, 90], [35, 100], [38, 110], [41...\n",
       "7631  [[32, 80], [33, 91], [34, 101], [37, 111], [41...\n",
       "\n",
       "[7632 rows x 1 columns]"
      ]
     },
     "execution_count": 5,
     "metadata": {},
     "output_type": "execute_result"
    }
   ],
   "source": [
    "df_dlib_landmarks"
   ]
  },
  {
   "cell_type": "code",
   "execution_count": 6,
   "id": "977268e8",
   "metadata": {},
   "outputs": [],
   "source": [
    "df_dlib_landmarks_sample = df_dlib_landmarks[:3]"
   ]
  },
  {
   "cell_type": "code",
   "execution_count": 7,
   "id": "26b70532",
   "metadata": {},
   "outputs": [
    {
     "data": {
      "text/html": [
       "<div>\n",
       "<style scoped>\n",
       "    .dataframe tbody tr th:only-of-type {\n",
       "        vertical-align: middle;\n",
       "    }\n",
       "\n",
       "    .dataframe tbody tr th {\n",
       "        vertical-align: top;\n",
       "    }\n",
       "\n",
       "    .dataframe thead th {\n",
       "        text-align: right;\n",
       "    }\n",
       "</style>\n",
       "<table border=\"1\" class=\"dataframe\">\n",
       "  <thead>\n",
       "    <tr style=\"text-align: right;\">\n",
       "      <th></th>\n",
       "      <th>landmarks</th>\n",
       "    </tr>\n",
       "  </thead>\n",
       "  <tbody>\n",
       "    <tr>\n",
       "      <th>0</th>\n",
       "      <td>[[29, 66], [29, 76], [30, 86], [33, 96], [37, ...</td>\n",
       "    </tr>\n",
       "    <tr>\n",
       "      <th>1</th>\n",
       "      <td>[[29, 66], [29, 76], [30, 86], [33, 96], [37, ...</td>\n",
       "    </tr>\n",
       "    <tr>\n",
       "      <th>2</th>\n",
       "      <td>[[30, 65], [29, 75], [30, 85], [32, 95], [36, ...</td>\n",
       "    </tr>\n",
       "  </tbody>\n",
       "</table>\n",
       "</div>"
      ],
      "text/plain": [
       "                                           landmarks\n",
       "0  [[29, 66], [29, 76], [30, 86], [33, 96], [37, ...\n",
       "1  [[29, 66], [29, 76], [30, 86], [33, 96], [37, ...\n",
       "2  [[30, 65], [29, 75], [30, 85], [32, 95], [36, ..."
      ]
     },
     "execution_count": 7,
     "metadata": {},
     "output_type": "execute_result"
    }
   ],
   "source": [
    "df_dlib_landmarks_sample"
   ]
  },
  {
   "cell_type": "code",
   "execution_count": 8,
   "id": "2c29d935",
   "metadata": {},
   "outputs": [
    {
     "data": {
      "text/html": [
       "<div>\n",
       "<style scoped>\n",
       "    .dataframe tbody tr th:only-of-type {\n",
       "        vertical-align: middle;\n",
       "    }\n",
       "\n",
       "    .dataframe tbody tr th {\n",
       "        vertical-align: top;\n",
       "    }\n",
       "\n",
       "    .dataframe thead th {\n",
       "        text-align: right;\n",
       "    }\n",
       "</style>\n",
       "<table border=\"1\" class=\"dataframe\">\n",
       "  <thead>\n",
       "    <tr style=\"text-align: right;\">\n",
       "      <th></th>\n",
       "      <th>landmarks</th>\n",
       "    </tr>\n",
       "  </thead>\n",
       "  <tbody>\n",
       "    <tr>\n",
       "      <th>0</th>\n",
       "      <td>[[0.5292638540267944, 0.5474205613136292], [0....</td>\n",
       "    </tr>\n",
       "    <tr>\n",
       "      <th>1</th>\n",
       "      <td>[[0.5315911769866943, 0.5401287078857422], [0....</td>\n",
       "    </tr>\n",
       "    <tr>\n",
       "      <th>2</th>\n",
       "      <td>[[0.5333443284034729, 0.539849579334259], [0.5...</td>\n",
       "    </tr>\n",
       "    <tr>\n",
       "      <th>3</th>\n",
       "      <td>[[0.5353459119796753, 0.5288479328155518], [0....</td>\n",
       "    </tr>\n",
       "    <tr>\n",
       "      <th>4</th>\n",
       "      <td>[[0.5324916243553162, 0.5147410035133362], [0....</td>\n",
       "    </tr>\n",
       "  </tbody>\n",
       "</table>\n",
       "</div>"
      ],
      "text/plain": [
       "                                           landmarks\n",
       "0  [[0.5292638540267944, 0.5474205613136292], [0....\n",
       "1  [[0.5315911769866943, 0.5401287078857422], [0....\n",
       "2  [[0.5333443284034729, 0.539849579334259], [0.5...\n",
       "3  [[0.5353459119796753, 0.5288479328155518], [0....\n",
       "4  [[0.5324916243553162, 0.5147410035133362], [0...."
      ]
     },
     "execution_count": 8,
     "metadata": {},
     "output_type": "execute_result"
    }
   ],
   "source": [
    "df_mediapipe_xy.head()"
   ]
  },
  {
   "cell_type": "code",
   "execution_count": 9,
   "id": "7e69188a",
   "metadata": {},
   "outputs": [],
   "source": [
    "df_mediapipe_xy_sample = df_mediapipe_xy[:3]                                         "
   ]
  },
  {
   "cell_type": "code",
   "execution_count": 10,
   "id": "0a99f8a4",
   "metadata": {},
   "outputs": [],
   "source": [
    "import dlib\n",
    "import cv2\n",
    "import mediapipe as mp\n",
    "import numpy as np\n",
    "import math\n",
    "\n",
    "from PIL import Image"
   ]
  },
  {
   "cell_type": "markdown",
   "id": "ee62c88c-693a-414b-954a-c10e04f1308b",
   "metadata": {},
   "source": [
    "# MediaPipe"
   ]
  },
  {
   "cell_type": "code",
   "execution_count": 12,
   "id": "55fbafee",
   "metadata": {},
   "outputs": [],
   "source": [
    "CASCADE_PATH = \"../../models/haarcascade_frontalface_default.xml\"\n",
    "PREDICTOR_PATH = \"../../models/shape_predictor_68_face_landmarks.dat\"\n",
    "INDICESFACE = 68\n",
    "im_s = 96"
   ]
  },
  {
   "cell_type": "code",
   "execution_count": 13,
   "id": "6f14e876",
   "metadata": {},
   "outputs": [],
   "source": [
    "cascade = cv2.CascadeClassifier(CASCADE_PATH)\n",
    "predictor = dlib.shape_predictor(PREDICTOR_PATH)"
   ]
  },
  {
   "cell_type": "code",
   "execution_count": 14,
   "id": "cb810708",
   "metadata": {},
   "outputs": [],
   "source": [
    "def open_img_opencv(img_path):\n",
    "    return cv2.imread(img_path)"
   ]
  },
  {
   "cell_type": "code",
   "execution_count": 15,
   "id": "bcdc1d6a",
   "metadata": {},
   "outputs": [],
   "source": [
    "def get_all_files(data_path):\n",
    "    files_path_list = []\n",
    "    for path, subdirs, files in os.walk(data_path):\n",
    "        for name in files:\n",
    "            if name.endswith(\".jpeg\") or name.endswith(\".jpg\") or name.endswith(\".png\"):\n",
    "                files_path_list.append(os.path.join(path, name))\n",
    "    return files_path_list"
   ]
  },
  {
   "cell_type": "code",
   "execution_count": 16,
   "id": "e1ae35d8",
   "metadata": {},
   "outputs": [],
   "source": [
    "def get_mediapipe_face_mesh(img_lst):\n",
    "    # Run MediaPipe Face Mesh.\n",
    "    faces_landmarks = []\n",
    "    with mp_face_mesh.FaceMesh(\n",
    "        static_image_mode=True,\n",
    "        #refine_landmarks=True,\n",
    "        max_num_faces=2,\n",
    "        min_detection_confidence=0.5) as face_mesh:\n",
    "        for image in img_lst:\n",
    "            # Convert the BGR image to RGB and process it with MediaPipe Face Mesh.\n",
    "            img_resized = open_img_opencv(image)\n",
    "            results = face_mesh.process(cv2.cvtColor(img_resized, cv2.COLOR_BGR2RGB))\n",
    "\n",
    "            # Draw face landmarks of each face.\n",
    "            print(f'Face landmarks of {image.split(\"/\")[-1]}:')\n",
    "            if not results.multi_face_landmarks:\n",
    "                continue\n",
    "            annotated_image = img_resized.copy()\n",
    "            for face_landmarks in results.multi_face_landmarks:\n",
    "                faces_landmarks.append(face_landmarks)\n",
    "    return faces_landmarks"
   ]
  },
  {
   "cell_type": "code",
   "execution_count": 17,
   "id": "e40ad444",
   "metadata": {},
   "outputs": [],
   "source": [
    "def open_img_pil(img_path):\n",
    "    img = Image.open(img_path) \n",
    "    return img"
   ]
  },
  {
   "cell_type": "code",
   "execution_count": 18,
   "id": "2ee4a8bc",
   "metadata": {},
   "outputs": [],
   "source": [
    "DESIRED_HEIGHT = 480\n",
    "DESIRED_WIDTH = 480\n",
    "def resize_and_show(image):\n",
    "    h, w = image.shape[:2]\n",
    "    if h < w:\n",
    "        img = cv2.resize(image, (DESIRED_WIDTH, math.floor(h/(w/DESIRED_WIDTH))))\n",
    "    else:\n",
    "        img = cv2.resize(image, (math.floor(w/(h/DESIRED_HEIGHT)), DESIRED_HEIGHT))\n",
    "    return img"
   ]
  },
  {
   "cell_type": "code",
   "execution_count": 19,
   "id": "b052e398",
   "metadata": {},
   "outputs": [],
   "source": [
    "img_list = get_all_files(\"../images/frames/\")"
   ]
  },
  {
   "cell_type": "code",
   "execution_count": 20,
   "id": "a709f7f1",
   "metadata": {},
   "outputs": [
    {
     "data": {
      "text/plain": [
       "['../images/frames/mr_bean.jpg', '../images/frames/foto_manoel_2.jpeg']"
      ]
     },
     "execution_count": 20,
     "metadata": {},
     "output_type": "execute_result"
    }
   ],
   "source": [
    "img_list"
   ]
  },
  {
   "cell_type": "code",
   "execution_count": 21,
   "id": "20b43bbd",
   "metadata": {},
   "outputs": [
    {
     "name": "stdout",
     "output_type": "stream",
     "text": [
      "mr_bean.jpg\n",
      "foto_manoel_2.jpeg\n"
     ]
    }
   ],
   "source": [
    "imgs_resized = []\n",
    "for image in img_list:\n",
    "    print(image.split(\"/\")[-1])\n",
    "    img = open_img_pil(image)\n",
    "    img_resized = resize_and_show(np.asanyarray(img))\n",
    "    imgs_resized.append(img_resized)"
   ]
  },
  {
   "cell_type": "code",
   "execution_count": 22,
   "id": "739fe4bc",
   "metadata": {},
   "outputs": [
    {
     "name": "stderr",
     "output_type": "stream",
     "text": [
      "<ipython-input-11-955b05f10e5a>:4: DeprecationWarning: elementwise comparison failed; this will raise an error in the future.\n",
      "  if faces == ():\n"
     ]
    }
   ],
   "source": [
    "img_1 = get_landmarks_dlib(imgs_resized[0])"
   ]
  },
  {
   "cell_type": "code",
   "execution_count": 25,
   "id": "0afd7cb0",
   "metadata": {},
   "outputs": [],
   "source": [
    "df_dlib_landmarks = make_df_landmarks_dlib(img_1)"
   ]
  },
  {
   "cell_type": "code",
   "execution_count": 26,
   "id": "6adfd3ab",
   "metadata": {},
   "outputs": [
    {
     "data": {
      "text/html": [
       "<div>\n",
       "<style scoped>\n",
       "    .dataframe tbody tr th:only-of-type {\n",
       "        vertical-align: middle;\n",
       "    }\n",
       "\n",
       "    .dataframe tbody tr th {\n",
       "        vertical-align: top;\n",
       "    }\n",
       "\n",
       "    .dataframe thead th {\n",
       "        text-align: right;\n",
       "    }\n",
       "</style>\n",
       "<table border=\"1\" class=\"dataframe\">\n",
       "  <thead>\n",
       "    <tr style=\"text-align: right;\">\n",
       "      <th></th>\n",
       "      <th>i</th>\n",
       "      <th>x</th>\n",
       "      <th>y</th>\n",
       "    </tr>\n",
       "  </thead>\n",
       "  <tbody>\n",
       "    <tr>\n",
       "      <th>0</th>\n",
       "      <td>0</td>\n",
       "      <td>190</td>\n",
       "      <td>107</td>\n",
       "    </tr>\n",
       "    <tr>\n",
       "      <th>1</th>\n",
       "      <td>1</td>\n",
       "      <td>191</td>\n",
       "      <td>116</td>\n",
       "    </tr>\n",
       "    <tr>\n",
       "      <th>2</th>\n",
       "      <td>2</td>\n",
       "      <td>193</td>\n",
       "      <td>126</td>\n",
       "    </tr>\n",
       "    <tr>\n",
       "      <th>3</th>\n",
       "      <td>3</td>\n",
       "      <td>197</td>\n",
       "      <td>136</td>\n",
       "    </tr>\n",
       "    <tr>\n",
       "      <th>4</th>\n",
       "      <td>4</td>\n",
       "      <td>202</td>\n",
       "      <td>145</td>\n",
       "    </tr>\n",
       "    <tr>\n",
       "      <th>...</th>\n",
       "      <td>...</td>\n",
       "      <td>...</td>\n",
       "      <td>...</td>\n",
       "    </tr>\n",
       "    <tr>\n",
       "      <th>63</th>\n",
       "      <td>63</td>\n",
       "      <td>225</td>\n",
       "      <td>132</td>\n",
       "    </tr>\n",
       "    <tr>\n",
       "      <th>64</th>\n",
       "      <td>64</td>\n",
       "      <td>239</td>\n",
       "      <td>128</td>\n",
       "    </tr>\n",
       "    <tr>\n",
       "      <th>65</th>\n",
       "      <td>65</td>\n",
       "      <td>227</td>\n",
       "      <td>132</td>\n",
       "    </tr>\n",
       "    <tr>\n",
       "      <th>66</th>\n",
       "      <td>66</td>\n",
       "      <td>222</td>\n",
       "      <td>134</td>\n",
       "    </tr>\n",
       "    <tr>\n",
       "      <th>67</th>\n",
       "      <td>67</td>\n",
       "      <td>217</td>\n",
       "      <td>134</td>\n",
       "    </tr>\n",
       "  </tbody>\n",
       "</table>\n",
       "<p>68 rows × 3 columns</p>\n",
       "</div>"
      ],
      "text/plain": [
       "     i    x    y\n",
       "0    0  190  107\n",
       "1    1  191  116\n",
       "2    2  193  126\n",
       "3    3  197  136\n",
       "4    4  202  145\n",
       "..  ..  ...  ...\n",
       "63  63  225  132\n",
       "64  64  239  128\n",
       "65  65  227  132\n",
       "66  66  222  134\n",
       "67  67  217  134\n",
       "\n",
       "[68 rows x 3 columns]"
      ]
     },
     "execution_count": 26,
     "metadata": {},
     "output_type": "execute_result"
    }
   ],
   "source": [
    "df_dlib_landmarks"
   ]
  },
  {
   "cell_type": "markdown",
   "id": "e11db478",
   "metadata": {},
   "source": [
    "### Funções do MediaPipe"
   ]
  },
  {
   "cell_type": "code",
   "execution_count": 27,
   "id": "be23fdf5",
   "metadata": {},
   "outputs": [],
   "source": [
    "mp_face_mesh = mp.solutions.face_mesh"
   ]
  },
  {
   "cell_type": "code",
   "execution_count": 28,
   "id": "c4492798",
   "metadata": {},
   "outputs": [],
   "source": [
    "# Load drawing_utils and drawing_styles\n",
    "mp_drawing = mp.solutions.drawing_utils \n",
    "mp_drawing_styles = mp.solutions.drawing_styles"
   ]
  },
  {
   "cell_type": "code",
   "execution_count": 29,
   "id": "f444e5ea",
   "metadata": {},
   "outputs": [
    {
     "name": "stdout",
     "output_type": "stream",
     "text": [
      "Face landmarks of mr_bean.jpg:\n",
      "Face landmarks of foto_manoel_2.jpeg:\n"
     ]
    }
   ],
   "source": [
    "mediapipe_landmarks_list = get_mediapipe_face_mesh(img_list)"
   ]
  },
  {
   "cell_type": "code",
   "execution_count": 30,
   "id": "0663286e",
   "metadata": {},
   "outputs": [],
   "source": [
    "import dataclasses\n",
    "\n",
    "from mediapipe.framework.formats import detection_pb2\n",
    "from mediapipe.framework.formats import landmark_pb2\n",
    "from typing import List, Mapping, Optional, Tuple, Union"
   ]
  },
  {
   "cell_type": "code",
   "execution_count": 31,
   "id": "8e9dfdd9",
   "metadata": {},
   "outputs": [],
   "source": [
    "_PRESENCE_THRESHOLD = 0.5\n",
    "_VISIBILITY_THRESHOLD = 0.5\n",
    "_RGB_CHANNELS = 3\n",
    "\n",
    "WHITE_COLOR = (224, 224, 224)\n",
    "BLACK_COLOR = (0, 0, 0)\n",
    "RED_COLOR = (0, 0, 255)\n",
    "GREEN_COLOR = (0, 128, 0)\n",
    "BLUE_COLOR = (255, 0, 0)"
   ]
  },
  {
   "cell_type": "code",
   "execution_count": 32,
   "id": "10004b53",
   "metadata": {},
   "outputs": [],
   "source": [
    "@dataclasses.dataclass\n",
    "class DrawingSpec:\n",
    "  # Color for drawing the annotation. Default to the white color.\n",
    "  color: Tuple[int, int, int] = WHITE_COLOR\n",
    "  # Thickness for drawing the annotation. Default to 2 pixels.\n",
    "  thickness: int = 2\n",
    "  # Circle radius. Default to 2 pixels.\n",
    "  circle_radius: int = 2"
   ]
  },
  {
   "cell_type": "code",
   "execution_count": 33,
   "id": "ca3ba483",
   "metadata": {},
   "outputs": [],
   "source": [
    "def _normalized_to_pixel_coordinates(\n",
    "    normalized_x: float, normalized_y: float, image_width: int,\n",
    "    image_height: int) -> Union[None, Tuple[int, int]]:\n",
    "    \"\"\"Converts normalized value pair to pixel coordinates.\"\"\"\n",
    "\n",
    "    # Checks if the float value is between 0 and 1.\n",
    "    def is_valid_normalized_value(value: float) -> bool:\n",
    "        return (value > 0 or math.isclose(0, value)) and (value < 1 or\n",
    "                                                      math.isclose(1, value))\n",
    "\n",
    "    if not (is_valid_normalized_value(normalized_x) and\n",
    "          is_valid_normalized_value(normalized_y)):\n",
    "        # TODO: Draw coordinates even if it's outside of the image bounds.\n",
    "        return None\n",
    "    x_px = min(math.floor(normalized_x * image_width), image_width - 1)\n",
    "    y_px = min(math.floor(normalized_y * image_height), image_height - 1)\n",
    "\n",
    "    return x_px, y_px"
   ]
  },
  {
   "cell_type": "code",
   "execution_count": 34,
   "id": "8a900cd6",
   "metadata": {},
   "outputs": [],
   "source": [
    "def get_landmarks_mediapipe(image: np.ndarray, \n",
    "         landmark_list: landmark_pb2.NormalizedLandmarkList):\n",
    "  \n",
    "  \n",
    "    image_rows, image_cols, _ =  image.shape\n",
    "    idx_to_coordinates = {}\n",
    "    for idx, landmark in enumerate(landmark_list.landmark):\n",
    "        landmark_px = _normalized_to_pixel_coordinates(landmark.x, landmark.y,\n",
    "                                                       image_cols, image_rows)\n",
    "        if landmark_px:\n",
    "            idx_to_coordinates[idx] = landmark_px\n",
    "\n",
    "    return idx_to_coordinates"
   ]
  },
  {
   "cell_type": "code",
   "execution_count": 35,
   "id": "6bd74041",
   "metadata": {},
   "outputs": [],
   "source": [
    "mediapipe_landmarks = get_landmarks_mediapipe(imgs_resized[0], mediapipe_landmarks_list[0])"
   ]
  },
  {
   "cell_type": "code",
   "execution_count": 36,
   "id": "236093c1",
   "metadata": {},
   "outputs": [],
   "source": [
    "def get_mediapipe_landmarks(landmarks):\n",
    "    res = {}\n",
    "    res[\"id_media\"] = []\n",
    "    res[\"x_media\"] = []\n",
    "    res[\"y_media\"] = []\n",
    "    for r in landmarks:\n",
    "        res[\"id_media\"].append(r)\n",
    "        #print(landmarks[r])\n",
    "        res[\"x_media\"].append(landmarks[r][0])\n",
    "        res[\"y_media\"].append(landmarks[r][1])\n",
    "    return pd.DataFrame(res)"
   ]
  },
  {
   "cell_type": "code",
   "execution_count": 49,
   "id": "b68a6245",
   "metadata": {},
   "outputs": [],
   "source": [
    "df_mediapipe_res = get_mediapipe_landmarks(mediapipe_landmarks)"
   ]
  },
  {
   "cell_type": "code",
   "execution_count": 50,
   "id": "714c18f1-f520-4d14-a1b8-0ed81305c699",
   "metadata": {
    "collapsed": true,
    "jupyter": {
     "outputs_hidden": true
    },
    "tags": []
   },
   "outputs": [
    {
     "data": {
      "text/plain": [
       "{0: (219, 128),\n",
       " 1: (211, 117),\n",
       " 2: (217, 121),\n",
       " 3: (208, 106),\n",
       " 4: (210, 113),\n",
       " 5: (210, 108),\n",
       " 6: (211, 96),\n",
       " 7: (194, 103),\n",
       " 8: (210, 86),\n",
       " 9: (208, 81),\n",
       " 10: (205, 64),\n",
       " 11: (220, 130),\n",
       " 12: (221, 131),\n",
       " 13: (222, 132),\n",
       " 14: (222, 133),\n",
       " 15: (223, 135),\n",
       " 16: (223, 137),\n",
       " 17: (224, 139),\n",
       " 18: (227, 143),\n",
       " 19: (213, 119),\n",
       " 20: (213, 120),\n",
       " 21: (189, 93),\n",
       " 22: (204, 103),\n",
       " 23: (201, 105),\n",
       " 24: (198, 105),\n",
       " 25: (194, 105),\n",
       " 26: (206, 101),\n",
       " 27: (196, 95),\n",
       " 28: (199, 94),\n",
       " 29: (193, 96),\n",
       " 30: (192, 98),\n",
       " 31: (193, 108),\n",
       " 32: (218, 153),\n",
       " 33: (194, 103),\n",
       " 34: (192, 108),\n",
       " 35: (192, 106),\n",
       " 36: (203, 119),\n",
       " 37: (215, 129),\n",
       " 38: (218, 132),\n",
       " 39: (212, 131),\n",
       " 40: (211, 133),\n",
       " 41: (216, 133),\n",
       " 42: (214, 134),\n",
       " 43: (212, 140),\n",
       " 44: (209, 118),\n",
       " 45: (207, 114),\n",
       " 46: (188, 95),\n",
       " 47: (207, 108),\n",
       " 48: (206, 119),\n",
       " 49: (206, 117),\n",
       " 50: (195, 121),\n",
       " 51: (208, 110),\n",
       " 52: (190, 89),\n",
       " 53: (188, 92),\n",
       " 54: (187, 86),\n",
       " 55: (203, 88),\n",
       " 56: (203, 94),\n",
       " 57: (208, 138),\n",
       " 58: (209, 141),\n",
       " 59: (209, 120),\n",
       " 60: (212, 121),\n",
       " 61: (211, 136),\n",
       " 62: (213, 136),\n",
       " 63: (186, 90),\n",
       " 64: (207, 120),\n",
       " 65: (195, 88),\n",
       " 66: (193, 85),\n",
       " 67: (190, 73),\n",
       " 68: (186, 88),\n",
       " 69: (191, 79),\n",
       " 70: (187, 94),\n",
       " 71: (187, 94),\n",
       " 72: (216, 131),\n",
       " 73: (214, 133),\n",
       " 74: (212, 134),\n",
       " 75: (211, 121),\n",
       " 76: (212, 136),\n",
       " 77: (213, 136),\n",
       " 78: (213, 135),\n",
       " 79: (208, 119),\n",
       " 80: (215, 134),\n",
       " 81: (217, 133),\n",
       " 82: (219, 133),\n",
       " 83: (222, 144),\n",
       " 84: (220, 140),\n",
       " 85: (219, 137),\n",
       " 86: (219, 135),\n",
       " 87: (219, 134),\n",
       " 88: (215, 135),\n",
       " 89: (215, 136),\n",
       " 90: (214, 137),\n",
       " 91: (214, 138),\n",
       " 92: (208, 131),\n",
       " 93: (202, 124),\n",
       " 94: (215, 120),\n",
       " 95: (215, 136),\n",
       " 96: (214, 136),\n",
       " 97: (213, 122),\n",
       " 98: (210, 122),\n",
       " 99: (213, 121),\n",
       " 100: (205, 111),\n",
       " 101: (200, 115),\n",
       " 102: (207, 119),\n",
       " 103: (187, 79),\n",
       " 104: (187, 83),\n",
       " 105: (188, 87),\n",
       " 106: (215, 142),\n",
       " 107: (200, 84),\n",
       " 108: (198, 76),\n",
       " 109: (196, 69),\n",
       " 110: (196, 106),\n",
       " 111: (192, 111),\n",
       " 112: (207, 100),\n",
       " 113: (191, 100),\n",
       " 114: (208, 105),\n",
       " 115: (206, 117),\n",
       " 116: (191, 115),\n",
       " 117: (193, 113),\n",
       " 118: (196, 113),\n",
       " 119: (201, 111),\n",
       " 120: (205, 108),\n",
       " 121: (207, 105),\n",
       " 122: (209, 98),\n",
       " 123: (192, 122),\n",
       " 124: (190, 100),\n",
       " 125: (212, 119),\n",
       " 126: (207, 111),\n",
       " 127: (196, 108),\n",
       " 128: (209, 102),\n",
       " 129: (208, 119),\n",
       " 130: (193, 103),\n",
       " 131: (206, 115),\n",
       " 132: (205, 133),\n",
       " 133: (207, 98),\n",
       " 134: (206, 112),\n",
       " 135: (208, 149),\n",
       " 136: (213, 153),\n",
       " 137: (195, 124),\n",
       " 138: (205, 145),\n",
       " 139: (190, 101),\n",
       " 140: (220, 158),\n",
       " 141: (214, 120),\n",
       " 142: (206, 115),\n",
       " 143: (191, 107),\n",
       " 144: (197, 103),\n",
       " 145: (200, 103),\n",
       " 146: (213, 137),\n",
       " 147: (195, 130),\n",
       " 148: (228, 162),\n",
       " 149: (220, 159),\n",
       " 150: (217, 157),\n",
       " 151: (206, 73),\n",
       " 152: (235, 162),\n",
       " 153: (203, 102),\n",
       " 154: (205, 100),\n",
       " 155: (207, 99),\n",
       " 156: (189, 100),\n",
       " 157: (204, 98),\n",
       " 158: (201, 98),\n",
       " 159: (198, 99),\n",
       " 160: (196, 100),\n",
       " 161: (194, 101),\n",
       " 162: (192, 100),\n",
       " 163: (196, 103),\n",
       " 164: (218, 123),\n",
       " 165: (209, 128),\n",
       " 166: (208, 120),\n",
       " 167: (214, 125),\n",
       " 168: (211, 91),\n",
       " 169: (213, 152),\n",
       " 170: (216, 155),\n",
       " 171: (225, 159),\n",
       " 172: (211, 148),\n",
       " 173: (206, 98),\n",
       " 174: (208, 105),\n",
       " 175: (232, 159),\n",
       " 176: (223, 161),\n",
       " 177: (199, 132),\n",
       " 178: (217, 135),\n",
       " 179: (216, 136),\n",
       " 180: (216, 137),\n",
       " 181: (217, 139),\n",
       " 182: (218, 144),\n",
       " 183: (213, 135),\n",
       " 184: (212, 135),\n",
       " 185: (211, 135),\n",
       " 186: (207, 134),\n",
       " 187: (196, 130),\n",
       " 188: (209, 101),\n",
       " 189: (207, 95),\n",
       " 190: (207, 96),\n",
       " 191: (214, 134),\n",
       " 192: (201, 139),\n",
       " 193: (208, 94),\n",
       " 194: (218, 148),\n",
       " 195: (211, 104),\n",
       " 196: (209, 102),\n",
       " 197: (211, 100),\n",
       " 198: (207, 111),\n",
       " 199: (230, 154),\n",
       " 200: (228, 148),\n",
       " 201: (223, 149),\n",
       " 202: (210, 143),\n",
       " 203: (206, 123),\n",
       " 204: (214, 147),\n",
       " 205: (199, 125),\n",
       " 206: (204, 127),\n",
       " 207: (199, 132),\n",
       " 208: (223, 155),\n",
       " 209: (207, 114),\n",
       " 210: (210, 147),\n",
       " 211: (215, 151),\n",
       " 212: (206, 140),\n",
       " 213: (198, 136),\n",
       " 214: (204, 142),\n",
       " 215: (202, 139),\n",
       " 216: (204, 133),\n",
       " 217: (208, 108),\n",
       " 218: (207, 118),\n",
       " 219: (207, 120),\n",
       " 220: (206, 116),\n",
       " 221: (203, 92),\n",
       " 222: (198, 91),\n",
       " 223: (193, 92),\n",
       " 224: (191, 94),\n",
       " 225: (190, 97),\n",
       " 226: (192, 104),\n",
       " 227: (193, 116),\n",
       " 228: (194, 109),\n",
       " 229: (197, 109),\n",
       " 230: (201, 107),\n",
       " 231: (204, 105),\n",
       " 232: (207, 103),\n",
       " 233: (208, 101),\n",
       " 234: (200, 116),\n",
       " 235: (208, 121),\n",
       " 236: (207, 108),\n",
       " 237: (208, 118),\n",
       " 238: (211, 119),\n",
       " 239: (209, 119),\n",
       " 240: (210, 121),\n",
       " 241: (211, 120),\n",
       " 242: (213, 120),\n",
       " 243: (208, 98),\n",
       " 244: (209, 98),\n",
       " 245: (209, 99),\n",
       " 246: (194, 102),\n",
       " 247: (192, 100),\n",
       " 248: (214, 104),\n",
       " 249: (244, 86),\n",
       " 250: (219, 118),\n",
       " 251: (263, 65),\n",
       " 252: (233, 93),\n",
       " 253: (237, 92),\n",
       " 254: (241, 90),\n",
       " 255: (247, 86),\n",
       " 256: (229, 93),\n",
       " 257: (234, 80),\n",
       " 258: (230, 82),\n",
       " 259: (238, 79),\n",
       " 260: (242, 80),\n",
       " 261: (251, 88),\n",
       " 262: (246, 147),\n",
       " 263: (246, 84),\n",
       " 264: (270, 81),\n",
       " 265: (256, 83),\n",
       " 266: (238, 107),\n",
       " 267: (224, 126),\n",
       " 268: (226, 130),\n",
       " 269: (231, 126),\n",
       " 270: (236, 126),\n",
       " 271: (231, 129),\n",
       " 272: (235, 128),\n",
       " 273: (245, 131),\n",
       " 274: (215, 116),\n",
       " 275: (214, 112),\n",
       " 276: (247, 73),\n",
       " 277: (228, 100),\n",
       " 278: (228, 112),\n",
       " 279: (228, 110),\n",
       " 280: (253, 103),\n",
       " 281: (214, 108),\n",
       " 282: (233, 72),\n",
       " 283: (240, 71),\n",
       " 284: (253, 59),\n",
       " 285: (217, 82),\n",
       " 286: (227, 85),\n",
       " 287: (247, 126),\n",
       " 288: (284, 120),\n",
       " 289: (226, 115),\n",
       " 290: (223, 117),\n",
       " 291: (243, 126),\n",
       " 292: (241, 127),\n",
       " 293: (243, 68),\n",
       " 294: (229, 113),\n",
       " 295: (226, 76),\n",
       " 296: (225, 72),\n",
       " 297: (228, 57),\n",
       " 298: (247, 64),\n",
       " 299: (225, 65),\n",
       " 300: (250, 71),\n",
       " 301: (256, 68),\n",
       " 302: (225, 128),\n",
       " 303: (230, 128),\n",
       " 304: (235, 127),\n",
       " 305: (225, 116),\n",
       " 306: (242, 127),\n",
       " 307: (239, 128),\n",
       " 308: (241, 127),\n",
       " 309: (221, 115),\n",
       " 310: (235, 128),\n",
       " 311: (231, 129),\n",
       " 312: (226, 130),\n",
       " 313: (232, 142),\n",
       " 314: (229, 137),\n",
       " 315: (228, 135),\n",
       " 316: (227, 133),\n",
       " 317: (227, 132),\n",
       " 318: (235, 129),\n",
       " 319: (236, 129),\n",
       " 320: (236, 130),\n",
       " 321: (238, 131),\n",
       " 322: (239, 121),\n",
       " 323: (283, 99),\n",
       " 324: (238, 128),\n",
       " 325: (239, 128),\n",
       " 326: (222, 119),\n",
       " 327: (230, 116),\n",
       " 328: (222, 119),\n",
       " 329: (233, 101),\n",
       " 330: (240, 101),\n",
       " 331: (230, 111),\n",
       " 332: (241, 57),\n",
       " 333: (237, 62),\n",
       " 334: (234, 69),\n",
       " 335: (242, 135),\n",
       " 336: (216, 77),\n",
       " 337: (216, 69),\n",
       " 338: (216, 60),\n",
       " 339: (245, 88),\n",
       " 340: (257, 89),\n",
       " 341: (227, 93),\n",
       " 342: (248, 80),\n",
       " 343: (224, 99),\n",
       " 344: (223, 111),\n",
       " 345: (264, 90),\n",
       " 346: (254, 92),\n",
       " 347: (247, 96),\n",
       " 348: (239, 98),\n",
       " 349: (233, 98),\n",
       " 350: (228, 98),\n",
       " 351: (215, 96),\n",
       " 352: (266, 98),\n",
       " 353: (252, 78),\n",
       " 354: (215, 118),\n",
       " 355: (227, 104),\n",
       " 356: (277, 80),\n",
       " 357: (224, 97),\n",
       " 358: (232, 111),\n",
       " 359: (248, 83),\n",
       " 360: (224, 109),\n",
       " 361: (284, 109),\n",
       " 362: (227, 91),\n",
       " 363: (218, 108),\n",
       " 364: (268, 133),\n",
       " 365: (273, 138),\n",
       " 366: (276, 98),\n",
       " 367: (274, 126),\n",
       " 368: (263, 74),\n",
       " 369: (249, 151),\n",
       " 370: (217, 119),\n",
       " 371: (232, 106),\n",
       " 372: (262, 83),\n",
       " 373: (240, 88),\n",
       " 374: (236, 90),\n",
       " 375: (241, 129),\n",
       " 376: (269, 107),\n",
       " 377: (243, 159),\n",
       " 378: (258, 151),\n",
       " 379: (265, 146),\n",
       " 380: (233, 91),\n",
       " 381: (230, 91),\n",
       " 382: (228, 91),\n",
       " 383: (256, 76),\n",
       " 384: (230, 88),\n",
       " 385: (232, 86),\n",
       " 386: (235, 85),\n",
       " 387: (239, 84),\n",
       " 388: (242, 84),\n",
       " 389: (270, 71),\n",
       " 390: (242, 87),\n",
       " 391: (233, 120),\n",
       " 392: (225, 114),\n",
       " 393: (223, 122),\n",
       " 394: (262, 140),\n",
       " 395: (256, 146),\n",
       " 396: (241, 156),\n",
       " 397: (279, 130),\n",
       " 398: (228, 90),\n",
       " 399: (219, 101),\n",
       " 400: (251, 155),\n",
       " 401: (278, 108),\n",
       " 402: (231, 130),\n",
       " 403: (232, 131),\n",
       " 404: (232, 132),\n",
       " 405: (233, 134),\n",
       " 406: (237, 138),\n",
       " 407: (239, 127),\n",
       " 408: (239, 127),\n",
       " 409: (240, 126),\n",
       " 410: (244, 123),\n",
       " 411: (261, 110),\n",
       " 412: (219, 97),\n",
       " 413: (222, 89),\n",
       " 414: (225, 89),\n",
       " 415: (238, 127),\n",
       " 416: (267, 120),\n",
       " 417: (217, 90),\n",
       " 418: (242, 142),\n",
       " 419: (215, 100),\n",
       " 420: (223, 106),\n",
       " 421: (235, 146),\n",
       " 422: (251, 132),\n",
       " 423: (236, 113),\n",
       " 424: (247, 138),\n",
       " 425: (247, 110),\n",
       " 426: (242, 116),\n",
       " 427: (254, 115),\n",
       " 428: (238, 151),\n",
       " 429: (227, 107),\n",
       " 430: (257, 135),\n",
       " 431: (251, 141),\n",
       " 432: (253, 126),\n",
       " 433: (271, 114),\n",
       " 434: (261, 126),\n",
       " 435: (278, 117),\n",
       " 436: (248, 119),\n",
       " 437: (223, 103),\n",
       " 438: (222, 114),\n",
       " 439: (227, 113),\n",
       " 440: (218, 112),\n",
       " 441: (223, 84),\n",
       " 442: (228, 80),\n",
       " 443: (233, 77),\n",
       " 444: (239, 76),\n",
       " 445: (244, 77),\n",
       " 446: (251, 83),\n",
       " 447: (273, 90),\n",
       " 448: (249, 90),\n",
       " 449: (244, 93),\n",
       " 450: (238, 94),\n",
       " 451: (233, 95),\n",
       " 452: (229, 95),\n",
       " 453: (226, 95),\n",
       " 454: (280, 89),\n",
       " 455: (228, 114),\n",
       " 456: (218, 104),\n",
       " 457: (218, 115),\n",
       " 458: (218, 117),\n",
       " 459: (219, 115),\n",
       " 460: (227, 116),\n",
       " 461: (217, 118),\n",
       " 462: (218, 119),\n",
       " 463: (225, 92),\n",
       " 464: (223, 93),\n",
       " 465: (221, 94),\n",
       " 466: (244, 84),\n",
       " 467: (246, 81)}"
      ]
     },
     "execution_count": 50,
     "metadata": {},
     "output_type": "execute_result"
    }
   ],
   "source": [
    "mediapipe_landmarks"
   ]
  },
  {
   "cell_type": "code",
   "execution_count": 38,
   "id": "9485db26",
   "metadata": {},
   "outputs": [
    {
     "data": {
      "text/html": [
       "<div>\n",
       "<style scoped>\n",
       "    .dataframe tbody tr th:only-of-type {\n",
       "        vertical-align: middle;\n",
       "    }\n",
       "\n",
       "    .dataframe tbody tr th {\n",
       "        vertical-align: top;\n",
       "    }\n",
       "\n",
       "    .dataframe thead th {\n",
       "        text-align: right;\n",
       "    }\n",
       "</style>\n",
       "<table border=\"1\" class=\"dataframe\">\n",
       "  <thead>\n",
       "    <tr style=\"text-align: right;\">\n",
       "      <th></th>\n",
       "      <th>id_media</th>\n",
       "      <th>x_media</th>\n",
       "      <th>y_media</th>\n",
       "    </tr>\n",
       "  </thead>\n",
       "  <tbody>\n",
       "    <tr>\n",
       "      <th>0</th>\n",
       "      <td>0</td>\n",
       "      <td>219</td>\n",
       "      <td>128</td>\n",
       "    </tr>\n",
       "    <tr>\n",
       "      <th>1</th>\n",
       "      <td>1</td>\n",
       "      <td>211</td>\n",
       "      <td>117</td>\n",
       "    </tr>\n",
       "    <tr>\n",
       "      <th>2</th>\n",
       "      <td>2</td>\n",
       "      <td>217</td>\n",
       "      <td>121</td>\n",
       "    </tr>\n",
       "    <tr>\n",
       "      <th>3</th>\n",
       "      <td>3</td>\n",
       "      <td>208</td>\n",
       "      <td>106</td>\n",
       "    </tr>\n",
       "    <tr>\n",
       "      <th>4</th>\n",
       "      <td>4</td>\n",
       "      <td>210</td>\n",
       "      <td>113</td>\n",
       "    </tr>\n",
       "    <tr>\n",
       "      <th>...</th>\n",
       "      <td>...</td>\n",
       "      <td>...</td>\n",
       "      <td>...</td>\n",
       "    </tr>\n",
       "    <tr>\n",
       "      <th>463</th>\n",
       "      <td>463</td>\n",
       "      <td>225</td>\n",
       "      <td>92</td>\n",
       "    </tr>\n",
       "    <tr>\n",
       "      <th>464</th>\n",
       "      <td>464</td>\n",
       "      <td>223</td>\n",
       "      <td>93</td>\n",
       "    </tr>\n",
       "    <tr>\n",
       "      <th>465</th>\n",
       "      <td>465</td>\n",
       "      <td>221</td>\n",
       "      <td>94</td>\n",
       "    </tr>\n",
       "    <tr>\n",
       "      <th>466</th>\n",
       "      <td>466</td>\n",
       "      <td>244</td>\n",
       "      <td>84</td>\n",
       "    </tr>\n",
       "    <tr>\n",
       "      <th>467</th>\n",
       "      <td>467</td>\n",
       "      <td>246</td>\n",
       "      <td>81</td>\n",
       "    </tr>\n",
       "  </tbody>\n",
       "</table>\n",
       "<p>468 rows × 3 columns</p>\n",
       "</div>"
      ],
      "text/plain": [
       "     id_media  x_media  y_media\n",
       "0           0      219      128\n",
       "1           1      211      117\n",
       "2           2      217      121\n",
       "3           3      208      106\n",
       "4           4      210      113\n",
       "..        ...      ...      ...\n",
       "463       463      225       92\n",
       "464       464      223       93\n",
       "465       465      221       94\n",
       "466       466      244       84\n",
       "467       467      246       81\n",
       "\n",
       "[468 rows x 3 columns]"
      ]
     },
     "execution_count": 38,
     "metadata": {},
     "output_type": "execute_result"
    }
   ],
   "source": [
    "df_mediapipe_res"
   ]
  },
  {
   "cell_type": "markdown",
   "id": "7bb05b12-ba07-4440-9800-6998a20505e0",
   "metadata": {},
   "source": [
    "# Dlib"
   ]
  },
  {
   "cell_type": "code",
   "execution_count": 39,
   "id": "f77f7a62-0916-43f1-a81f-fa6afb4dffe9",
   "metadata": {},
   "outputs": [],
   "source": [
    "import dlib"
   ]
  },
  {
   "cell_type": "code",
   "execution_count": 11,
   "id": "2bdf46aa",
   "metadata": {},
   "outputs": [],
   "source": [
    "def get_landmarks_dlib(im):\n",
    "    im = np.array(im, dtype=\"uint8\")\n",
    "    faces = cascade.detectMultiScale(im, 1.15, 4, 0, (100, 100))\n",
    "    if faces == ():\n",
    "        return np.matrix(\n",
    "            [[0 for row in range(0, 2)] for col in range(INDICESFACE)]\n",
    "        )\n",
    "    else:\n",
    "        for (x, y, w, h) in faces:\n",
    "            rect = dlib.rectangle(int(x), int(y), int(x + w), int(y + h))\n",
    "        return np.matrix([[p.x, p.y] for p in predictor(im, rect).parts()])"
   ]
  },
  {
   "cell_type": "code",
   "execution_count": 40,
   "id": "ea62da66-a56a-4e32-abeb-a4231bd3f92a",
   "metadata": {},
   "outputs": [],
   "source": [
    "def crop_face(im):\n",
    "    faces = cascade.detectMultiScale(im, 1.15, 4, 0, (100, 100))\n",
    "    if faces == ():\n",
    "        l = np.matrix(\n",
    "            [[0 for row in range(0, 2)] for col in range(INDICESFACE)]\n",
    "        )\n",
    "        rect = dlib.rectangle(0, 0, 0, 0)\n",
    "        return np.empty(im.shape) * 0, l\n",
    "    else:\n",
    "        for (x, y, w, h) in faces:\n",
    "            rect = dlib.rectangle(int(x), int(y), int(x + w), int(y + h))\n",
    "            l = np.array(\n",
    "                [[p.x, p.y] for p in predictor(im, rect).parts()],\n",
    "                dtype=np.float32,\n",
    "            )\n",
    "            sub_face = im[y : y + h, x : x + w]\n",
    "        return sub_face, l"
   ]
  },
  {
   "cell_type": "code",
   "execution_count": 41,
   "id": "6e7e8caf",
   "metadata": {},
   "outputs": [],
   "source": [
    "def make_df_landmarks_dlib(img_np):\n",
    "    res = {}\n",
    "    res[\"i\"] = []\n",
    "    res[\"x\"] = []\n",
    "    res[\"y\"] = []\n",
    "    for i, landmark in enumerate(img_np):\n",
    "        res[\"i\"].append(i)\n",
    "        _ = landmark.tolist()[0]\n",
    "        res[\"x\"].append(_[0])\n",
    "        res[\"y\"].append(_[1])\n",
    "    return pd.DataFrame(res)"
   ]
  },
  {
   "cell_type": "code",
   "execution_count": 42,
   "id": "906ff33d-5c7c-47f2-875b-b86045509a0d",
   "metadata": {},
   "outputs": [],
   "source": [
    "CASCADE_PATH = \"../../models/haarcascade_frontalface_default.xml\"\n",
    "PREDICTOR_PATH = \"../../models/shape_predictor_68_face_landmarks.dat\"\n",
    "INDICESFACE = 68\n",
    "im_s = 96"
   ]
  },
  {
   "cell_type": "code",
   "execution_count": 43,
   "id": "4d9b636e-3c0a-4938-81a8-66329fcfd452",
   "metadata": {},
   "outputs": [],
   "source": [
    "cascade = cv2.CascadeClassifier(CASCADE_PATH)\n",
    "predictor = dlib.shape_predictor(PREDICTOR_PATH)"
   ]
  },
  {
   "cell_type": "code",
   "execution_count": 44,
   "id": "8841917a-86d4-48c1-901a-189452789528",
   "metadata": {},
   "outputs": [],
   "source": [
    "img_test = open_img_opencv(img_list[0])"
   ]
  },
  {
   "cell_type": "code",
   "execution_count": 45,
   "id": "50c1f0a0-b355-4027-a662-d94b69dbea95",
   "metadata": {},
   "outputs": [
    {
     "name": "stderr",
     "output_type": "stream",
     "text": [
      "<ipython-input-40-ee68200b6805>:3: DeprecationWarning: elementwise comparison failed; this will raise an error in the future.\n",
      "  if faces == ():\n"
     ]
    }
   ],
   "source": [
    "a, l = crop_face(img_test)"
   ]
  },
  {
   "cell_type": "code",
   "execution_count": 47,
   "id": "c9da0332-8b47-4f13-b2b4-e8453bd3f41a",
   "metadata": {},
   "outputs": [
    {
     "name": "stderr",
     "output_type": "stream",
     "text": [
      "<ipython-input-11-955b05f10e5a>:4: DeprecationWarning: elementwise comparison failed; this will raise an error in the future.\n",
      "  if faces == ():\n"
     ]
    }
   ],
   "source": [
    "c = get_landmarks_dlib(img_test)"
   ]
  },
  {
   "cell_type": "code",
   "execution_count": 48,
   "id": "5b02b8c8-96e7-4269-864b-e0d1e13c55aa",
   "metadata": {},
   "outputs": [
    {
     "data": {
      "text/plain": [
       "[505, 280]"
      ]
     },
     "execution_count": 48,
     "metadata": {},
     "output_type": "execute_result"
    }
   ],
   "source": [
    "c[0].tolist()[0]"
   ]
  },
  {
   "cell_type": "code",
   "execution_count": 58,
   "id": "b9bf11aa-0b5d-4a8b-8067-33a2a53d4dde",
   "metadata": {},
   "outputs": [],
   "source": [
    "def get_dlib_landmarks(landmarks_list):\n",
    "    dlib_res = {}\n",
    "    dlib_res[\"id_dlib\"] = []\n",
    "    dlib_res[\"x_dlib\"] = []\n",
    "    dlib_res[\"y_dlib\"] = []\n",
    "    for i, landmarks in enumerate(landmarks_list):\n",
    "        landmarks = landmarks.tolist()[0]\n",
    "        dlib_res[\"id_dlib\"].append(i)\n",
    "        dlib_res[\"x_dlib\"].append(landmarks[0])\n",
    "        dlib_res[\"y_dlib\"].append(landmarks[1])\n",
    "        \n",
    "    return pd.DataFrame(dlib_res)        "
   ]
  },
  {
   "cell_type": "code",
   "execution_count": 59,
   "id": "2b2e6402-7de5-4630-bc81-098f836a3b20",
   "metadata": {},
   "outputs": [],
   "source": [
    "df_dlib_landmarks = get_dlib_landmarks(c)"
   ]
  },
  {
   "cell_type": "code",
   "execution_count": 60,
   "id": "f07aa88f-4d7e-4405-b72e-1fc5cfa8c95a",
   "metadata": {},
   "outputs": [
    {
     "data": {
      "text/html": [
       "<div>\n",
       "<style scoped>\n",
       "    .dataframe tbody tr th:only-of-type {\n",
       "        vertical-align: middle;\n",
       "    }\n",
       "\n",
       "    .dataframe tbody tr th {\n",
       "        vertical-align: top;\n",
       "    }\n",
       "\n",
       "    .dataframe thead th {\n",
       "        text-align: right;\n",
       "    }\n",
       "</style>\n",
       "<table border=\"1\" class=\"dataframe\">\n",
       "  <thead>\n",
       "    <tr style=\"text-align: right;\">\n",
       "      <th></th>\n",
       "      <th>id_dlib</th>\n",
       "      <th>x_dlib</th>\n",
       "      <th>y_dlib</th>\n",
       "    </tr>\n",
       "  </thead>\n",
       "  <tbody>\n",
       "    <tr>\n",
       "      <th>0</th>\n",
       "      <td>0</td>\n",
       "      <td>505</td>\n",
       "      <td>280</td>\n",
       "    </tr>\n",
       "    <tr>\n",
       "      <th>1</th>\n",
       "      <td>1</td>\n",
       "      <td>508</td>\n",
       "      <td>304</td>\n",
       "    </tr>\n",
       "    <tr>\n",
       "      <th>2</th>\n",
       "      <td>2</td>\n",
       "      <td>512</td>\n",
       "      <td>329</td>\n",
       "    </tr>\n",
       "    <tr>\n",
       "      <th>3</th>\n",
       "      <td>3</td>\n",
       "      <td>523</td>\n",
       "      <td>357</td>\n",
       "    </tr>\n",
       "    <tr>\n",
       "      <th>4</th>\n",
       "      <td>4</td>\n",
       "      <td>535</td>\n",
       "      <td>382</td>\n",
       "    </tr>\n",
       "  </tbody>\n",
       "</table>\n",
       "</div>"
      ],
      "text/plain": [
       "   id_dlib  x_dlib  y_dlib\n",
       "0        0     505     280\n",
       "1        1     508     304\n",
       "2        2     512     329\n",
       "3        3     523     357\n",
       "4        4     535     382"
      ]
     },
     "execution_count": 60,
     "metadata": {},
     "output_type": "execute_result"
    }
   ],
   "source": [
    "df_dlib_landmarks.head()"
   ]
  },
  {
   "cell_type": "code",
   "execution_count": 61,
   "id": "6dbe20df",
   "metadata": {},
   "outputs": [],
   "source": [
    "#https://www.w3schools.com/python/ref_math_dist.asp"
   ]
  },
  {
   "cell_type": "code",
   "execution_count": 62,
   "id": "630f6761",
   "metadata": {},
   "outputs": [
    {
     "name": "stdout",
     "output_type": "stream",
     "text": [
      "2.0\n"
     ]
    }
   ],
   "source": [
    "# Import math Library\n",
    "import math\n",
    "\n",
    "p = [3]\n",
    "q = [1]\n",
    "\n",
    "# Calculate Euclidean distance\n",
    "print (math.dist(p, q))\n",
    "\n",
    "p = [3, 3]\n",
    "q = [6, 12]\n",
    "\n",
    "x1 = 3\n",
    "x2 = 6\n",
    "y1 = 3\n",
    "y2 = 12\n",
    "\n"
   ]
  },
  {
   "cell_type": "code",
   "execution_count": 63,
   "id": "d4605749",
   "metadata": {},
   "outputs": [
    {
     "name": "stdout",
     "output_type": "stream",
     "text": [
      "9.486832980505138\n",
      "9.486832980505138\n",
      "9.486832980505138\n"
     ]
    }
   ],
   "source": [
    "#https://stackoverflow.com/questions/5228383/how-do-i-find-the-distance-between-two-points\n",
    "    \n",
    "# Calculate Euclidean distance\n",
    "print (math.dist(p, q))\n",
    "\n",
    "dist = math.sqrt( (x2 - x1)**2 + (y2 - y1)**2 )\n",
    "print(dist)\n",
    "\n",
    "dist = math.hypot(x2-x1, y2-y1)\n",
    "print(dist)"
   ]
  },
  {
   "cell_type": "code",
   "execution_count": 64,
   "id": "7b8c971f",
   "metadata": {},
   "outputs": [
    {
     "name": "stdout",
     "output_type": "stream",
     "text": [
      "0.0\n"
     ]
    }
   ],
   "source": [
    "x1 = 3\n",
    "x2 = 3\n",
    "y1 = 3\n",
    "y2 = 3\n",
    "dist = math.hypot(x2-x1, y2-y1)\n",
    "print(dist)"
   ]
  },
  {
   "cell_type": "code",
   "execution_count": 65,
   "id": "bfc86849",
   "metadata": {},
   "outputs": [
    {
     "name": "stdout",
     "output_type": "stream",
     "text": [
      "3.0\n"
     ]
    }
   ],
   "source": [
    "x1 = 3\n",
    "x2 = 3\n",
    "y1 = 3\n",
    "y2 = 6\n",
    "dist = math.hypot(x2-x1, y2-y1)\n",
    "print(dist)"
   ]
  },
  {
   "cell_type": "markdown",
   "id": "736598a0",
   "metadata": {
    "tags": []
   },
   "source": [
    "## Buscar correspondência do dlib no mediapipe\n",
    "Obs.: Consideramos as labels iniciando do 1 e não do 0 (melhor padronizar e iniciar do 0)"
   ]
  },
  {
   "cell_type": "code",
   "execution_count": 66,
   "id": "56d93c83",
   "metadata": {},
   "outputs": [
    {
     "data": {
      "text/plain": [
       "'df = df_mpipe.copy()\\ndf[\"diff_distance\"] = df.apply(lambda row: calculate_distance_euc(row, 192, 477), axis=1)\\n                              \\nretun int(df.loc[df[\\'diff_distance\\'].idxmin()][\\'landmark\\'])'"
      ]
     },
     "execution_count": 66,
     "metadata": {},
     "output_type": "execute_result"
    }
   ],
   "source": [
    "\"\"\"df = df_mpipe.copy()\n",
    "df[\"diff_distance\"] = df.apply(lambda row: calculate_distance_euc(row, 192, 477), axis=1)\n",
    "                              \n",
    "retun int(df.loc[df['diff_distance'].idxmin()]['landmark'])\"\"\""
   ]
  },
  {
   "cell_type": "code",
   "execution_count": 67,
   "id": "f769c6bd",
   "metadata": {},
   "outputs": [],
   "source": [
    "#int(df.loc[df['diff_distance'].idxmin()]['landmark'])"
   ]
  },
  {
   "cell_type": "code",
   "execution_count": 68,
   "id": "796b18c5",
   "metadata": {},
   "outputs": [],
   "source": [
    "def calculate_distance_euc(x1, y1, row):\n",
    "    x2 = row['x']\n",
    "    y2 = row['y']\n",
    "    dist = math.sqrt( (x2 - x1)**2 + (y2 - y1)**2 )\n",
    "    return dist"
   ]
  },
  {
   "cell_type": "code",
   "execution_count": 69,
   "id": "5b755c4e",
   "metadata": {},
   "outputs": [],
   "source": [
    "def calculate_distance(x1_dlib, y1_dlib, df_media):\n",
    "    df_media[\"diff_distance\"] = df_media.apply(lambda row: calculate_distance_euc(x1_dlib, y1_dlib, row), axis=1)\n",
    "    landmark_nearest_mpipe = int(df_media.loc[df_media['diff_distance'].idxmin()]['landmark'])\n",
    "    x = int(df_media.loc[df_media['diff_distance'].idxmin()]['x'])\n",
    "    y = int(df_media.loc[df_media['diff_distance'].idxmin()]['y'])\n",
    "    #land = int(df_media.loc[df_media['diff_distance'].idxmin()]['landmark'])\n",
    "    return landmark_nearest_mpipe, x, y"
   ]
  },
  {
   "cell_type": "code",
   "execution_count": 70,
   "id": "7df73f0d",
   "metadata": {},
   "outputs": [],
   "source": [
    "df_frame_1.columns = [\"landmark\", \"x\", \"y\"]"
   ]
  },
  {
   "cell_type": "code",
   "execution_count": 224,
   "id": "918a073a",
   "metadata": {},
   "outputs": [],
   "source": [
    "df_dlib_cp = df_frame_1.copy()"
   ]
  },
  {
   "cell_type": "code",
   "execution_count": 226,
   "id": "ad39a79a",
   "metadata": {},
   "outputs": [
    {
     "data": {
      "text/html": [
       "<div>\n",
       "<style scoped>\n",
       "    .dataframe tbody tr th:only-of-type {\n",
       "        vertical-align: middle;\n",
       "    }\n",
       "\n",
       "    .dataframe tbody tr th {\n",
       "        vertical-align: top;\n",
       "    }\n",
       "\n",
       "    .dataframe thead th {\n",
       "        text-align: right;\n",
       "    }\n",
       "</style>\n",
       "<table border=\"1\" class=\"dataframe\">\n",
       "  <thead>\n",
       "    <tr style=\"text-align: right;\">\n",
       "      <th></th>\n",
       "      <th>landmark</th>\n",
       "      <th>x</th>\n",
       "      <th>y</th>\n",
       "    </tr>\n",
       "  </thead>\n",
       "  <tbody>\n",
       "    <tr>\n",
       "      <th>0</th>\n",
       "      <td>0</td>\n",
       "      <td>190</td>\n",
       "      <td>107</td>\n",
       "    </tr>\n",
       "    <tr>\n",
       "      <th>1</th>\n",
       "      <td>1</td>\n",
       "      <td>191</td>\n",
       "      <td>116</td>\n",
       "    </tr>\n",
       "    <tr>\n",
       "      <th>2</th>\n",
       "      <td>2</td>\n",
       "      <td>193</td>\n",
       "      <td>126</td>\n",
       "    </tr>\n",
       "    <tr>\n",
       "      <th>3</th>\n",
       "      <td>3</td>\n",
       "      <td>197</td>\n",
       "      <td>136</td>\n",
       "    </tr>\n",
       "    <tr>\n",
       "      <th>4</th>\n",
       "      <td>4</td>\n",
       "      <td>202</td>\n",
       "      <td>145</td>\n",
       "    </tr>\n",
       "    <tr>\n",
       "      <th>...</th>\n",
       "      <td>...</td>\n",
       "      <td>...</td>\n",
       "      <td>...</td>\n",
       "    </tr>\n",
       "    <tr>\n",
       "      <th>63</th>\n",
       "      <td>63</td>\n",
       "      <td>225</td>\n",
       "      <td>132</td>\n",
       "    </tr>\n",
       "    <tr>\n",
       "      <th>64</th>\n",
       "      <td>64</td>\n",
       "      <td>239</td>\n",
       "      <td>128</td>\n",
       "    </tr>\n",
       "    <tr>\n",
       "      <th>65</th>\n",
       "      <td>65</td>\n",
       "      <td>227</td>\n",
       "      <td>132</td>\n",
       "    </tr>\n",
       "    <tr>\n",
       "      <th>66</th>\n",
       "      <td>66</td>\n",
       "      <td>222</td>\n",
       "      <td>134</td>\n",
       "    </tr>\n",
       "    <tr>\n",
       "      <th>67</th>\n",
       "      <td>67</td>\n",
       "      <td>217</td>\n",
       "      <td>134</td>\n",
       "    </tr>\n",
       "  </tbody>\n",
       "</table>\n",
       "<p>68 rows × 3 columns</p>\n",
       "</div>"
      ],
      "text/plain": [
       "    landmark    x    y\n",
       "0          0  190  107\n",
       "1          1  191  116\n",
       "2          2  193  126\n",
       "3          3  197  136\n",
       "4          4  202  145\n",
       "..       ...  ...  ...\n",
       "63        63  225  132\n",
       "64        64  239  128\n",
       "65        65  227  132\n",
       "66        66  222  134\n",
       "67        67  217  134\n",
       "\n",
       "[68 rows x 3 columns]"
      ]
     },
     "execution_count": 226,
     "metadata": {},
     "output_type": "execute_result"
    }
   ],
   "source": [
    "df_dlib_cp"
   ]
  },
  {
   "cell_type": "code",
   "execution_count": 227,
   "id": "df3b0b3c",
   "metadata": {},
   "outputs": [],
   "source": [
    "df_mediapipe_cp = df_mediapipe_res.copy()"
   ]
  },
  {
   "cell_type": "code",
   "execution_count": 231,
   "id": "9a3c15c2",
   "metadata": {},
   "outputs": [],
   "source": [
    "df_mediapipe_cp.columns = [\"landmark\", \"x\", \"y\"]"
   ]
  },
  {
   "cell_type": "code",
   "execution_count": 237,
   "id": "404e35b6",
   "metadata": {},
   "outputs": [
    {
     "data": {
      "text/html": [
       "<div>\n",
       "<style scoped>\n",
       "    .dataframe tbody tr th:only-of-type {\n",
       "        vertical-align: middle;\n",
       "    }\n",
       "\n",
       "    .dataframe tbody tr th {\n",
       "        vertical-align: top;\n",
       "    }\n",
       "\n",
       "    .dataframe thead th {\n",
       "        text-align: right;\n",
       "    }\n",
       "</style>\n",
       "<table border=\"1\" class=\"dataframe\">\n",
       "  <thead>\n",
       "    <tr style=\"text-align: right;\">\n",
       "      <th></th>\n",
       "      <th>landmark</th>\n",
       "      <th>x</th>\n",
       "      <th>y</th>\n",
       "      <th>landmark_mpipe</th>\n",
       "      <th>x_mpipe</th>\n",
       "      <th>y_mpipe</th>\n",
       "    </tr>\n",
       "  </thead>\n",
       "  <tbody>\n",
       "    <tr>\n",
       "      <th>0</th>\n",
       "      <td>0</td>\n",
       "      <td>190</td>\n",
       "      <td>107</td>\n",
       "      <td>143</td>\n",
       "      <td>191</td>\n",
       "      <td>107</td>\n",
       "    </tr>\n",
       "    <tr>\n",
       "      <th>1</th>\n",
       "      <td>1</td>\n",
       "      <td>191</td>\n",
       "      <td>116</td>\n",
       "      <td>116</td>\n",
       "      <td>191</td>\n",
       "      <td>115</td>\n",
       "    </tr>\n",
       "    <tr>\n",
       "      <th>2</th>\n",
       "      <td>2</td>\n",
       "      <td>193</td>\n",
       "      <td>126</td>\n",
       "      <td>137</td>\n",
       "      <td>195</td>\n",
       "      <td>124</td>\n",
       "    </tr>\n",
       "    <tr>\n",
       "      <th>3</th>\n",
       "      <td>3</td>\n",
       "      <td>197</td>\n",
       "      <td>136</td>\n",
       "      <td>213</td>\n",
       "      <td>198</td>\n",
       "      <td>136</td>\n",
       "    </tr>\n",
       "    <tr>\n",
       "      <th>4</th>\n",
       "      <td>4</td>\n",
       "      <td>202</td>\n",
       "      <td>145</td>\n",
       "      <td>138</td>\n",
       "      <td>205</td>\n",
       "      <td>145</td>\n",
       "    </tr>\n",
       "    <tr>\n",
       "      <th>...</th>\n",
       "      <td>...</td>\n",
       "      <td>...</td>\n",
       "      <td>...</td>\n",
       "      <td>...</td>\n",
       "      <td>...</td>\n",
       "      <td>...</td>\n",
       "    </tr>\n",
       "    <tr>\n",
       "      <th>63</th>\n",
       "      <td>63</td>\n",
       "      <td>225</td>\n",
       "      <td>132</td>\n",
       "      <td>317</td>\n",
       "      <td>227</td>\n",
       "      <td>132</td>\n",
       "    </tr>\n",
       "    <tr>\n",
       "      <th>64</th>\n",
       "      <td>64</td>\n",
       "      <td>239</td>\n",
       "      <td>128</td>\n",
       "      <td>307</td>\n",
       "      <td>239</td>\n",
       "      <td>128</td>\n",
       "    </tr>\n",
       "    <tr>\n",
       "      <th>65</th>\n",
       "      <td>65</td>\n",
       "      <td>227</td>\n",
       "      <td>132</td>\n",
       "      <td>317</td>\n",
       "      <td>227</td>\n",
       "      <td>132</td>\n",
       "    </tr>\n",
       "    <tr>\n",
       "      <th>66</th>\n",
       "      <td>66</td>\n",
       "      <td>222</td>\n",
       "      <td>134</td>\n",
       "      <td>14</td>\n",
       "      <td>222</td>\n",
       "      <td>133</td>\n",
       "    </tr>\n",
       "    <tr>\n",
       "      <th>67</th>\n",
       "      <td>67</td>\n",
       "      <td>217</td>\n",
       "      <td>134</td>\n",
       "      <td>81</td>\n",
       "      <td>217</td>\n",
       "      <td>133</td>\n",
       "    </tr>\n",
       "  </tbody>\n",
       "</table>\n",
       "<p>68 rows × 6 columns</p>\n",
       "</div>"
      ],
      "text/plain": [
       "    landmark    x    y  landmark_mpipe  x_mpipe  y_mpipe\n",
       "0          0  190  107             143      191      107\n",
       "1          1  191  116             116      191      115\n",
       "2          2  193  126             137      195      124\n",
       "3          3  197  136             213      198      136\n",
       "4          4  202  145             138      205      145\n",
       "..       ...  ...  ...             ...      ...      ...\n",
       "63        63  225  132             317      227      132\n",
       "64        64  239  128             307      239      128\n",
       "65        65  227  132             317      227      132\n",
       "66        66  222  134              14      222      133\n",
       "67        67  217  134              81      217      133\n",
       "\n",
       "[68 rows x 6 columns]"
      ]
     },
     "execution_count": 237,
     "metadata": {},
     "output_type": "execute_result"
    }
   ],
   "source": [
    "df_dlib_cp['landmark_mpipe'], df_dlib_cp['x_mpipe'], df_dlib_cp['y_mpipe'] = zip(*df_dlib_cp.apply(lambda x: calculate_distance(x['x'], x['y'], \n",
    "                                                                                                                                df_mediapipe_cp.copy()), axis=1))\n",
    "df_dlib_cp"
   ]
  },
  {
   "cell_type": "code",
   "execution_count": 238,
   "id": "802de0bd",
   "metadata": {},
   "outputs": [
    {
     "data": {
      "text/plain": [
       "array([143, 116, 137, 213, 138, 135, 150, 176, 152, 377, 378, 379, 397,\n",
       "       288, 361, 323, 454,  53,  54,  66,  66, 107, 285, 296, 334, 293,\n",
       "       301, 168, 245,   3,   4,  64,  98, 164, 326, 460,   7, 160, 158,\n",
       "       133, 153, 145, 382, 385, 373, 339, 373, 380,  43,  40,  39,  11,\n",
       "       302, 269, 306, 405, 314,  17,  84, 181, 146,  88,  87, 317, 307,\n",
       "       317,  14,  81])"
      ]
     },
     "execution_count": 238,
     "metadata": {},
     "output_type": "execute_result"
    }
   ],
   "source": [
    "df_dlib_cp[\"landmark_mpipe\"].values"
   ]
  },
  {
   "cell_type": "code",
   "execution_count": 233,
   "id": "ea667a83",
   "metadata": {},
   "outputs": [
    {
     "data": {
      "text/plain": [
       "<AxesSubplot:xlabel='x', ylabel='y'>"
      ]
     },
     "execution_count": 233,
     "metadata": {},
     "output_type": "execute_result"
    },
    {
     "data": {
      "image/png": "[encoded data removed]",
      "text/plain": [
       "<Figure size 432x288 with 1 Axes>"
      ]
     },
     "metadata": {
      "needs_background": "light"
     },
     "output_type": "display_data"
    }
   ],
   "source": [
    "df_dlib_cp.plot.scatter(x=\"x\", y=\"y\")"
   ]
  },
  {
   "cell_type": "code",
   "execution_count": 235,
   "id": "39a0ff59",
   "metadata": {},
   "outputs": [
    {
     "data": {
      "text/plain": [
       "<AxesSubplot:xlabel='x_mpipe', ylabel='y_mpipe'>"
      ]
     },
     "execution_count": 235,
     "metadata": {},
     "output_type": "execute_result"
    },
    {
     "data": {
      "image/png": "[encoded data removed]",
      "text/plain": [
       "<Figure size 432x288 with 1 Axes>"
      ]
     },
     "metadata": {
      "needs_background": "light"
     },
     "output_type": "display_data"
    }
   ],
   "source": [
    "df_dlib_cp.plot.scatter(x=\"x_mpipe\", y=\"y_mpipe\")"
   ]
  },
  {
   "cell_type": "code",
   "execution_count": 236,
   "id": "bd369a60",
   "metadata": {},
   "outputs": [],
   "source": [
    "df_dlib_cp.to_csv(\"../data/res_mediapipe_dlib.csv\", sep=\";\", index=False)"
   ]
  },
  {
   "cell_type": "code",
   "execution_count": 17,
   "id": "f4b33c7d",
   "metadata": {},
   "outputs": [
    {
     "data": {
      "text/html": [
       "<div>\n",
       "<style scoped>\n",
       "    .dataframe tbody tr th:only-of-type {\n",
       "        vertical-align: middle;\n",
       "    }\n",
       "\n",
       "    .dataframe tbody tr th {\n",
       "        vertical-align: top;\n",
       "    }\n",
       "\n",
       "    .dataframe thead th {\n",
       "        text-align: right;\n",
       "    }\n",
       "</style>\n",
       "<table border=\"1\" class=\"dataframe\">\n",
       "  <thead>\n",
       "    <tr style=\"text-align: right;\">\n",
       "      <th></th>\n",
       "      <th>landmark</th>\n",
       "      <th>x</th>\n",
       "      <th>y</th>\n",
       "      <th>landmark_mpipe</th>\n",
       "      <th>x_mpipe</th>\n",
       "      <th>y_mpipe</th>\n",
       "    </tr>\n",
       "  </thead>\n",
       "  <tbody>\n",
       "    <tr>\n",
       "      <th>0</th>\n",
       "      <td>1</td>\n",
       "      <td>192</td>\n",
       "      <td>477</td>\n",
       "      <td>35</td>\n",
       "      <td>203</td>\n",
       "      <td>478</td>\n",
       "    </tr>\n",
       "    <tr>\n",
       "      <th>1</th>\n",
       "      <td>2</td>\n",
       "      <td>205</td>\n",
       "      <td>528</td>\n",
       "      <td>228</td>\n",
       "      <td>209</td>\n",
       "      <td>517</td>\n",
       "    </tr>\n",
       "    <tr>\n",
       "      <th>2</th>\n",
       "      <td>3</td>\n",
       "      <td>220</td>\n",
       "      <td>578</td>\n",
       "      <td>148</td>\n",
       "      <td>237</td>\n",
       "      <td>575</td>\n",
       "    </tr>\n",
       "    <tr>\n",
       "      <th>3</th>\n",
       "      <td>4</td>\n",
       "      <td>239</td>\n",
       "      <td>630</td>\n",
       "      <td>216</td>\n",
       "      <td>254</td>\n",
       "      <td>627</td>\n",
       "    </tr>\n",
       "    <tr>\n",
       "      <th>4</th>\n",
       "      <td>5</td>\n",
       "      <td>268</td>\n",
       "      <td>674</td>\n",
       "      <td>139</td>\n",
       "      <td>282</td>\n",
       "      <td>652</td>\n",
       "    </tr>\n",
       "    <tr>\n",
       "      <th>...</th>\n",
       "      <td>...</td>\n",
       "      <td>...</td>\n",
       "      <td>...</td>\n",
       "      <td>...</td>\n",
       "      <td>...</td>\n",
       "      <td>...</td>\n",
       "    </tr>\n",
       "    <tr>\n",
       "      <th>63</th>\n",
       "      <td>64</td>\n",
       "      <td>478</td>\n",
       "      <td>554</td>\n",
       "      <td>269</td>\n",
       "      <td>469</td>\n",
       "      <td>553</td>\n",
       "    </tr>\n",
       "    <tr>\n",
       "      <th>64</th>\n",
       "      <td>65</td>\n",
       "      <td>548</td>\n",
       "      <td>545</td>\n",
       "      <td>307</td>\n",
       "      <td>544</td>\n",
       "      <td>536</td>\n",
       "    </tr>\n",
       "    <tr>\n",
       "      <th>65</th>\n",
       "      <td>66</td>\n",
       "      <td>486</td>\n",
       "      <td>591</td>\n",
       "      <td>318</td>\n",
       "      <td>479</td>\n",
       "      <td>593</td>\n",
       "    </tr>\n",
       "    <tr>\n",
       "      <th>66</th>\n",
       "      <td>67</td>\n",
       "      <td>454</td>\n",
       "      <td>603</td>\n",
       "      <td>15</td>\n",
       "      <td>454</td>\n",
       "      <td>603</td>\n",
       "    </tr>\n",
       "    <tr>\n",
       "      <th>67</th>\n",
       "      <td>68</td>\n",
       "      <td>418</td>\n",
       "      <td>610</td>\n",
       "      <td>88</td>\n",
       "      <td>429</td>\n",
       "      <td>609</td>\n",
       "    </tr>\n",
       "  </tbody>\n",
       "</table>\n",
       "<p>68 rows × 6 columns</p>\n",
       "</div>"
      ],
      "text/plain": [
       "    landmark    x    y  landmark_mpipe  x_mpipe  y_mpipe\n",
       "0          1  192  477              35      203      478\n",
       "1          2  205  528             228      209      517\n",
       "2          3  220  578             148      237      575\n",
       "3          4  239  630             216      254      627\n",
       "4          5  268  674             139      282      652\n",
       "..       ...  ...  ...             ...      ...      ...\n",
       "63        64  478  554             269      469      553\n",
       "64        65  548  545             307      544      536\n",
       "65        66  486  591             318      479      593\n",
       "66        67  454  603              15      454      603\n",
       "67        68  418  610              88      429      609\n",
       "\n",
       "[68 rows x 6 columns]"
      ]
     },
     "execution_count": 17,
     "metadata": {},
     "output_type": "execute_result"
    }
   ],
   "source": [
    "df_dlib['landmark_mpipe'], df_dlib['x_mpipe'], df_dlib['y_mpipe'] = zip(*df_dlib.apply(lambda x: calculate_distance(x['x'], x['y'], df_mpipe.copy()), axis=1))\n",
    "df_dlib"
   ]
  },
  {
   "cell_type": "code",
   "execution_count": 18,
   "id": "bcc368ee",
   "metadata": {},
   "outputs": [],
   "source": [
    "df_dlib.to_csv(\n",
    "        \"../../data/examples/lands_mp_match_dlib_682d\" + str(\".csv\"), sep=\";\"\n",
    "    )"
   ]
  },
  {
   "cell_type": "code",
   "execution_count": 27,
   "id": "a78e5c81",
   "metadata": {},
   "outputs": [
    {
     "name": "stdout",
     "output_type": "stream",
     "text": [
      "Collecting matplotlib\n",
      "  Using cached matplotlib-3.5.1-cp38-cp38-manylinux_2_5_x86_64.manylinux1_x86_64.whl (11.3 MB)\n",
      "Requirement already satisfied: python-dateutil>=2.7 in /usr/lib/python3/dist-packages (from matplotlib) (2.7.3)\n",
      "Requirement already satisfied: pillow>=6.2.0 in /usr/lib/python3/dist-packages (from matplotlib) (7.0.0)\n",
      "Requirement already satisfied: numpy>=1.17 in /home/jms2/.local/lib/python3.8/site-packages (from matplotlib) (1.21.4)\n",
      "Collecting fonttools>=4.22.0\n",
      "  Using cached fonttools-4.28.5-py3-none-any.whl (890 kB)\n",
      "Requirement already satisfied: pyparsing>=2.2.1 in /home/jms2/.local/lib/python3.8/site-packages (from matplotlib) (2.4.7)\n",
      "Collecting kiwisolver>=1.0.1\n",
      "  Using cached kiwisolver-1.3.2-cp38-cp38-manylinux_2_5_x86_64.manylinux1_x86_64.whl (1.2 MB)\n",
      "Requirement already satisfied: packaging>=20.0 in /home/jms2/.local/lib/python3.8/site-packages (from matplotlib) (21.2)\n",
      "Collecting cycler>=0.10\n",
      "  Using cached cycler-0.11.0-py3-none-any.whl (6.4 kB)\n",
      "Installing collected packages: fonttools, kiwisolver, cycler, matplotlib\n",
      "Successfully installed cycler-0.11.0 fonttools-4.28.5 kiwisolver-1.3.2 matplotlib-3.5.1\n",
      "Note: you may need to restart the kernel to use updated packages.\n"
     ]
    }
   ],
   "source": [
    "pip install matplotlib"
   ]
  },
  {
   "cell_type": "code",
   "execution_count": 28,
   "id": "81b1ef6c",
   "metadata": {},
   "outputs": [],
   "source": [
    "from matplotlib import pyplot as plt\n"
   ]
  },
  {
   "cell_type": "code",
   "execution_count": 29,
   "id": "6bbbd9b5",
   "metadata": {},
   "outputs": [
    {
     "data": {
      "text/plain": [
       "<AxesSubplot:xlabel='x', ylabel='y'>"
      ]
     },
     "execution_count": 29,
     "metadata": {},
     "output_type": "execute_result"
    },
    {
     "data": {
      "image/png": "[encoded data removed]",
      "text/plain": [
       "<Figure size 432x288 with 1 Axes>"
      ]
     },
     "metadata": {
      "needs_background": "light"
     },
     "output_type": "display_data"
    }
   ],
   "source": [
    "df_dlib.plot.scatter(x='x', y='y')"
   ]
  },
  {
   "cell_type": "code",
   "execution_count": 30,
   "id": "69751388",
   "metadata": {},
   "outputs": [
    {
     "data": {
      "text/plain": [
       "<AxesSubplot:xlabel='x_mpipe', ylabel='y_mpipe'>"
      ]
     },
     "execution_count": 30,
     "metadata": {},
     "output_type": "execute_result"
    },
    {
     "data": {
      "image/png": "[encoded data removed]",
      "text/plain": [
       "<Figure size 432x288 with 1 Axes>"
      ]
     },
     "metadata": {
      "needs_background": "light"
     },
     "output_type": "display_data"
    }
   ],
   "source": [
    "df_dlib.plot.scatter(x='x_mpipe', y='y_mpipe')"
   ]
  },
  {
   "cell_type": "code",
   "execution_count": 31,
   "id": "614ac47b",
   "metadata": {},
   "outputs": [
    {
     "name": "stdout",
     "output_type": "stream",
     "text": [
      "<class 'pandas.core.frame.DataFrame'>\n",
      "Int64Index: 68 entries, 0 to 67\n",
      "Data columns (total 6 columns):\n",
      " #   Column          Non-Null Count  Dtype\n",
      "---  ------          --------------  -----\n",
      " 0   landmark        68 non-null     int64\n",
      " 1   x               68 non-null     int64\n",
      " 2   y               68 non-null     int64\n",
      " 3   landmark_mpipe  68 non-null     int64\n",
      " 4   x_mpipe         68 non-null     int64\n",
      " 5   y_mpipe         68 non-null     int64\n",
      "dtypes: int64(6)\n",
      "memory usage: 3.7 KB\n"
     ]
    }
   ],
   "source": [
    "df_dlib.info()"
   ]
  },
  {
   "cell_type": "code",
   "execution_count": null,
   "id": "13a7ef71",
   "metadata": {},
   "outputs": [],
   "source": []
  },
  {
   "cell_type": "code",
   "execution_count": null,
   "id": "feaa2482-abfd-41aa-bd93-4624fe8323ea",
   "metadata": {},
   "outputs": [],
   "source": []
  },
  {
   "cell_type": "code",
   "execution_count": null,
   "id": "61efbaa7-beb6-43af-b175-06608a4492ff",
   "metadata": {},
   "outputs": [],
   "source": []
  },
  {
   "cell_type": "code",
   "execution_count": 6,
   "id": "86ccde21",
   "metadata": {},
   "outputs": [
    {
     "data": {
      "text/html": [
       "<div>\n",
       "<style scoped>\n",
       "    .dataframe tbody tr th:only-of-type {\n",
       "        vertical-align: middle;\n",
       "    }\n",
       "\n",
       "    .dataframe tbody tr th {\n",
       "        vertical-align: top;\n",
       "    }\n",
       "\n",
       "    .dataframe thead th {\n",
       "        text-align: right;\n",
       "    }\n",
       "</style>\n",
       "<table border=\"1\" class=\"dataframe\">\n",
       "  <thead>\n",
       "    <tr style=\"text-align: right;\">\n",
       "      <th></th>\n",
       "      <th>landmark</th>\n",
       "      <th>x</th>\n",
       "      <th>y</th>\n",
       "    </tr>\n",
       "  </thead>\n",
       "  <tbody>\n",
       "    <tr>\n",
       "      <th>0</th>\n",
       "      <td>1</td>\n",
       "      <td>192</td>\n",
       "      <td>477</td>\n",
       "    </tr>\n",
       "    <tr>\n",
       "      <th>1</th>\n",
       "      <td>2</td>\n",
       "      <td>205</td>\n",
       "      <td>528</td>\n",
       "    </tr>\n",
       "    <tr>\n",
       "      <th>2</th>\n",
       "      <td>3</td>\n",
       "      <td>220</td>\n",
       "      <td>578</td>\n",
       "    </tr>\n",
       "    <tr>\n",
       "      <th>3</th>\n",
       "      <td>4</td>\n",
       "      <td>239</td>\n",
       "      <td>630</td>\n",
       "    </tr>\n",
       "  </tbody>\n",
       "</table>\n",
       "</div>"
      ],
      "text/plain": [
       "   landmark    x    y\n",
       "0         1  192  477\n",
       "1         2  205  528\n",
       "2         3  220  578\n",
       "3         4  239  630"
      ]
     },
     "execution_count": 6,
     "metadata": {},
     "output_type": "execute_result"
    }
   ],
   "source": [
    "df_dlib = pd.read_csv('./../../data/examples/me_landmaks_dlib.csv', sep=';', names=['landmark', 'x', 'y'], header=0)\n",
    "df_dlib.head(4)"
   ]
  },
  {
   "cell_type": "code",
   "execution_count": 7,
   "id": "596b9713",
   "metadata": {},
   "outputs": [
    {
     "data": {
      "text/plain": [
       "(68, 3)"
      ]
     },
     "execution_count": 7,
     "metadata": {},
     "output_type": "execute_result"
    }
   ],
   "source": [
    "df_dlib.shape"
   ]
  },
  {
   "cell_type": "code",
   "execution_count": null,
   "id": "04c403c9",
   "metadata": {},
   "outputs": [],
   "source": [
    "import cv2\n",
    "import numpy as np\n",
    "import mediapipe as mp\n",
    "import os\n",
    "import pandas as pd\n",
    "from protobuf_to_dict import protobuf_to_dict\n"
   ]
  },
  {
   "cell_type": "code",
   "execution_count": null,
   "id": "a70cd77d",
   "metadata": {},
   "outputs": [],
   "source": [
    "\n",
    "# https://pysource.com/2021/05/14/facial-landmarks-detection-with-opencv-mediapipe-and-python/\n",
    "\n",
    "mp_drawing = mp.solutions.drawing_utils\n",
    "mp_drawing_styles = mp.solutions.drawing_styles\n",
    "mp_face_mesh = mp.solutions.face_mesh\n",
    "\n",
    "\n",
    "image = cv2.imread(\"../../../data/examples/me_landmaks_dlib_.jpg\")\n",
    "\n",
    "# For static images:\n",
    "IMAGE_FILES = [image]\n",
    "drawing_spec = mp_drawing.DrawingSpec(thickness=1, circle_radius=1)\n",
    "height, width, _ = image.shape\n",
    "\n",
    "df = pd.DataFrame(columns=[\"landmark\", \"x\", \"y\"])\n",
    "\n",
    "with mp_face_mesh.FaceMesh(\n",
    "    static_image_mode=True, max_num_faces=1, min_detection_confidence=0.5\n",
    ") as face_mesh:\n",
    "    print(\"222\")\n",
    "    for idx, file in enumerate(IMAGE_FILES):\n",
    "        print(\"333\")\n",
    "        # image = cv2.imread(file)\n",
    "        # Convert the BGR image to RGB before processing.\n",
    "        results = face_mesh.process(cv2.cvtColor(image, cv2.COLOR_BGR2RGB))\n",
    "\n",
    "        # Print and draw face mesh landmarks on the image.\n",
    "        if not results.multi_face_landmarks:\n",
    "            continue\n",
    "        # annotated_image = image.copy()\n",
    "        for face_landmarks in results.multi_face_landmarks:\n",
    "            # print(\"face_landmarks:\", face_landmarks)\n",
    "            \"\"\"mp_drawing.draw_landmarks(\n",
    "                image=annotated_image,\n",
    "                landmark_list=face_landmarks,\n",
    "                connections=mp_face_mesh.FACEMESH_TESSELATION,\n",
    "                landmark_drawing_spec=None,\n",
    "                connection_drawing_spec=mp_drawing_styles.get_default_face_mesh_tesselation_style(),\n",
    "            )\n",
    "            mp_drawing.draw_landmarks(\n",
    "                image=annotated_image,\n",
    "                landmark_list=face_landmarks,\n",
    "                connections=mp_face_mesh.FACEMESH_CONTOURS,\n",
    "                landmark_drawing_spec=None,\n",
    "                connection_drawing_spec=mp_drawing_styles.get_default_face_mesh_contours_style(),\n",
    "            )\"\"\"\n",
    "\n",
    "            \"\"\"keypoints = protobuf_to_dict(face_landmarks)\n",
    "            for i in range(0, len(keypoints[\"landmark\"])):\n",
    "                print(i, keypoints[\"landmark\"][i][\"x\"],\n",
    "                      keypoints[\"landmark\"][i][\"y\"])\"\"\"\n",
    "\n",
    "            for n in range(0, 468):\n",
    "                pt1 = face_landmarks.landmark[n]\n",
    "                x = int(pt1.x * width)\n",
    "                y = int(pt1.y * height)\n",
    "\n",
    "                cv2.circle(image, (x, y), 2, (0, 0, 255), -1)\n",
    "                \"\"\"mark = n\n",
    "                x = keypoints[\"landmark\"][n][\"x\"]\n",
    "                y = keypoints[\"landmark\"][n][\"y\"]\n",
    "                cv2.circle(image, (x, y), 4, (0, 0, 255), -1)\"\"\"\n",
    "\n",
    "                cv2.putText(\n",
    "                    image,\n",
    "                    text=str(n + 1),\n",
    "                    org=(x, y),\n",
    "                    fontFace=cv2.FONT_HERSHEY_SIMPLEX,\n",
    "                    fontScale=0.3,\n",
    "                    color=(0, 0, 0),\n",
    "                    thickness=1,\n",
    "                    lineType=cv2.LINE_AA,\n",
    "                )\n",
    "\n",
    "                new_row = {\n",
    "                    \"landmark\": n + 1,\n",
    "                    \"x\": x,\n",
    "                    \"y\": y,\n",
    "                }\n",
    "                df = df.append(new_row, ignore_index=True)\n",
    "\n",
    "            # print(\"Qt Keys \" + str(len(keypoints[\"landmark\"])))\n",
    "\n",
    "    cv2.imshow(\"Output\", image)\n",
    "    cv2.waitKey(0)\n",
    "    cv2.imwrite(\"../../../data/examples/me_landmaks_mediapipe_.jpg\", image)\n",
    "    df.to_csv(\n",
    "        \"../../../data/examples/me_landmaks_mediapipe\" + str(\".csv\"), sep=\";\"\n",
    "    )\n"
   ]
  },
  {
   "cell_type": "code",
   "execution_count": null,
   "id": "b2db85f3",
   "metadata": {},
   "outputs": [],
   "source": []
  },
  {
   "cell_type": "code",
   "execution_count": null,
   "id": "26e64d07",
   "metadata": {},
   "outputs": [],
   "source": []
  },
  {
   "cell_type": "code",
   "execution_count": null,
   "id": "2e1f75cc",
   "metadata": {},
   "outputs": [],
   "source": []
  },
  {
   "cell_type": "code",
   "execution_count": null,
   "id": "1e9e22df",
   "metadata": {},
   "outputs": [],
   "source": [
    "Detect landmarks via mediapipe\n",
    "filtrar landmarks correspondentes\n",
    "ordenar\n",
    "exportar"
   ]
  }
 ],
 "metadata": {
  "kernelspec": {
   "display_name": "Python 3",
   "language": "python",
   "name": "python3"
  },
  "language_info": {
   "codemirror_mode": {
    "name": "ipython",
    "version": 3
   },
   "file_extension": ".py",
   "mimetype": "text/x-python",
   "name": "python",
   "nbconvert_exporter": "python",
   "pygments_lexer": "ipython3",
   "version": "3.9.0"
  }
 },
 "nbformat": 4,
 "nbformat_minor": 5
}
