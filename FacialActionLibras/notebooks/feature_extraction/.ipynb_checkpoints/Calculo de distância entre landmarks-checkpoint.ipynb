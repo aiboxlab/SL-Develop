{
 "cells": [
  {
   "cell_type": "code",
   "execution_count": 1,
   "id": "e074f78b",
   "metadata": {},
   "outputs": [
    {
     "name": "stdout",
     "output_type": "stream",
     "text": [
      "Requirement already satisfied: pandas in /home/jms2/.local/lib/python3.8/site-packages (1.3.5)\n",
      "Requirement already satisfied: numpy>=1.17.3; platform_machine != \"aarch64\" and platform_machine != \"arm64\" and python_version < \"3.10\" in /home/jms2/.local/lib/python3.8/site-packages (from pandas) (1.21.4)\n",
      "Requirement already satisfied: python-dateutil>=2.7.3 in /usr/lib/python3/dist-packages (from pandas) (2.7.3)\n",
      "Requirement already satisfied: pytz>=2017.3 in /usr/lib/python3/dist-packages (from pandas) (2019.3)\n",
      "Note: you may need to restart the kernel to use updated packages.\n"
     ]
    }
   ],
   "source": [
    "pip install pandas"
   ]
  },
  {
   "cell_type": "code",
   "execution_count": 1,
   "id": "45737551",
   "metadata": {},
   "outputs": [
    {
     "name": "stdout",
     "output_type": "stream",
     "text": [
      "4433-11.xml\n"
     ]
    }
   ],
   "source": [
    "print(\"{0}{1}-{2}.xml\".format(\"44\", \"33\", \"11\"))"
   ]
  },
  {
   "cell_type": "code",
   "execution_count": 2,
   "id": "59e73533",
   "metadata": {},
   "outputs": [],
   "source": [
    "import csv\n",
    "import pandas as pd\n",
    "import os"
   ]
  },
  {
   "cell_type": "code",
   "execution_count": 3,
   "id": "a441ba45",
   "metadata": {},
   "outputs": [
    {
     "name": "stdout",
     "output_type": "stream",
     "text": [
      "['Obama.jpg', 'me_landmaks_mediapipe_.jpg', 'crianca2_overlaping_682d.jpg', 'crianca_overlaping_682d.csv', 'me_openface.jpg', 'india.jpg', 'v_PlayingFlute_g03_c07.avi', 'me_overlaping_682d.csv', 'modelo_afro_makeup_overlaping_682d.jpg', 'mulher_negra.jpg', 'idoso.jpg', 'crianca2.jpg', 'asiatica_landm_mediap_682d.csv', '.~lock.lands_mp_match_dlib_682d.csv#', 'me_landmaks_mediapipe_682d.jpg', 'asiatica_overlaping_682d.csv', 'machado_assis_landm_mediap_682d.jpg', 'call.py', 'asiatica_landm_mediap_682d.jpg', 'machado_assis_lands_dlib.jpg', 'lands_mp_match_dlib_682d.csv', 'teste', 'v_ApplyEyeMakeup_g01_c02.avi', 'bomdia_libras.mp4', 'me_landmaks_dlib_.jpg', 'v_ShavingBeard_g03_c03.avi', 'asiatica.jpg', 'mulher_negra_overlaping_682d.jpg', 'me_landmaks_dlib.jpg', 'me_landmaks_mediapipe.csv', 'v_ShavingBeard_g04_c02.avi', 'me_overlaping_682d.jpg', 'modelo_afro_makeup.jpg', 'ReadMe', 'idoso_overlaping_682d.csv', 'modelo_afro_makeup_overlaping_682d.csv', 'machado_assis_landm_mediap_682d.csv', 'idoso_overlaping_682d.jpg', 'machado_assis.jpg', '.gitkeep', 'mulher_negra_overlaping_682d.csv', 'v_PlayingFlute_g02_c06.avi', 'asiatica_overlaping_682d.jpg', 'Obama_overlaping_682d.csv', 'asiatica_lands_dlib.jpg', 'machado_assis_overlaping_682d.csv', 'crianca_overlaping_682d.jpg', 'crianca2_overlaping_682d.csv', 'VIDEO_LIBRAS.mp4', 'Originals', 'me_openface.csv', 'me_landmaks_mediapipe_682d.csv', 'teste.py', 'me_landmaks_dlib.csv', 'crianca.jpg', 'me_landmaks_mediapipe.jpg', 'machado_assis_overlaping_682d.jpg', 'images', 'Obama_overlaping_682d.jpg', 'me.jpg']\n"
     ]
    }
   ],
   "source": [
    "print(os.listdir('./../../data/examples/'))"
   ]
  },
  {
   "cell_type": "code",
   "execution_count": 4,
   "id": "706198d5",
   "metadata": {},
   "outputs": [
    {
     "data": {
      "text/html": [
       "<div>\n",
       "<style scoped>\n",
       "    .dataframe tbody tr th:only-of-type {\n",
       "        vertical-align: middle;\n",
       "    }\n",
       "\n",
       "    .dataframe tbody tr th {\n",
       "        vertical-align: top;\n",
       "    }\n",
       "\n",
       "    .dataframe thead th {\n",
       "        text-align: right;\n",
       "    }\n",
       "</style>\n",
       "<table border=\"1\" class=\"dataframe\">\n",
       "  <thead>\n",
       "    <tr style=\"text-align: right;\">\n",
       "      <th></th>\n",
       "      <th>landmark</th>\n",
       "      <th>x</th>\n",
       "      <th>y</th>\n",
       "    </tr>\n",
       "  </thead>\n",
       "  <tbody>\n",
       "    <tr>\n",
       "      <th>0</th>\n",
       "      <td>1</td>\n",
       "      <td>436</td>\n",
       "      <td>550</td>\n",
       "    </tr>\n",
       "    <tr>\n",
       "      <th>1</th>\n",
       "      <td>2</td>\n",
       "      <td>418</td>\n",
       "      <td>502</td>\n",
       "    </tr>\n",
       "    <tr>\n",
       "      <th>2</th>\n",
       "      <td>3</td>\n",
       "      <td>426</td>\n",
       "      <td>519</td>\n",
       "    </tr>\n",
       "    <tr>\n",
       "      <th>3</th>\n",
       "      <td>4</td>\n",
       "      <td>387</td>\n",
       "      <td>447</td>\n",
       "    </tr>\n",
       "  </tbody>\n",
       "</table>\n",
       "</div>"
      ],
      "text/plain": [
       "   landmark    x    y\n",
       "0         1  436  550\n",
       "1         2  418  502\n",
       "2         3  426  519\n",
       "3         4  387  447"
      ]
     },
     "execution_count": 4,
     "metadata": {},
     "output_type": "execute_result"
    }
   ],
   "source": [
    "df_mpipe = pd.read_csv('./../../data/examples/me_landmaks_mediapipe.csv', sep=';', names=['landmark', 'x', 'y'], header=0)\n",
    "df_mpipe.head(4)"
   ]
  },
  {
   "cell_type": "code",
   "execution_count": 5,
   "id": "4f990c64",
   "metadata": {},
   "outputs": [
    {
     "data": {
      "text/plain": [
       "(468, 3)"
      ]
     },
     "execution_count": 5,
     "metadata": {},
     "output_type": "execute_result"
    }
   ],
   "source": [
    "df_mpipe.shape"
   ]
  },
  {
   "cell_type": "code",
   "execution_count": 6,
   "id": "54eee23d",
   "metadata": {},
   "outputs": [
    {
     "data": {
      "text/html": [
       "<div>\n",
       "<style scoped>\n",
       "    .dataframe tbody tr th:only-of-type {\n",
       "        vertical-align: middle;\n",
       "    }\n",
       "\n",
       "    .dataframe tbody tr th {\n",
       "        vertical-align: top;\n",
       "    }\n",
       "\n",
       "    .dataframe thead th {\n",
       "        text-align: right;\n",
       "    }\n",
       "</style>\n",
       "<table border=\"1\" class=\"dataframe\">\n",
       "  <thead>\n",
       "    <tr style=\"text-align: right;\">\n",
       "      <th></th>\n",
       "      <th>landmark</th>\n",
       "      <th>x</th>\n",
       "      <th>y</th>\n",
       "    </tr>\n",
       "  </thead>\n",
       "  <tbody>\n",
       "    <tr>\n",
       "      <th>0</th>\n",
       "      <td>1</td>\n",
       "      <td>192</td>\n",
       "      <td>477</td>\n",
       "    </tr>\n",
       "    <tr>\n",
       "      <th>1</th>\n",
       "      <td>2</td>\n",
       "      <td>205</td>\n",
       "      <td>528</td>\n",
       "    </tr>\n",
       "    <tr>\n",
       "      <th>2</th>\n",
       "      <td>3</td>\n",
       "      <td>220</td>\n",
       "      <td>578</td>\n",
       "    </tr>\n",
       "    <tr>\n",
       "      <th>3</th>\n",
       "      <td>4</td>\n",
       "      <td>239</td>\n",
       "      <td>630</td>\n",
       "    </tr>\n",
       "  </tbody>\n",
       "</table>\n",
       "</div>"
      ],
      "text/plain": [
       "   landmark    x    y\n",
       "0         1  192  477\n",
       "1         2  205  528\n",
       "2         3  220  578\n",
       "3         4  239  630"
      ]
     },
     "execution_count": 6,
     "metadata": {},
     "output_type": "execute_result"
    }
   ],
   "source": [
    "df_dlib = pd.read_csv('./../../data/examples/me_landmaks_dlib.csv', sep=';', names=['landmark', 'x', 'y'], header=0)\n",
    "df_dlib.head(4)"
   ]
  },
  {
   "cell_type": "code",
   "execution_count": 7,
   "id": "1e86cafc",
   "metadata": {},
   "outputs": [
    {
     "data": {
      "text/plain": [
       "(68, 3)"
      ]
     },
     "execution_count": 7,
     "metadata": {},
     "output_type": "execute_result"
    }
   ],
   "source": [
    "df_dlib.shape"
   ]
  },
  {
   "cell_type": "code",
   "execution_count": 8,
   "id": "3b6b04ba",
   "metadata": {},
   "outputs": [],
   "source": [
    "#https://www.w3schools.com/python/ref_math_dist.asp"
   ]
  },
  {
   "cell_type": "code",
   "execution_count": 9,
   "id": "35cb2fe2",
   "metadata": {},
   "outputs": [
    {
     "name": "stdout",
     "output_type": "stream",
     "text": [
      "2.0\n"
     ]
    }
   ],
   "source": [
    "# Import math Library\n",
    "import math\n",
    "\n",
    "p = [3]\n",
    "q = [1]\n",
    "\n",
    "# Calculate Euclidean distance\n",
    "print (math.dist(p, q))\n",
    "\n",
    "p = [3, 3]\n",
    "q = [6, 12]\n",
    "\n",
    "x1 = 3\n",
    "x2 = 6\n",
    "y1 = 3\n",
    "y2 = 12\n",
    "\n"
   ]
  },
  {
   "cell_type": "code",
   "execution_count": 10,
   "id": "62b96f4c",
   "metadata": {},
   "outputs": [
    {
     "name": "stdout",
     "output_type": "stream",
     "text": [
      "9.486832980505138\n",
      "9.486832980505138\n",
      "9.486832980505138\n"
     ]
    }
   ],
   "source": [
    "#https://stackoverflow.com/questions/5228383/how-do-i-find-the-distance-between-two-points\n",
    "    \n",
    "# Calculate Euclidean distance\n",
    "print (math.dist(p, q))\n",
    "\n",
    "dist = math.sqrt( (x2 - x1)**2 + (y2 - y1)**2 )\n",
    "print(dist)\n",
    "\n",
    "dist = math.hypot(x2-x1, y2-y1)\n",
    "print(dist)"
   ]
  },
  {
   "cell_type": "code",
   "execution_count": 11,
   "id": "2eacc531",
   "metadata": {},
   "outputs": [
    {
     "name": "stdout",
     "output_type": "stream",
     "text": [
      "0.0\n"
     ]
    }
   ],
   "source": [
    "x1 = 3\n",
    "x2 = 3\n",
    "y1 = 3\n",
    "y2 = 3\n",
    "dist = math.hypot(x2-x1, y2-y1)\n",
    "print(dist)"
   ]
  },
  {
   "cell_type": "code",
   "execution_count": 12,
   "id": "7197d5ea",
   "metadata": {},
   "outputs": [
    {
     "name": "stdout",
     "output_type": "stream",
     "text": [
      "3.0\n"
     ]
    }
   ],
   "source": [
    "x1 = 3\n",
    "x2 = 3\n",
    "y1 = 3\n",
    "y2 = 6\n",
    "dist = math.hypot(x2-x1, y2-y1)\n",
    "print(dist)"
   ]
  },
  {
   "cell_type": "markdown",
   "id": "669e6358",
   "metadata": {},
   "source": [
    "## Buscar correspondência do dlib no mediapipe\n",
    "Obs.: Consideramos as labels iniciando do 1 e não do 0 (melhor padronizar e iniciar do 0)"
   ]
  },
  {
   "cell_type": "code",
   "execution_count": 13,
   "id": "56a1dd54",
   "metadata": {},
   "outputs": [
    {
     "data": {
      "text/plain": [
       "'df = df_mpipe.copy()\\ndf[\"diff_distance\"] = df.apply(lambda row: calculate_distance_euc(row, 192, 477), axis=1)\\n                              \\nretun int(df.loc[df[\\'diff_distance\\'].idxmin()][\\'landmark\\'])'"
      ]
     },
     "execution_count": 13,
     "metadata": {},
     "output_type": "execute_result"
    }
   ],
   "source": [
    "\"\"\"df = df_mpipe.copy()\n",
    "df[\"diff_distance\"] = df.apply(lambda row: calculate_distance_euc(row, 192, 477), axis=1)\n",
    "                              \n",
    "retun int(df.loc[df['diff_distance'].idxmin()]['landmark'])\"\"\""
   ]
  },
  {
   "cell_type": "code",
   "execution_count": 14,
   "id": "380b5687",
   "metadata": {},
   "outputs": [],
   "source": [
    "#int(df.loc[df['diff_distance'].idxmin()]['landmark'])"
   ]
  },
  {
   "cell_type": "code",
   "execution_count": 15,
   "id": "924fbd47",
   "metadata": {},
   "outputs": [],
   "source": [
    "def calculate_distance_euc(x1, y1, row):\n",
    "    x2 = row['x']\n",
    "    y2 = row['y']\n",
    "    dist = math.sqrt( (x2 - x1)**2 + (y2 - y1)**2 )\n",
    "    return dist"
   ]
  },
  {
   "cell_type": "code",
   "execution_count": 16,
   "id": "fa172bd6",
   "metadata": {},
   "outputs": [],
   "source": [
    "def calculate_distance(x1_dlib, y1_dlib, df_media):\n",
    "    df_media[\"diff_distance\"] = df_media.apply(lambda row: calculate_distance_euc(x1_dlib, y1_dlib, row), axis=1)\n",
    "    landmark_nearest_mpipe = int(df_media.loc[df_media['diff_distance'].idxmin()]['landmark'])\n",
    "    x = int(df_media.loc[df_media['diff_distance'].idxmin()]['x'])\n",
    "    y = int(df_media.loc[df_media['diff_distance'].idxmin()]['y'])\n",
    "    #land = int(df_media.loc[df_media['diff_distance'].idxmin()]['landmark'])\n",
    "    return landmark_nearest_mpipe, x, y\n",
    "    "
   ]
  },
  {
   "cell_type": "code",
   "execution_count": 17,
   "id": "73c076f3",
   "metadata": {},
   "outputs": [
    {
     "data": {
      "text/html": [
       "<div>\n",
       "<style scoped>\n",
       "    .dataframe tbody tr th:only-of-type {\n",
       "        vertical-align: middle;\n",
       "    }\n",
       "\n",
       "    .dataframe tbody tr th {\n",
       "        vertical-align: top;\n",
       "    }\n",
       "\n",
       "    .dataframe thead th {\n",
       "        text-align: right;\n",
       "    }\n",
       "</style>\n",
       "<table border=\"1\" class=\"dataframe\">\n",
       "  <thead>\n",
       "    <tr style=\"text-align: right;\">\n",
       "      <th></th>\n",
       "      <th>landmark</th>\n",
       "      <th>x</th>\n",
       "      <th>y</th>\n",
       "      <th>landmark_mpipe</th>\n",
       "      <th>x_mpipe</th>\n",
       "      <th>y_mpipe</th>\n",
       "    </tr>\n",
       "  </thead>\n",
       "  <tbody>\n",
       "    <tr>\n",
       "      <th>0</th>\n",
       "      <td>1</td>\n",
       "      <td>192</td>\n",
       "      <td>477</td>\n",
       "      <td>35</td>\n",
       "      <td>203</td>\n",
       "      <td>478</td>\n",
       "    </tr>\n",
       "    <tr>\n",
       "      <th>1</th>\n",
       "      <td>2</td>\n",
       "      <td>205</td>\n",
       "      <td>528</td>\n",
       "      <td>228</td>\n",
       "      <td>209</td>\n",
       "      <td>517</td>\n",
       "    </tr>\n",
       "    <tr>\n",
       "      <th>2</th>\n",
       "      <td>3</td>\n",
       "      <td>220</td>\n",
       "      <td>578</td>\n",
       "      <td>148</td>\n",
       "      <td>237</td>\n",
       "      <td>575</td>\n",
       "    </tr>\n",
       "    <tr>\n",
       "      <th>3</th>\n",
       "      <td>4</td>\n",
       "      <td>239</td>\n",
       "      <td>630</td>\n",
       "      <td>216</td>\n",
       "      <td>254</td>\n",
       "      <td>627</td>\n",
       "    </tr>\n",
       "    <tr>\n",
       "      <th>4</th>\n",
       "      <td>5</td>\n",
       "      <td>268</td>\n",
       "      <td>674</td>\n",
       "      <td>139</td>\n",
       "      <td>282</td>\n",
       "      <td>652</td>\n",
       "    </tr>\n",
       "    <tr>\n",
       "      <th>...</th>\n",
       "      <td>...</td>\n",
       "      <td>...</td>\n",
       "      <td>...</td>\n",
       "      <td>...</td>\n",
       "      <td>...</td>\n",
       "      <td>...</td>\n",
       "    </tr>\n",
       "    <tr>\n",
       "      <th>63</th>\n",
       "      <td>64</td>\n",
       "      <td>478</td>\n",
       "      <td>554</td>\n",
       "      <td>269</td>\n",
       "      <td>469</td>\n",
       "      <td>553</td>\n",
       "    </tr>\n",
       "    <tr>\n",
       "      <th>64</th>\n",
       "      <td>65</td>\n",
       "      <td>548</td>\n",
       "      <td>545</td>\n",
       "      <td>307</td>\n",
       "      <td>544</td>\n",
       "      <td>536</td>\n",
       "    </tr>\n",
       "    <tr>\n",
       "      <th>65</th>\n",
       "      <td>66</td>\n",
       "      <td>486</td>\n",
       "      <td>591</td>\n",
       "      <td>318</td>\n",
       "      <td>479</td>\n",
       "      <td>593</td>\n",
       "    </tr>\n",
       "    <tr>\n",
       "      <th>66</th>\n",
       "      <td>67</td>\n",
       "      <td>454</td>\n",
       "      <td>603</td>\n",
       "      <td>15</td>\n",
       "      <td>454</td>\n",
       "      <td>603</td>\n",
       "    </tr>\n",
       "    <tr>\n",
       "      <th>67</th>\n",
       "      <td>68</td>\n",
       "      <td>418</td>\n",
       "      <td>610</td>\n",
       "      <td>88</td>\n",
       "      <td>429</td>\n",
       "      <td>609</td>\n",
       "    </tr>\n",
       "  </tbody>\n",
       "</table>\n",
       "<p>68 rows × 6 columns</p>\n",
       "</div>"
      ],
      "text/plain": [
       "    landmark    x    y  landmark_mpipe  x_mpipe  y_mpipe\n",
       "0          1  192  477              35      203      478\n",
       "1          2  205  528             228      209      517\n",
       "2          3  220  578             148      237      575\n",
       "3          4  239  630             216      254      627\n",
       "4          5  268  674             139      282      652\n",
       "..       ...  ...  ...             ...      ...      ...\n",
       "63        64  478  554             269      469      553\n",
       "64        65  548  545             307      544      536\n",
       "65        66  486  591             318      479      593\n",
       "66        67  454  603              15      454      603\n",
       "67        68  418  610              88      429      609\n",
       "\n",
       "[68 rows x 6 columns]"
      ]
     },
     "execution_count": 17,
     "metadata": {},
     "output_type": "execute_result"
    }
   ],
   "source": [
    "df_dlib['landmark_mpipe'], df_dlib['x_mpipe'], df_dlib['y_mpipe'] = zip(*df_dlib.apply(lambda x: calculate_distance(x['x'], x['y'], df_mpipe.copy()), axis=1))\n",
    "df_dlib"
   ]
  },
  {
   "cell_type": "code",
   "execution_count": 18,
   "id": "5a60cb8b",
   "metadata": {},
   "outputs": [],
   "source": [
    "df_dlib.to_csv(\n",
    "        \"../../data/examples/lands_mp_match_dlib_682d\" + str(\".csv\"), sep=\";\"\n",
    "    )"
   ]
  },
  {
   "cell_type": "code",
   "execution_count": 27,
   "id": "32fe71df",
   "metadata": {},
   "outputs": [
    {
     "name": "stdout",
     "output_type": "stream",
     "text": [
      "Collecting matplotlib\n",
      "  Using cached matplotlib-3.5.1-cp38-cp38-manylinux_2_5_x86_64.manylinux1_x86_64.whl (11.3 MB)\n",
      "Requirement already satisfied: python-dateutil>=2.7 in /usr/lib/python3/dist-packages (from matplotlib) (2.7.3)\n",
      "Requirement already satisfied: pillow>=6.2.0 in /usr/lib/python3/dist-packages (from matplotlib) (7.0.0)\n",
      "Requirement already satisfied: numpy>=1.17 in /home/jms2/.local/lib/python3.8/site-packages (from matplotlib) (1.21.4)\n",
      "Collecting fonttools>=4.22.0\n",
      "  Using cached fonttools-4.28.5-py3-none-any.whl (890 kB)\n",
      "Requirement already satisfied: pyparsing>=2.2.1 in /home/jms2/.local/lib/python3.8/site-packages (from matplotlib) (2.4.7)\n",
      "Collecting kiwisolver>=1.0.1\n",
      "  Using cached kiwisolver-1.3.2-cp38-cp38-manylinux_2_5_x86_64.manylinux1_x86_64.whl (1.2 MB)\n",
      "Requirement already satisfied: packaging>=20.0 in /home/jms2/.local/lib/python3.8/site-packages (from matplotlib) (21.2)\n",
      "Collecting cycler>=0.10\n",
      "  Using cached cycler-0.11.0-py3-none-any.whl (6.4 kB)\n",
      "Installing collected packages: fonttools, kiwisolver, cycler, matplotlib\n",
      "Successfully installed cycler-0.11.0 fonttools-4.28.5 kiwisolver-1.3.2 matplotlib-3.5.1\n",
      "Note: you may need to restart the kernel to use updated packages.\n"
     ]
    }
   ],
   "source": [
    "pip install matplotlib"
   ]
  },
  {
   "cell_type": "code",
   "execution_count": 28,
   "id": "cf640e02",
   "metadata": {},
   "outputs": [],
   "source": [
    "from matplotlib import pyplot as plt\n"
   ]
  },
  {
   "cell_type": "code",
   "execution_count": 29,
   "id": "f84a675a",
   "metadata": {},
   "outputs": [
    {
     "data": {
      "text/plain": [
       "<AxesSubplot:xlabel='x', ylabel='y'>"
      ]
     },
     "execution_count": 29,
     "metadata": {},
     "output_type": "execute_result"
    },
    {
     "data": {
      "image/png": "[encoded data removed]",
      "text/plain": [
       "<Figure size 432x288 with 1 Axes>"
      ]
     },
     "metadata": {
      "needs_background": "light"
     },
     "output_type": "display_data"
    }
   ],
   "source": [
    "df_dlib.plot.scatter(x='x', y='y')"
   ]
  },
  {
   "cell_type": "code",
   "execution_count": 30,
   "id": "a99033a1",
   "metadata": {},
   "outputs": [
    {
     "data": {
      "text/plain": [
       "<AxesSubplot:xlabel='x_mpipe', ylabel='y_mpipe'>"
      ]
     },
     "execution_count": 30,
     "metadata": {},
     "output_type": "execute_result"
    },
    {
     "data": {
      "image/png": "[encoded data removed]",
      "text/plain": [
       "<Figure size 432x288 with 1 Axes>"
      ]
     },
     "metadata": {
      "needs_background": "light"
     },
     "output_type": "display_data"
    }
   ],
   "source": [
    "df_dlib.plot.scatter(x='x_mpipe', y='y_mpipe')"
   ]
  },
  {
   "cell_type": "code",
   "execution_count": 31,
   "id": "412f185d",
   "metadata": {},
   "outputs": [
    {
     "name": "stdout",
     "output_type": "stream",
     "text": [
      "<class 'pandas.core.frame.DataFrame'>\n",
      "Int64Index: 68 entries, 0 to 67\n",
      "Data columns (total 6 columns):\n",
      " #   Column          Non-Null Count  Dtype\n",
      "---  ------          --------------  -----\n",
      " 0   landmark        68 non-null     int64\n",
      " 1   x               68 non-null     int64\n",
      " 2   y               68 non-null     int64\n",
      " 3   landmark_mpipe  68 non-null     int64\n",
      " 4   x_mpipe         68 non-null     int64\n",
      " 5   y_mpipe         68 non-null     int64\n",
      "dtypes: int64(6)\n",
      "memory usage: 3.7 KB\n"
     ]
    }
   ],
   "source": [
    "df_dlib.info()"
   ]
  },
  {
   "cell_type": "code",
   "execution_count": 19,
   "id": "5d4594dc",
   "metadata": {},
   "outputs": [
    {
     "ename": "NameError",
     "evalue": "name 'FIM' is not defined",
     "output_type": "error",
     "traceback": [
      "\u001b[0;31m---------------------------------------------------------------------------\u001b[0m",
      "\u001b[0;31mNameError\u001b[0m                                 Traceback (most recent call last)",
      "\u001b[0;32m/tmp/ipykernel_249673/1681293824.py\u001b[0m in \u001b[0;36m<module>\u001b[0;34m\u001b[0m\n\u001b[0;32m----> 1\u001b[0;31m \u001b[0mFIM\u001b[0m\u001b[0;34m\u001b[0m\u001b[0;34m\u001b[0m\u001b[0m\n\u001b[0m",
      "\u001b[0;31mNameError\u001b[0m: name 'FIM' is not defined"
     ]
    }
   ],
   "source": [
    "FIM"
   ]
  },
  {
   "cell_type": "code",
   "execution_count": null,
   "id": "fb5a7dda",
   "metadata": {},
   "outputs": [],
   "source": []
  },
  {
   "cell_type": "code",
   "execution_count": null,
   "id": "0bb389c0",
   "metadata": {},
   "outputs": [],
   "source": [
    "import cv2\n",
    "import numpy as np\n",
    "import mediapipe as mp\n",
    "import os\n",
    "import pandas as pd\n",
    "from protobuf_to_dict import protobuf_to_dict\n"
   ]
  },
  {
   "cell_type": "code",
   "execution_count": null,
   "id": "b3539632",
   "metadata": {},
   "outputs": [],
   "source": [
    "\n",
    "# https://pysource.com/2021/05/14/facial-landmarks-detection-with-opencv-mediapipe-and-python/\n",
    "\n",
    "mp_drawing = mp.solutions.drawing_utils\n",
    "mp_drawing_styles = mp.solutions.drawing_styles\n",
    "mp_face_mesh = mp.solutions.face_mesh\n",
    "\n",
    "\n",
    "image = cv2.imread(\"../../../data/examples/me_landmaks_dlib_.jpg\")\n",
    "\n",
    "# For static images:\n",
    "IMAGE_FILES = [image]\n",
    "drawing_spec = mp_drawing.DrawingSpec(thickness=1, circle_radius=1)\n",
    "height, width, _ = image.shape\n",
    "\n",
    "df = pd.DataFrame(columns=[\"landmark\", \"x\", \"y\"])\n",
    "\n",
    "with mp_face_mesh.FaceMesh(\n",
    "    static_image_mode=True, max_num_faces=1, min_detection_confidence=0.5\n",
    ") as face_mesh:\n",
    "    print(\"222\")\n",
    "    for idx, file in enumerate(IMAGE_FILES):\n",
    "        print(\"333\")\n",
    "        # image = cv2.imread(file)\n",
    "        # Convert the BGR image to RGB before processing.\n",
    "        results = face_mesh.process(cv2.cvtColor(image, cv2.COLOR_BGR2RGB))\n",
    "\n",
    "        # Print and draw face mesh landmarks on the image.\n",
    "        if not results.multi_face_landmarks:\n",
    "            continue\n",
    "        # annotated_image = image.copy()\n",
    "        for face_landmarks in results.multi_face_landmarks:\n",
    "            # print(\"face_landmarks:\", face_landmarks)\n",
    "            \"\"\"mp_drawing.draw_landmarks(\n",
    "                image=annotated_image,\n",
    "                landmark_list=face_landmarks,\n",
    "                connections=mp_face_mesh.FACEMESH_TESSELATION,\n",
    "                landmark_drawing_spec=None,\n",
    "                connection_drawing_spec=mp_drawing_styles.get_default_face_mesh_tesselation_style(),\n",
    "            )\n",
    "            mp_drawing.draw_landmarks(\n",
    "                image=annotated_image,\n",
    "                landmark_list=face_landmarks,\n",
    "                connections=mp_face_mesh.FACEMESH_CONTOURS,\n",
    "                landmark_drawing_spec=None,\n",
    "                connection_drawing_spec=mp_drawing_styles.get_default_face_mesh_contours_style(),\n",
    "            )\"\"\"\n",
    "\n",
    "            \"\"\"keypoints = protobuf_to_dict(face_landmarks)\n",
    "            for i in range(0, len(keypoints[\"landmark\"])):\n",
    "                print(i, keypoints[\"landmark\"][i][\"x\"],\n",
    "                      keypoints[\"landmark\"][i][\"y\"])\"\"\"\n",
    "\n",
    "            for n in range(0, 468):\n",
    "                pt1 = face_landmarks.landmark[n]\n",
    "                x = int(pt1.x * width)\n",
    "                y = int(pt1.y * height)\n",
    "\n",
    "                cv2.circle(image, (x, y), 2, (0, 0, 255), -1)\n",
    "                \"\"\"mark = n\n",
    "                x = keypoints[\"landmark\"][n][\"x\"]\n",
    "                y = keypoints[\"landmark\"][n][\"y\"]\n",
    "                cv2.circle(image, (x, y), 4, (0, 0, 255), -1)\"\"\"\n",
    "\n",
    "                cv2.putText(\n",
    "                    image,\n",
    "                    text=str(n + 1),\n",
    "                    org=(x, y),\n",
    "                    fontFace=cv2.FONT_HERSHEY_SIMPLEX,\n",
    "                    fontScale=0.3,\n",
    "                    color=(0, 0, 0),\n",
    "                    thickness=1,\n",
    "                    lineType=cv2.LINE_AA,\n",
    "                )\n",
    "\n",
    "                new_row = {\n",
    "                    \"landmark\": n + 1,\n",
    "                    \"x\": x,\n",
    "                    \"y\": y,\n",
    "                }\n",
    "                df = df.append(new_row, ignore_index=True)\n",
    "\n",
    "            # print(\"Qt Keys \" + str(len(keypoints[\"landmark\"])))\n",
    "\n",
    "    cv2.imshow(\"Output\", image)\n",
    "    cv2.waitKey(0)\n",
    "    cv2.imwrite(\"../../../data/examples/me_landmaks_mediapipe_.jpg\", image)\n",
    "    df.to_csv(\n",
    "        \"../../../data/examples/me_landmaks_mediapipe\" + str(\".csv\"), sep=\";\"\n",
    "    )\n"
   ]
  },
  {
   "cell_type": "code",
   "execution_count": null,
   "id": "7fab8d5e",
   "metadata": {},
   "outputs": [],
   "source": []
  },
  {
   "cell_type": "code",
   "execution_count": null,
   "id": "fb40dc31",
   "metadata": {},
   "outputs": [],
   "source": []
  },
  {
   "cell_type": "code",
   "execution_count": null,
   "id": "9f5571f8",
   "metadata": {},
   "outputs": [],
   "source": []
  },
  {
   "cell_type": "code",
   "execution_count": null,
   "id": "8f12c44a",
   "metadata": {},
   "outputs": [],
   "source": [
    "Detect landmarks via mediapipe\n",
    "filtrar landmarks correspondentes\n",
    "ordenar\n",
    "exportar"
   ]
  }
 ],
 "metadata": {
  "kernelspec": {
   "display_name": "Python 3 (ipykernel)",
   "language": "python",
   "name": "python3"
  },
  "language_info": {
   "codemirror_mode": {
    "name": "ipython",
    "version": 3
   },
   "file_extension": ".py",
   "mimetype": "text/x-python",
   "name": "python",
   "nbconvert_exporter": "python",
   "pygments_lexer": "ipython3",
   "version": "3.8.10"
  }
 },
 "nbformat": 4,
 "nbformat_minor": 5
}
