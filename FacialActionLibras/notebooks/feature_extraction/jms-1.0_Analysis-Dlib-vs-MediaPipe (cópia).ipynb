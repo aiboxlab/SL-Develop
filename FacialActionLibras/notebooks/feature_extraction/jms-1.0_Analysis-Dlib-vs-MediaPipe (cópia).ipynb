{
 "cells": [
  {
   "cell_type": "markdown",
   "id": "6c4f3f67",
   "metadata": {},
   "source": [
    "\n",
    "## Pré-Processing"
   ]
  },
  {
   "cell_type": "markdown",
   "id": "7ea12808",
   "metadata": {},
   "source": [
    "Neste jupyter notebook, iremos realizar uma análise comparativa entre os extratores de features da face: MediaPipe e Dlib"
   ]
  },
  {
   "cell_type": "markdown",
   "id": "8b78f412",
   "metadata": {},
   "source": [
    "As features foram extraídas utilizando as seguintes configurações de máquina:\n",
    "    \n",
    "    - 15,4 GiB\n",
    "    - 11th Gen Intel® Core™ i5-1135G7 @ 2.40GHz × 8 \n",
    "    - Mesa Intel® Xe Graphics (TGL GT2)\n",
    "    - 256,1 GB\n",
    "    - Ubuntu 20.04.3 LTS\n",
    "    - 64 bits\n",
    "    \n",
    "Foram utilizados 591 vídeos da base UCF-101, ou seja, todos os vídeos das classes de:\n",
    "    - ApplyEyeMakeup\n",
    "    - BrushingTeeth\n",
    "    - PlayingFlute\n",
    "    - ShavingBeard\n",
    "    \n",
    "A escolha dessas classes de comportamentos, tem como justificativa classes de comportamento que de certa forma enfatizam a face humana durante os vídeos, utilizando movimentos, interações com objetos e cenas com oclusão da face sejam por esses objetos ou membro do corpo, ou pelo movimento associado ao comportamento."
   ]
  },
  {
   "cell_type": "code",
   "execution_count": 1,
   "id": "fa845f76",
   "metadata": {},
   "outputs": [],
   "source": [
    "import os\n",
    "import glob\n",
    "import pandas as pd\n",
    "import seaborn as sns\n",
    "import numpy as np\n",
    "import matplotlib.pyplot as plt\n"
   ]
  },
  {
   "cell_type": "markdown",
   "id": "a1d3b884",
   "metadata": {},
   "source": [
    "# EDA"
   ]
  },
  {
   "cell_type": "code",
   "execution_count": 2,
   "id": "d0d0ac04",
   "metadata": {},
   "outputs": [],
   "source": [
    "def pre_processed(inputs, label_augmentation):\n",
    "    \n",
    "    \"\"\"\n",
    "    **DESCRIÇÃO:\n",
    "    Essa função é responsável por coletar todos os arquivos de features \n",
    "    de cada vídeo da base submetida aos extratores e concatená-los em um único arquivo.\n",
    "    \n",
    "    **INPUT:\n",
    "    inputs: dicionário de extrator vs path dos dados preprocessados csv.\n",
    "    label_augmentation: label do nome da técnica de augmentation utilizada.\n",
    "    \n",
    "    **OUTPUT:\n",
    "    combined_csv: Arquivo csv com as informações dos extratores concatenados.\n",
    "    \n",
    "    \"\"\"\n",
    "    \n",
    "    print(inputs['dlib'])\n",
    "    extension = 'csv'\n",
    "    \n",
    "    label_dlib = 'dlib'+label_augmentation\n",
    "    label_mediapipe = 'mediapipe'+label_augmentation\n",
    "    print(\"----- Pré concat -----\")\n",
    "    \n",
    "    #Dlib\n",
    "    all_filenames = [i for i in glob.glob(inputs['dlib']+'*.{}'.format(extension))]\n",
    "    combined_csv_dlib = pd.concat([pd.read_csv(f, sep=\";\", index_col=None) for f in all_filenames ])\n",
    "    combined_csv_dlib['extractor'] = label_dlib\n",
    "    print(\"Quantidade de Vídeos [Dlib]: \"+str(len(all_filenames)))\n",
    "    print('Quantidade de Frames [Dlib]: '+str(combined_csv_dlib.shape[0]))\n",
    "    \n",
    "    #Mediapipe\n",
    "    all_filenames = [i for i in glob.glob(inputs['mediapipe']+'*.{}'.format(extension))] \n",
    "    combined_csv_mediapipe = pd.concat([pd.read_csv(f, sep=\";\", index_col=None) for f in all_filenames ])\n",
    "    combined_csv_mediapipe['extractor'] = label_mediapipe\n",
    "    print(\"Quantidade de Vídeos [Mediapipe]: \"+str(len(all_filenames)))\n",
    "    print('Quantidade de Frames [Mediapipe]: '+str(combined_csv_mediapipe.shape[0]))\n",
    "    \n",
    "    #Concat\n",
    "    print(\"----- Pós concat -----\")\n",
    "    combined_csv = pd.concat([combined_csv_dlib, combined_csv_mediapipe], axis=0)\n",
    "    print('Linhas, Colunas: '+str(combined_csv.shape))\n",
    "    print('Quantidade de Frames [Dlib]: '+str(combined_csv.loc[combined_csv.extractor == label_dlib].shape))\n",
    "    print('Quantidade de Frames [Mediapipe]: '+str(combined_csv.loc[combined_csv.extractor == label_mediapipe].shape))\n",
    "\n",
    "    print(\"----- Description -----\")\n",
    "    mdnna = (len(combined_csv.loc[(combined_csv.extractor == label_mediapipe) & (combined_csv['keys'].notna())])/len(combined_csv))\n",
    "    mdna = (len(combined_csv.loc[(combined_csv.extractor == label_mediapipe) & (combined_csv['keys'].isna())])/len(combined_csv))\n",
    "    dbnna = (len(combined_csv.loc[(combined_csv.extractor == label_dlib) & (combined_csv['keys'].notna())])/len(combined_csv))\n",
    "    dbna = (len(combined_csv.loc[(combined_csv.extractor == label_dlib) & (combined_csv['keys'].isna())])/len(combined_csv))\n",
    "\n",
    "\n",
    "    print(\"Porcentagem frames com landmarks detectados Mediapipe: {:.2f}%\".format(mdnna))\n",
    "    print(\"Porcentagem frames com landmarks NÃO detectados Mediapipe: {:.2f}%\".format(mdna))\n",
    "    print(\"Porcentagem frames com landmarks detectados Dlib: {:.2f}%\".format(dbnna))\n",
    "    print(\"Porcentagem frames com landmarks NÃO detectados Dlib: {:.2f}%\".format(dbna))\n",
    "    \n",
    "    combined_csv['na'] = np.where(combined_csv['keys'].isna(), 1, 0)\n",
    "    \n",
    "    return combined_csv"
   ]
  },
  {
   "cell_type": "code",
   "execution_count": 3,
   "id": "02c4f4d4",
   "metadata": {},
   "outputs": [
    {
     "name": "stdout",
     "output_type": "stream",
     "text": [
      "../../data/processed/dlib/UCF-101-Analysis/\n",
      "----- Pré concat -----\n",
      "Quantidade de Vídeos [Dlib]: 592\n",
      "Quantidade de Frames [Dlib]: 134484\n",
      "Quantidade de Vídeos [Mediapipe]: 592\n",
      "Quantidade de Frames [Mediapipe]: 134484\n",
      "----- Pós concat -----\n",
      "Linhas, Colunas: (268968, 5)\n",
      "Quantidade de Frames [Dlib]: (134484, 5)\n",
      "Quantidade de Frames [Mediapipe]: (134484, 5)\n",
      "----- Description -----\n",
      "Porcentagem frames com landmarks detectados Mediapipe: 0.41%\n",
      "Porcentagem frames com landmarks NÃO detectados Mediapipe: 0.09%\n",
      "Porcentagem frames com landmarks detectados Dlib: 0.16%\n",
      "Porcentagem frames com landmarks NÃO detectados Dlib: 0.34%\n"
     ]
    }
   ],
   "source": [
    "inputs = {\n",
    "    'dlib': '../../data/processed/dlib/UCF-101-Analysis/',\n",
    "    'mediapipe': '../../data/processed/mediapipe/UCF-101-Analysis/'\n",
    "}\n",
    "\n",
    "combined_csv = pre_processed(inputs, '')\n",
    "combined_csv['class'] = combined_csv['video_name'].str.split('_', expand=True)[1]"
   ]
  },
  {
   "cell_type": "code",
   "execution_count": 4,
   "id": "f52c869f",
   "metadata": {},
   "outputs": [
    {
     "data": {
      "text/html": [
       "<div>\n",
       "<style scoped>\n",
       "    .dataframe tbody tr th:only-of-type {\n",
       "        vertical-align: middle;\n",
       "    }\n",
       "\n",
       "    .dataframe tbody tr th {\n",
       "        vertical-align: top;\n",
       "    }\n",
       "\n",
       "    .dataframe thead th {\n",
       "        text-align: right;\n",
       "    }\n",
       "</style>\n",
       "<table border=\"1\" class=\"dataframe\">\n",
       "  <thead>\n",
       "    <tr style=\"text-align: right;\">\n",
       "      <th></th>\n",
       "      <th>extractor</th>\n",
       "      <th>total_notna</th>\n",
       "    </tr>\n",
       "  </thead>\n",
       "  <tbody>\n",
       "    <tr>\n",
       "      <th>0</th>\n",
       "      <td>dlib</td>\n",
       "      <td>43212</td>\n",
       "    </tr>\n",
       "    <tr>\n",
       "      <th>1</th>\n",
       "      <td>mediapipe</td>\n",
       "      <td>110407</td>\n",
       "    </tr>\n",
       "  </tbody>\n",
       "</table>\n",
       "</div>"
      ],
      "text/plain": [
       "   extractor total_notna\n",
       "0       dlib       43212\n",
       "1  mediapipe      110407"
      ]
     },
     "execution_count": 4,
     "metadata": {},
     "output_type": "execute_result"
    }
   ],
   "source": [
    "df_geral = pd.DataFrame(columns=['extractor', 'total_notna'])\n",
    "\n",
    "df_geral = df_geral.append(\n",
    "[{\n",
    "    'extractor': 'dlib',\n",
    "    'total_notna': int(combined_csv.loc[combined_csv.extractor == 'dlib']['keys'].notna().sum())\n",
    "},\n",
    "{ \n",
    "    'extractor': 'mediapipe',\n",
    "    'total_notna': int(combined_csv.loc[combined_csv.extractor == 'mediapipe']['keys'].notna().sum())\n",
    "}],\n",
    "    \n",
    "ignore_index=True)\n",
    "\n",
    "df_geral"
   ]
  },
  {
   "cell_type": "code",
   "execution_count": 5,
   "id": "7d97ff85",
   "metadata": {},
   "outputs": [
    {
     "data": {
      "text/html": [
       "<div>\n",
       "<style scoped>\n",
       "    .dataframe tbody tr th:only-of-type {\n",
       "        vertical-align: middle;\n",
       "    }\n",
       "\n",
       "    .dataframe tbody tr th {\n",
       "        vertical-align: top;\n",
       "    }\n",
       "\n",
       "    .dataframe thead th {\n",
       "        text-align: right;\n",
       "    }\n",
       "</style>\n",
       "<table border=\"1\" class=\"dataframe\">\n",
       "  <thead>\n",
       "    <tr style=\"text-align: right;\">\n",
       "      <th></th>\n",
       "      <th>Unnamed: 0</th>\n",
       "      <th>frame</th>\n",
       "      <th>video_name</th>\n",
       "      <th>keys</th>\n",
       "      <th>extractor</th>\n",
       "      <th>na</th>\n",
       "      <th>class</th>\n",
       "    </tr>\n",
       "  </thead>\n",
       "  <tbody>\n",
       "    <tr>\n",
       "      <th>0</th>\n",
       "      <td>0</td>\n",
       "      <td>1</td>\n",
       "      <td>v_BrushingTeeth_g21_c04.avi</td>\n",
       "      <td>[[72, 26], [69, 47], [70, 69], [75, 92], [84, ...</td>\n",
       "      <td>dlib</td>\n",
       "      <td>0</td>\n",
       "      <td>BrushingTeeth</td>\n",
       "    </tr>\n",
       "    <tr>\n",
       "      <th>1</th>\n",
       "      <td>1</td>\n",
       "      <td>2</td>\n",
       "      <td>v_BrushingTeeth_g21_c04.avi</td>\n",
       "      <td>[[85, 30], [82, 48], [83, 68], [87, 86], [91, ...</td>\n",
       "      <td>dlib</td>\n",
       "      <td>0</td>\n",
       "      <td>BrushingTeeth</td>\n",
       "    </tr>\n",
       "    <tr>\n",
       "      <th>2</th>\n",
       "      <td>2</td>\n",
       "      <td>3</td>\n",
       "      <td>v_BrushingTeeth_g21_c04.avi</td>\n",
       "      <td>[[75, 31], [74, 50], [75, 71], [79, 91], [84, ...</td>\n",
       "      <td>dlib</td>\n",
       "      <td>0</td>\n",
       "      <td>BrushingTeeth</td>\n",
       "    </tr>\n",
       "    <tr>\n",
       "      <th>3</th>\n",
       "      <td>3</td>\n",
       "      <td>4</td>\n",
       "      <td>v_BrushingTeeth_g21_c04.avi</td>\n",
       "      <td>[[76, 29], [74, 48], [75, 69], [78, 89], [84, ...</td>\n",
       "      <td>dlib</td>\n",
       "      <td>0</td>\n",
       "      <td>BrushingTeeth</td>\n",
       "    </tr>\n",
       "    <tr>\n",
       "      <th>4</th>\n",
       "      <td>4</td>\n",
       "      <td>5</td>\n",
       "      <td>v_BrushingTeeth_g21_c04.avi</td>\n",
       "      <td>[[76, 28], [73, 47], [74, 68], [77, 87], [82, ...</td>\n",
       "      <td>dlib</td>\n",
       "      <td>0</td>\n",
       "      <td>BrushingTeeth</td>\n",
       "    </tr>\n",
       "    <tr>\n",
       "      <th>...</th>\n",
       "      <td>...</td>\n",
       "      <td>...</td>\n",
       "      <td>...</td>\n",
       "      <td>...</td>\n",
       "      <td>...</td>\n",
       "      <td>...</td>\n",
       "      <td>...</td>\n",
       "    </tr>\n",
       "    <tr>\n",
       "      <th>176</th>\n",
       "      <td>176</td>\n",
       "      <td>177</td>\n",
       "      <td>v_ApplyEyeMakeup_g20_c06.avi</td>\n",
       "      <td>[[0.444952130317688, 0.608574628829956, -0.057...</td>\n",
       "      <td>mediapipe</td>\n",
       "      <td>0</td>\n",
       "      <td>ApplyEyeMakeup</td>\n",
       "    </tr>\n",
       "    <tr>\n",
       "      <th>177</th>\n",
       "      <td>177</td>\n",
       "      <td>178</td>\n",
       "      <td>v_ApplyEyeMakeup_g20_c06.avi</td>\n",
       "      <td>[[0.4460960924625397, 0.6079461574554443, -0.0...</td>\n",
       "      <td>mediapipe</td>\n",
       "      <td>0</td>\n",
       "      <td>ApplyEyeMakeup</td>\n",
       "    </tr>\n",
       "    <tr>\n",
       "      <th>178</th>\n",
       "      <td>178</td>\n",
       "      <td>179</td>\n",
       "      <td>v_ApplyEyeMakeup_g20_c06.avi</td>\n",
       "      <td>[[0.44672197103500366, 0.60645592212677, -0.05...</td>\n",
       "      <td>mediapipe</td>\n",
       "      <td>0</td>\n",
       "      <td>ApplyEyeMakeup</td>\n",
       "    </tr>\n",
       "    <tr>\n",
       "      <th>179</th>\n",
       "      <td>179</td>\n",
       "      <td>180</td>\n",
       "      <td>v_ApplyEyeMakeup_g20_c06.avi</td>\n",
       "      <td>[[0.4513989984989166, 0.6069037318229675, -0.0...</td>\n",
       "      <td>mediapipe</td>\n",
       "      <td>0</td>\n",
       "      <td>ApplyEyeMakeup</td>\n",
       "    </tr>\n",
       "    <tr>\n",
       "      <th>180</th>\n",
       "      <td>180</td>\n",
       "      <td>181</td>\n",
       "      <td>v_ApplyEyeMakeup_g20_c06.avi</td>\n",
       "      <td>[[0.4436757564544678, 0.6056734323501587, -0.0...</td>\n",
       "      <td>mediapipe</td>\n",
       "      <td>0</td>\n",
       "      <td>ApplyEyeMakeup</td>\n",
       "    </tr>\n",
       "  </tbody>\n",
       "</table>\n",
       "<p>268968 rows × 7 columns</p>\n",
       "</div>"
      ],
      "text/plain": [
       "     Unnamed: 0  frame                    video_name  \\\n",
       "0             0      1   v_BrushingTeeth_g21_c04.avi   \n",
       "1             1      2   v_BrushingTeeth_g21_c04.avi   \n",
       "2             2      3   v_BrushingTeeth_g21_c04.avi   \n",
       "3             3      4   v_BrushingTeeth_g21_c04.avi   \n",
       "4             4      5   v_BrushingTeeth_g21_c04.avi   \n",
       "..          ...    ...                           ...   \n",
       "176         176    177  v_ApplyEyeMakeup_g20_c06.avi   \n",
       "177         177    178  v_ApplyEyeMakeup_g20_c06.avi   \n",
       "178         178    179  v_ApplyEyeMakeup_g20_c06.avi   \n",
       "179         179    180  v_ApplyEyeMakeup_g20_c06.avi   \n",
       "180         180    181  v_ApplyEyeMakeup_g20_c06.avi   \n",
       "\n",
       "                                                  keys  extractor  na  \\\n",
       "0    [[72, 26], [69, 47], [70, 69], [75, 92], [84, ...       dlib   0   \n",
       "1    [[85, 30], [82, 48], [83, 68], [87, 86], [91, ...       dlib   0   \n",
       "2    [[75, 31], [74, 50], [75, 71], [79, 91], [84, ...       dlib   0   \n",
       "3    [[76, 29], [74, 48], [75, 69], [78, 89], [84, ...       dlib   0   \n",
       "4    [[76, 28], [73, 47], [74, 68], [77, 87], [82, ...       dlib   0   \n",
       "..                                                 ...        ...  ..   \n",
       "176  [[0.444952130317688, 0.608574628829956, -0.057...  mediapipe   0   \n",
       "177  [[0.4460960924625397, 0.6079461574554443, -0.0...  mediapipe   0   \n",
       "178  [[0.44672197103500366, 0.60645592212677, -0.05...  mediapipe   0   \n",
       "179  [[0.4513989984989166, 0.6069037318229675, -0.0...  mediapipe   0   \n",
       "180  [[0.4436757564544678, 0.6056734323501587, -0.0...  mediapipe   0   \n",
       "\n",
       "              class  \n",
       "0     BrushingTeeth  \n",
       "1     BrushingTeeth  \n",
       "2     BrushingTeeth  \n",
       "3     BrushingTeeth  \n",
       "4     BrushingTeeth  \n",
       "..              ...  \n",
       "176  ApplyEyeMakeup  \n",
       "177  ApplyEyeMakeup  \n",
       "178  ApplyEyeMakeup  \n",
       "179  ApplyEyeMakeup  \n",
       "180  ApplyEyeMakeup  \n",
       "\n",
       "[268968 rows x 7 columns]"
      ]
     },
     "execution_count": 5,
     "metadata": {},
     "output_type": "execute_result"
    }
   ],
   "source": [
    "combined_csv"
   ]
  },
  {
   "cell_type": "markdown",
   "id": "1f14ec64",
   "metadata": {},
   "source": [
    "# Análise"
   ]
  },
  {
   "cell_type": "markdown",
   "id": "014be49e",
   "metadata": {},
   "source": [
    "## No Geral"
   ]
  },
  {
   "cell_type": "code",
   "execution_count": 6,
   "id": "e32f0496",
   "metadata": {},
   "outputs": [],
   "source": [
    "def plot_var_geral(df, extractors):\n",
    "    # plot\n",
    "    fig = plt.figure(figsize=(10,10))\n",
    "    plt.subplot(2,2,1)\n",
    "\n",
    "    colors = ['green',\"red\"]\n",
    "    df1 = df.loc[df.extractor == extractors['extractor1']]\n",
    "    ax = sns.countplot(x=\"extractor\", hue=\"na\", data=df1, palette=colors)\n",
    "    ax.set(ylabel='Total of Frames', title='Bar Count and Percent of Total')\n",
    "\n",
    "    # add annotations\n",
    "    for c in ax.containers:\n",
    "        # custom label calculates percent and add an empty string so 0 value bars don't have a number\n",
    "        labels = [f'{w/len(df1.index)*100:0.1f}%' if (w := v.get_height()) > 0 else '' for v in c]\n",
    "        ax.bar_label(c, labels=labels, label_type='edge')\n",
    "\n",
    "\n",
    "    plt.subplot(2,2,2)\n",
    "    df2 = df.loc[df.extractor == extractors['extractor2']]\n",
    "    ax = sns.countplot(x=\"extractor\", hue=\"na\", data=df2, palette=colors)\n",
    "    ax.set(ylabel='Total of Frames', title='Bar Count and Percent of Total')\n",
    "\n",
    "    # add annotations\n",
    "    for c in ax.containers:\n",
    "        # custom label calculates percent and add an empty string so 0 value bars don't have a number\n",
    "        labels = [f'{w/len(df2.index)*100:0.1f}%' if (w := v.get_height()) > 0 else '' for v in c]\n",
    "        ax.bar_label(c, labels=labels, label_type='edge')"
   ]
  },
  {
   "cell_type": "code",
   "execution_count": 7,
   "id": "647260c1",
   "metadata": {},
   "outputs": [
    {
     "data": {
      "image/png": "[encoded data removed]",
      "text/plain": [
       "<Figure size 720x720 with 2 Axes>"
      ]
     },
     "metadata": {
      "needs_background": "light"
     },
     "output_type": "display_data"
    }
   ],
   "source": [
    "extractors = {\n",
    "    'extractor1': 'dlib',\n",
    "    'extractor2': 'mediapipe'\n",
    "}\n",
    "\n",
    "plot_var_geral(combined_csv, extractors)"
   ]
  },
  {
   "cell_type": "code",
   "execution_count": 8,
   "id": "5359c341",
   "metadata": {},
   "outputs": [
    {
     "data": {
      "text/plain": [
       "49.99999999999999"
      ]
     },
     "execution_count": 8,
     "metadata": {},
     "output_type": "execute_result"
    }
   ],
   "source": [
    "82.1 - 32.1"
   ]
  },
  {
   "cell_type": "markdown",
   "id": "253bdc88",
   "metadata": {},
   "source": [
    "Na figura acima é possível visualizar que dos 134.484 frames da base selecionada para a análise, apenas em 32,1% frames desse total, o Dlib foi capaz de reconhecer os landmarks da face. Enquanto que o extrator Mediapipe conseguiu detectar os landmarks em 82,1% dos frames. Portanto, de maneira geral, temos que com o extrator de features Mediapipe foi possível detectar landmarks em 50% de frames a mais que no Dlib.\n"
   ]
  },
  {
   "cell_type": "markdown",
   "id": "a21704b3",
   "metadata": {},
   "source": [
    "## Por Classe"
   ]
  },
  {
   "cell_type": "code",
   "execution_count": 9,
   "id": "34605fc5",
   "metadata": {},
   "outputs": [
    {
     "data": {
      "image/png": "[encoded data removed]",
      "text/plain": [
       "<Figure size 1008x720 with 4 Axes>"
      ]
     },
     "metadata": {
      "needs_background": "light"
     },
     "output_type": "display_data"
    }
   ],
   "source": [
    "fig = plt.figure(figsize=(14,10))\n",
    "count = 1\n",
    "colors = ['green',\"red\"]\n",
    "\n",
    "for i in combined_csv['class'].unique():\n",
    "    #col, row, order\n",
    "    plt.subplot(2,2, count)\n",
    "    df = combined_csv.loc[combined_csv['class'] == i]\n",
    "    ax = sns.countplot(x=\"extractor\", hue=\"na\", data=df, palette=colors)\n",
    "    ax.set(ylabel='Total of Frames', title=i)\n",
    "    for c in ax.containers:\n",
    "        labels = [f'{w/len(df.index)*200:0.1f}%' if (w := v.get_height()) > 0 else '' for v in c]\n",
    "        ax.bar_label(c, labels=labels, label_type='edge')\n",
    "    count+=1\n",
    "    "
   ]
  },
  {
   "cell_type": "markdown",
   "id": "dfd617ae",
   "metadata": {},
   "source": [
    "Tanto para o extrator Mediapipe quanto para o Dlib, a classe em que foi retornada mais frames com informações da face foi a ApplyEyeMakeup com 61,1% e 94,9% respectivamente (diferença de 33,8%). Enquanto que para a classe de comportamento PlayingFlute, ambos os extratores de features retornaram os valores mais baixos de frames com features detectadas, o Mediapipe 70,8% e o Dlib 11,3% (diferença de 29,8%). "
   ]
  },
  {
   "cell_type": "markdown",
   "id": "9867311d",
   "metadata": {},
   "source": [
    "## Por momentos específicos de uma amostra [Selected]"
   ]
  },
  {
   "cell_type": "code",
   "execution_count": 10,
   "id": "2ec01394",
   "metadata": {},
   "outputs": [
    {
     "name": "stdout",
     "output_type": "stream",
     "text": [
      "(1684, 7)\n"
     ]
    }
   ],
   "source": [
    "videos = os.listdir('../../data/raw/UCF-101-Analysis-Selected/')\n",
    "data_selected = combined_csv.loc[combined_csv.video_name.isin(videos)]\n",
    "print(data_selected.shape)"
   ]
  },
  {
   "cell_type": "code",
   "execution_count": 11,
   "id": "53715593",
   "metadata": {
    "scrolled": true
   },
   "outputs": [
    {
     "name": "stdout",
     "output_type": "stream",
     "text": [
      "Total de Frames para cada Extrator: 842 (100.00%)\n",
      "Total de Frames N/A Dlib: 674 (80.05% de todos os frames submetidos ao extrator)\n",
      "Total de Frames N/A MediaPipe: 412 (48.93% de todos os frames submetidos ao extrator)\n"
     ]
    }
   ],
   "source": [
    "total = len(data_selected.loc[data_selected['extractor'] == 'mediapipe'])\n",
    "dlib_na = len(data_selected.loc[\n",
    "    (data_selected['extractor'] == 'dlib') & (data_selected['na'] == 1)])\n",
    "mediapipe_na = len(data_selected.loc[\n",
    "    (data_selected['extractor'] == 'mediapipe') & (data_selected['na'] == 1)])\n",
    "\n",
    "print(\"Total de Frames para cada Extrator: {} ({:.2f}%)\".format(total, (total/total)*100))\n",
    "print(\"Total de Frames N/A Dlib: {} ({:.2f}% de todos os frames submetidos ao extrator)\".format(dlib_na, (dlib_na/total)*100))\n",
    "print(\"Total de Frames N/A MediaPipe: {} ({:.2f}% de todos os frames submetidos ao extrator)\" .format(mediapipe_na, (mediapipe_na/total)*100))\n"
   ]
  },
  {
   "cell_type": "code",
   "execution_count": 12,
   "id": "df7d093d",
   "metadata": {},
   "outputs": [
    {
     "data": {
      "image/png": "[encoded data removed]",
      "text/plain": [
       "<Figure size 1008x1152 with 5 Axes>"
      ]
     },
     "metadata": {
      "needs_background": "light"
     },
     "output_type": "display_data"
    }
   ],
   "source": [
    "import matplotlib.ticker as ticker\n",
    "\n",
    "\n",
    "fig = plt.figure(figsize=(14,16))\n",
    "count = 1 \n",
    "\n",
    "for i in videos:\n",
    "    #col, row, order\n",
    "    df = data_selected.loc[data_selected.video_name ==i].copy()\n",
    "    df['na'] = df['na'].astype(int)\n",
    "    plt.subplot(5,1, count)\n",
    "    ax = sns.lineplot(data=df, x=\"frame\", y=\"na\", hue=\"extractor\", palette=['red', 'green'], alpha = 0.5)\n",
    "    sns.scatterplot(data=df, x=\"frame\", y=\"na\", hue=\"extractor\", palette=['red', 'green'], alpha = 0.5)\n",
    "    ax.set(ylabel=i)#, title=i\n",
    "    #frames = combined_csv.loc[(combined_csv.video_name == i) & (combined_csv.na == 1)][['frame', 'extractor']]\n",
    "    #display(frames)\n",
    "    ax.yaxis.set_major_locator(ticker.IndexLocator(base=1, offset=1))\n",
    "    ax.yaxis.set_major_formatter(ticker.ScalarFormatter())\n",
    "    count= count+1"
   ]
  },
  {
   "cell_type": "code",
   "execution_count": 13,
   "id": "6493c1d3",
   "metadata": {},
   "outputs": [
    {
     "data": {
      "text/html": [
       "<div>\n",
       "<style scoped>\n",
       "    .dataframe tbody tr th:only-of-type {\n",
       "        vertical-align: middle;\n",
       "    }\n",
       "\n",
       "    .dataframe tbody tr th {\n",
       "        vertical-align: top;\n",
       "    }\n",
       "\n",
       "    .dataframe thead th {\n",
       "        text-align: right;\n",
       "    }\n",
       "</style>\n",
       "<table border=\"1\" class=\"dataframe\">\n",
       "  <thead>\n",
       "    <tr style=\"text-align: right;\">\n",
       "      <th></th>\n",
       "      <th>Unnamed: 0</th>\n",
       "      <th>frame</th>\n",
       "      <th>video_name</th>\n",
       "      <th>keys</th>\n",
       "      <th>extractor</th>\n",
       "      <th>na</th>\n",
       "      <th>class</th>\n",
       "    </tr>\n",
       "  </thead>\n",
       "  <tbody>\n",
       "    <tr>\n",
       "      <th>0</th>\n",
       "      <td>0</td>\n",
       "      <td>1</td>\n",
       "      <td>v_ApplyEyeMakeup_g01_c02.avi</td>\n",
       "      <td>NaN</td>\n",
       "      <td>dlib</td>\n",
       "      <td>1</td>\n",
       "      <td>ApplyEyeMakeup</td>\n",
       "    </tr>\n",
       "    <tr>\n",
       "      <th>0</th>\n",
       "      <td>0</td>\n",
       "      <td>1</td>\n",
       "      <td>v_ApplyEyeMakeup_g01_c02.avi</td>\n",
       "      <td>[[0.831613302230835, 0.5354393720626831, -0.03...</td>\n",
       "      <td>mediapipe</td>\n",
       "      <td>0</td>\n",
       "      <td>ApplyEyeMakeup</td>\n",
       "    </tr>\n",
       "  </tbody>\n",
       "</table>\n",
       "</div>"
      ],
      "text/plain": [
       "   Unnamed: 0  frame                    video_name  \\\n",
       "0           0      1  v_ApplyEyeMakeup_g01_c02.avi   \n",
       "0           0      1  v_ApplyEyeMakeup_g01_c02.avi   \n",
       "\n",
       "                                                keys  extractor  na  \\\n",
       "0                                                NaN       dlib   1   \n",
       "0  [[0.831613302230835, 0.5354393720626831, -0.03...  mediapipe   0   \n",
       "\n",
       "            class  \n",
       "0  ApplyEyeMakeup  \n",
       "0  ApplyEyeMakeup  "
      ]
     },
     "execution_count": 13,
     "metadata": {},
     "output_type": "execute_result"
    }
   ],
   "source": [
    "#Case detectado no MediaPipe e não detectado no Dlib\n",
    "\n",
    "data_selected.loc[(data_selected['video_name'] == 'v_ApplyEyeMakeup_g01_c02.avi') & (data_selected['frame'] == 1)]"
   ]
  },
  {
   "cell_type": "code",
   "execution_count": 14,
   "id": "ff43bff8",
   "metadata": {},
   "outputs": [
    {
     "data": {
      "text/html": [
       "<div>\n",
       "<style scoped>\n",
       "    .dataframe tbody tr th:only-of-type {\n",
       "        vertical-align: middle;\n",
       "    }\n",
       "\n",
       "    .dataframe tbody tr th {\n",
       "        vertical-align: top;\n",
       "    }\n",
       "\n",
       "    .dataframe thead th {\n",
       "        text-align: right;\n",
       "    }\n",
       "</style>\n",
       "<table border=\"1\" class=\"dataframe\">\n",
       "  <thead>\n",
       "    <tr style=\"text-align: right;\">\n",
       "      <th></th>\n",
       "      <th>Unnamed: 0</th>\n",
       "      <th>frame</th>\n",
       "      <th>video_name</th>\n",
       "      <th>keys</th>\n",
       "      <th>extractor</th>\n",
       "      <th>na</th>\n",
       "      <th>class</th>\n",
       "    </tr>\n",
       "  </thead>\n",
       "  <tbody>\n",
       "    <tr>\n",
       "      <th>2</th>\n",
       "      <td>2</td>\n",
       "      <td>3</td>\n",
       "      <td>v_ApplyEyeMakeup_g01_c02.avi</td>\n",
       "      <td>[[193, 74], [190, 93], [189, 113], [191, 131],...</td>\n",
       "      <td>dlib</td>\n",
       "      <td>0</td>\n",
       "      <td>ApplyEyeMakeup</td>\n",
       "    </tr>\n",
       "    <tr>\n",
       "      <th>2</th>\n",
       "      <td>2</td>\n",
       "      <td>3</td>\n",
       "      <td>v_ApplyEyeMakeup_g01_c02.avi</td>\n",
       "      <td>[[0.8323194980621338, 0.5438323020935059, -0.0...</td>\n",
       "      <td>mediapipe</td>\n",
       "      <td>0</td>\n",
       "      <td>ApplyEyeMakeup</td>\n",
       "    </tr>\n",
       "  </tbody>\n",
       "</table>\n",
       "</div>"
      ],
      "text/plain": [
       "   Unnamed: 0  frame                    video_name  \\\n",
       "2           2      3  v_ApplyEyeMakeup_g01_c02.avi   \n",
       "2           2      3  v_ApplyEyeMakeup_g01_c02.avi   \n",
       "\n",
       "                                                keys  extractor  na  \\\n",
       "2  [[193, 74], [190, 93], [189, 113], [191, 131],...       dlib   0   \n",
       "2  [[0.8323194980621338, 0.5438323020935059, -0.0...  mediapipe   0   \n",
       "\n",
       "            class  \n",
       "2  ApplyEyeMakeup  \n",
       "2  ApplyEyeMakeup  "
      ]
     },
     "execution_count": 14,
     "metadata": {},
     "output_type": "execute_result"
    }
   ],
   "source": [
    "#Case detectado por ambos extratores\n",
    "\n",
    "data_selected.loc[(data_selected['video_name'] == 'v_ApplyEyeMakeup_g01_c02.avi') & (data_selected['frame'] == 3)]"
   ]
  },
  {
   "cell_type": "code",
   "execution_count": 15,
   "id": "152c5788",
   "metadata": {},
   "outputs": [
    {
     "data": {
      "text/html": [
       "<div>\n",
       "<style scoped>\n",
       "    .dataframe tbody tr th:only-of-type {\n",
       "        vertical-align: middle;\n",
       "    }\n",
       "\n",
       "    .dataframe tbody tr th {\n",
       "        vertical-align: top;\n",
       "    }\n",
       "\n",
       "    .dataframe thead th {\n",
       "        text-align: right;\n",
       "    }\n",
       "</style>\n",
       "<table border=\"1\" class=\"dataframe\">\n",
       "  <thead>\n",
       "    <tr style=\"text-align: right;\">\n",
       "      <th></th>\n",
       "      <th>Unnamed: 0</th>\n",
       "      <th>frame</th>\n",
       "      <th>video_name</th>\n",
       "      <th>keys</th>\n",
       "      <th>extractor</th>\n",
       "      <th>na</th>\n",
       "      <th>class</th>\n",
       "    </tr>\n",
       "  </thead>\n",
       "  <tbody>\n",
       "    <tr>\n",
       "      <th>149</th>\n",
       "      <td>149</td>\n",
       "      <td>150</td>\n",
       "      <td>v_PlayingFlute_g03_c07.avi</td>\n",
       "      <td>NaN</td>\n",
       "      <td>dlib</td>\n",
       "      <td>1</td>\n",
       "      <td>PlayingFlute</td>\n",
       "    </tr>\n",
       "    <tr>\n",
       "      <th>149</th>\n",
       "      <td>149</td>\n",
       "      <td>150</td>\n",
       "      <td>v_PlayingFlute_g03_c07.avi</td>\n",
       "      <td>NaN</td>\n",
       "      <td>mediapipe</td>\n",
       "      <td>1</td>\n",
       "      <td>PlayingFlute</td>\n",
       "    </tr>\n",
       "  </tbody>\n",
       "</table>\n",
       "</div>"
      ],
      "text/plain": [
       "     Unnamed: 0  frame                  video_name keys  extractor  na  \\\n",
       "149         149    150  v_PlayingFlute_g03_c07.avi  NaN       dlib   1   \n",
       "149         149    150  v_PlayingFlute_g03_c07.avi  NaN  mediapipe   1   \n",
       "\n",
       "            class  \n",
       "149  PlayingFlute  \n",
       "149  PlayingFlute  "
      ]
     },
     "execution_count": 15,
     "metadata": {},
     "output_type": "execute_result"
    }
   ],
   "source": [
    "#Case não detectado por ambos extratores\n",
    "\n",
    "data_selected.loc[(data_selected['video_name'] == 'v_PlayingFlute_g03_c07.avi') & (data_selected['frame'] == 150)]"
   ]
  },
  {
   "cell_type": "code",
   "execution_count": 16,
   "id": "a518fc63",
   "metadata": {},
   "outputs": [
    {
     "data": {
      "text/html": [
       "<div>\n",
       "<style scoped>\n",
       "    .dataframe tbody tr th:only-of-type {\n",
       "        vertical-align: middle;\n",
       "    }\n",
       "\n",
       "    .dataframe tbody tr th {\n",
       "        vertical-align: top;\n",
       "    }\n",
       "\n",
       "    .dataframe thead th {\n",
       "        text-align: right;\n",
       "    }\n",
       "</style>\n",
       "<table border=\"1\" class=\"dataframe\">\n",
       "  <thead>\n",
       "    <tr style=\"text-align: right;\">\n",
       "      <th></th>\n",
       "      <th>frame</th>\n",
       "      <th>video_name</th>\n",
       "      <th>extractor</th>\n",
       "      <th>na</th>\n",
       "      <th>count</th>\n",
       "    </tr>\n",
       "  </thead>\n",
       "  <tbody>\n",
       "    <tr>\n",
       "      <th>0</th>\n",
       "      <td>1</td>\n",
       "      <td>v_ShavingBeard_g04_c02.avi</td>\n",
       "      <td>dlib</td>\n",
       "      <td>1</td>\n",
       "      <td>2</td>\n",
       "    </tr>\n",
       "    <tr>\n",
       "      <th>1</th>\n",
       "      <td>2</td>\n",
       "      <td>v_ShavingBeard_g04_c02.avi</td>\n",
       "      <td>dlib</td>\n",
       "      <td>1</td>\n",
       "      <td>2</td>\n",
       "    </tr>\n",
       "    <tr>\n",
       "      <th>2</th>\n",
       "      <td>3</td>\n",
       "      <td>v_ShavingBeard_g04_c02.avi</td>\n",
       "      <td>dlib</td>\n",
       "      <td>1</td>\n",
       "      <td>2</td>\n",
       "    </tr>\n",
       "    <tr>\n",
       "      <th>3</th>\n",
       "      <td>4</td>\n",
       "      <td>v_ShavingBeard_g04_c02.avi</td>\n",
       "      <td>dlib</td>\n",
       "      <td>1</td>\n",
       "      <td>2</td>\n",
       "    </tr>\n",
       "    <tr>\n",
       "      <th>4</th>\n",
       "      <td>5</td>\n",
       "      <td>v_ShavingBeard_g04_c02.avi</td>\n",
       "      <td>dlib</td>\n",
       "      <td>1</td>\n",
       "      <td>2</td>\n",
       "    </tr>\n",
       "    <tr>\n",
       "      <th>5</th>\n",
       "      <td>6</td>\n",
       "      <td>v_ShavingBeard_g04_c02.avi</td>\n",
       "      <td>dlib</td>\n",
       "      <td>1</td>\n",
       "      <td>2</td>\n",
       "    </tr>\n",
       "    <tr>\n",
       "      <th>6</th>\n",
       "      <td>7</td>\n",
       "      <td>v_ShavingBeard_g04_c02.avi</td>\n",
       "      <td>dlib</td>\n",
       "      <td>1</td>\n",
       "      <td>2</td>\n",
       "    </tr>\n",
       "    <tr>\n",
       "      <th>7</th>\n",
       "      <td>8</td>\n",
       "      <td>v_ShavingBeard_g04_c02.avi</td>\n",
       "      <td>dlib</td>\n",
       "      <td>1</td>\n",
       "      <td>2</td>\n",
       "    </tr>\n",
       "    <tr>\n",
       "      <th>8</th>\n",
       "      <td>9</td>\n",
       "      <td>v_ShavingBeard_g04_c02.avi</td>\n",
       "      <td>dlib</td>\n",
       "      <td>1</td>\n",
       "      <td>2</td>\n",
       "    </tr>\n",
       "    <tr>\n",
       "      <th>9</th>\n",
       "      <td>10</td>\n",
       "      <td>v_ShavingBeard_g04_c02.avi</td>\n",
       "      <td>dlib</td>\n",
       "      <td>1</td>\n",
       "      <td>2</td>\n",
       "    </tr>\n",
       "  </tbody>\n",
       "</table>\n",
       "</div>"
      ],
      "text/plain": [
       "   frame                  video_name extractor  na  count\n",
       "0      1  v_ShavingBeard_g04_c02.avi      dlib   1      2\n",
       "1      2  v_ShavingBeard_g04_c02.avi      dlib   1      2\n",
       "2      3  v_ShavingBeard_g04_c02.avi      dlib   1      2\n",
       "3      4  v_ShavingBeard_g04_c02.avi      dlib   1      2\n",
       "4      5  v_ShavingBeard_g04_c02.avi      dlib   1      2\n",
       "5      6  v_ShavingBeard_g04_c02.avi      dlib   1      2\n",
       "6      7  v_ShavingBeard_g04_c02.avi      dlib   1      2\n",
       "7      8  v_ShavingBeard_g04_c02.avi      dlib   1      2\n",
       "8      9  v_ShavingBeard_g04_c02.avi      dlib   1      2\n",
       "9     10  v_ShavingBeard_g04_c02.avi      dlib   1      2"
      ]
     },
     "execution_count": 16,
     "metadata": {},
     "output_type": "execute_result"
    }
   ],
   "source": [
    "#Contagem de N/As\n",
    "\n",
    "df_na = data_selected.loc[data_selected.na == 1][['frame','video_name','extractor','na']]\n",
    "#Contagem de NA por frame. Se retornar 2, nenhum dos extratores deu sucesso.\n",
    "df_na[\"count\"] = df_na.groupby(['frame', 'video_name'])[\"na\"].transform('count')\n",
    "df_na.head(10)"
   ]
  },
  {
   "cell_type": "markdown",
   "id": "a737f1e5",
   "metadata": {},
   "source": [
    "### Cases"
   ]
  },
  {
   "cell_type": "code",
   "execution_count": 17,
   "id": "0502e298",
   "metadata": {},
   "outputs": [
    {
     "name": "stdout",
     "output_type": "stream",
     "text": [
      "Quantos frames o MediaPipe detectou e que o Dlib não detectou? 262\n",
      "Quantos frames o Dlib detectou e que o MediaPipe não detectou? 0\n",
      "Quantos frames nem o Dlib e nem o Mediapipe detectaram? 824\n"
     ]
    }
   ],
   "source": [
    "print(\"Quantos frames o MediaPipe detectou e que o Dlib não detectou? \"+str(len(df_na.loc[(df_na['count'] == 1) & (df_na['extractor'] == 'dlib')])))\n",
    "print(\"Quantos frames o Dlib detectou e que o MediaPipe não detectou? \"+str(len(df_na.loc[(df_na['count'] == 1) & (df_na['extractor'] == 'mediapipe')])))\n",
    "print(\"Quantos frames nem o Dlib e nem o Mediapipe detectaram? \"+str(len(df_na.loc[df_na['count'] == 2])))"
   ]
  },
  {
   "cell_type": "markdown",
   "id": "a9e526fb",
   "metadata": {},
   "source": [
    "## Análise Visual"
   ]
  },
  {
   "cell_type": "code",
   "execution_count": 18,
   "id": "8be598bc",
   "metadata": {},
   "outputs": [
    {
     "name": "stdout",
     "output_type": "stream",
     "text": [
      "['v_ApplyEyeMakeup_g01_c02-dlib.avi', 'v_ApplyEyeMakeup_g01_c02-mediapipe.avi', 'v_PlayingFlute_g02_c06-dlib.avi', 'v_PlayingFlute_g02_c06-mediapipe.avi', 'v_PlayingFlute_g03_c07-dlib.avi', 'v_PlayingFlute_g03_c07-mediapipe.avi', 'v_ShavingBeard_g03_c03-dlib.avi', 'v_ShavingBeard_g03_c03-mediapipe.avi', 'v_ShavingBeard_g04_c02-dlib.avi', 'v_ShavingBeard_g04_c02-mediapipe.avi']\n"
     ]
    }
   ],
   "source": [
    "#os.chdir('../../../../notebooks/feature_extraction/')\n",
    "path_visual = './data/vis1-videos/'\n",
    "l_videos = sorted(os.listdir(path_visual))\n",
    "print(l_videos)"
   ]
  },
  {
   "cell_type": "code",
   "execution_count": 19,
   "id": "05bfd731",
   "metadata": {
    "scrolled": false
   },
   "outputs": [
    {
     "ename": "RuntimeError",
     "evalue": "Program 'ffmpeg' is not found; perhaps install ffmpeg using 'apt-get install ffmpeg'.",
     "output_type": "error",
     "traceback": [
      "\u001b[0;31m---------------------------------------------------------------------------\u001b[0m",
      "\u001b[0;31mRuntimeError\u001b[0m                              Traceback (most recent call last)",
      "\u001b[0;32m<ipython-input-19-9786c9043fe6>\u001b[0m in \u001b[0;36m<module>\u001b[0;34m\u001b[0m\n\u001b[1;32m      2\u001b[0m \u001b[0;32mimport\u001b[0m \u001b[0mcv2\u001b[0m\u001b[0;34m\u001b[0m\u001b[0;34m\u001b[0m\u001b[0m\n\u001b[1;32m      3\u001b[0m \u001b[0;34m\u001b[0m\u001b[0m\n\u001b[0;32m----> 4\u001b[0;31m \u001b[0mvideo1\u001b[0m \u001b[0;34m=\u001b[0m \u001b[0mmedia\u001b[0m\u001b[0;34m.\u001b[0m\u001b[0mread_video\u001b[0m\u001b[0;34m(\u001b[0m\u001b[0mpath_visual\u001b[0m\u001b[0;34m+\u001b[0m\u001b[0mstr\u001b[0m\u001b[0;34m(\u001b[0m\u001b[0ml_videos\u001b[0m\u001b[0;34m[\u001b[0m\u001b[0;36m0\u001b[0m\u001b[0;34m]\u001b[0m\u001b[0;34m)\u001b[0m\u001b[0;34m)\u001b[0m\u001b[0;34m\u001b[0m\u001b[0;34m\u001b[0m\u001b[0m\n\u001b[0m\u001b[1;32m      5\u001b[0m \u001b[0mvideo2\u001b[0m \u001b[0;34m=\u001b[0m \u001b[0mmedia\u001b[0m\u001b[0;34m.\u001b[0m\u001b[0mread_video\u001b[0m\u001b[0;34m(\u001b[0m\u001b[0mpath_visual\u001b[0m\u001b[0;34m+\u001b[0m\u001b[0mstr\u001b[0m\u001b[0;34m(\u001b[0m\u001b[0ml_videos\u001b[0m\u001b[0;34m[\u001b[0m\u001b[0;36m1\u001b[0m\u001b[0;34m]\u001b[0m\u001b[0;34m)\u001b[0m\u001b[0;34m)\u001b[0m\u001b[0;34m\u001b[0m\u001b[0;34m\u001b[0m\u001b[0m\n\u001b[1;32m      6\u001b[0m \u001b[0mvideo3\u001b[0m \u001b[0;34m=\u001b[0m \u001b[0mmedia\u001b[0m\u001b[0;34m.\u001b[0m\u001b[0mread_video\u001b[0m\u001b[0;34m(\u001b[0m\u001b[0mpath_visual\u001b[0m\u001b[0;34m+\u001b[0m\u001b[0mstr\u001b[0m\u001b[0;34m(\u001b[0m\u001b[0ml_videos\u001b[0m\u001b[0;34m[\u001b[0m\u001b[0;36m2\u001b[0m\u001b[0;34m]\u001b[0m\u001b[0;34m)\u001b[0m\u001b[0;34m)\u001b[0m\u001b[0;34m\u001b[0m\u001b[0;34m\u001b[0m\u001b[0m\n",
      "\u001b[0;32m~/anaconda3/envs/2way/lib/python3.9/site-packages/mediapy/__init__.py\u001b[0m in \u001b[0;36mread_video\u001b[0;34m(path_or_url, **kwargs)\u001b[0m\n\u001b[1;32m   1444\u001b[0m     \u001b[0mmetadata\u001b[0m \u001b[0mattribute\u001b[0m \u001b[0;32mis\u001b[0m \u001b[0mlost\u001b[0m \u001b[0;32min\u001b[0m \u001b[0mmost\u001b[0m \u001b[0msubsequent\u001b[0m\u001b[0;31m \u001b[0m\u001b[0;31m`\u001b[0m\u001b[0mnumpy\u001b[0m\u001b[0;31m`\u001b[0m \u001b[0moperations\u001b[0m\u001b[0;34m.\u001b[0m\u001b[0;34m\u001b[0m\u001b[0;34m\u001b[0m\u001b[0m\n\u001b[1;32m   1445\u001b[0m   \"\"\"\n\u001b[0;32m-> 1446\u001b[0;31m   \u001b[0;32mwith\u001b[0m \u001b[0mVideoReader\u001b[0m\u001b[0;34m(\u001b[0m\u001b[0mpath_or_url\u001b[0m\u001b[0;34m,\u001b[0m \u001b[0;34m**\u001b[0m\u001b[0mkwargs\u001b[0m\u001b[0;34m)\u001b[0m \u001b[0;32mas\u001b[0m \u001b[0mreader\u001b[0m\u001b[0;34m:\u001b[0m\u001b[0;34m\u001b[0m\u001b[0;34m\u001b[0m\u001b[0m\n\u001b[0m\u001b[1;32m   1447\u001b[0m     \u001b[0;32mreturn\u001b[0m \u001b[0m_VideoArray\u001b[0m\u001b[0;34m(\u001b[0m\u001b[0mnp\u001b[0m\u001b[0;34m.\u001b[0m\u001b[0marray\u001b[0m\u001b[0;34m(\u001b[0m\u001b[0mtuple\u001b[0m\u001b[0;34m(\u001b[0m\u001b[0mreader\u001b[0m\u001b[0;34m)\u001b[0m\u001b[0;34m)\u001b[0m\u001b[0;34m,\u001b[0m \u001b[0mmetadata\u001b[0m\u001b[0;34m=\u001b[0m\u001b[0mreader\u001b[0m\u001b[0;34m.\u001b[0m\u001b[0mmetadata\u001b[0m\u001b[0;34m)\u001b[0m\u001b[0;34m\u001b[0m\u001b[0;34m\u001b[0m\u001b[0m\n\u001b[1;32m   1448\u001b[0m \u001b[0;34m\u001b[0m\u001b[0m\n",
      "\u001b[0;32m~/anaconda3/envs/2way/lib/python3.9/site-packages/mediapy/__init__.py\u001b[0m in \u001b[0;36m__enter__\u001b[0;34m(self)\u001b[0m\n\u001b[1;32m   1123\u001b[0m \u001b[0;34m\u001b[0m\u001b[0m\n\u001b[1;32m   1124\u001b[0m   \u001b[0;32mdef\u001b[0m \u001b[0m__enter__\u001b[0m\u001b[0;34m(\u001b[0m\u001b[0mself\u001b[0m\u001b[0;34m)\u001b[0m \u001b[0;34m->\u001b[0m \u001b[0;34m'VideoReader'\u001b[0m\u001b[0;34m:\u001b[0m\u001b[0;34m\u001b[0m\u001b[0;34m\u001b[0m\u001b[0m\n\u001b[0;32m-> 1125\u001b[0;31m     \u001b[0mffmpeg_path\u001b[0m \u001b[0;34m=\u001b[0m \u001b[0m_get_ffmpeg_path\u001b[0m\u001b[0;34m(\u001b[0m\u001b[0;34m)\u001b[0m\u001b[0;34m\u001b[0m\u001b[0;34m\u001b[0m\u001b[0m\n\u001b[0m\u001b[1;32m   1126\u001b[0m     \u001b[0;32mtry\u001b[0m\u001b[0;34m:\u001b[0m\u001b[0;34m\u001b[0m\u001b[0;34m\u001b[0m\u001b[0m\n\u001b[1;32m   1127\u001b[0m       \u001b[0mself\u001b[0m\u001b[0;34m.\u001b[0m\u001b[0m_read_via_local_file\u001b[0m \u001b[0;34m=\u001b[0m \u001b[0m_read_via_local_file\u001b[0m\u001b[0;34m(\u001b[0m\u001b[0mself\u001b[0m\u001b[0;34m.\u001b[0m\u001b[0mpath_or_url\u001b[0m\u001b[0;34m)\u001b[0m\u001b[0;34m\u001b[0m\u001b[0;34m\u001b[0m\u001b[0m\n",
      "\u001b[0;32m~/anaconda3/envs/2way/lib/python3.9/site-packages/mediapy/__init__.py\u001b[0m in \u001b[0;36m_get_ffmpeg_path\u001b[0;34m()\u001b[0m\n\u001b[1;32m    966\u001b[0m   \u001b[0mpath\u001b[0m \u001b[0;34m=\u001b[0m \u001b[0m_search_for_ffmpeg_path\u001b[0m\u001b[0;34m(\u001b[0m\u001b[0;34m)\u001b[0m\u001b[0;34m\u001b[0m\u001b[0;34m\u001b[0m\u001b[0m\n\u001b[1;32m    967\u001b[0m   \u001b[0;32mif\u001b[0m \u001b[0;32mnot\u001b[0m \u001b[0mpath\u001b[0m\u001b[0;34m:\u001b[0m\u001b[0;34m\u001b[0m\u001b[0;34m\u001b[0m\u001b[0m\n\u001b[0;32m--> 968\u001b[0;31m     raise RuntimeError(\n\u001b[0m\u001b[1;32m    969\u001b[0m         \u001b[0;34mf\"Program '{_config.ffmpeg_name_or_path}' is not found;\"\u001b[0m\u001b[0;34m\u001b[0m\u001b[0;34m\u001b[0m\u001b[0m\n\u001b[1;32m    970\u001b[0m         \" perhaps install ffmpeg using 'apt-get install ffmpeg'.\")\n",
      "\u001b[0;31mRuntimeError\u001b[0m: Program 'ffmpeg' is not found; perhaps install ffmpeg using 'apt-get install ffmpeg'."
     ]
    }
   ],
   "source": [
    "import mediapy as media\n",
    "import cv2\n",
    "\n",
    "video1 = media.read_video(path_visual+str(l_videos[0]))\n",
    "video2 = media.read_video(path_visual+str(l_videos[1]))\n",
    "video3 = media.read_video(path_visual+str(l_videos[2]))\n",
    "video4 = media.read_video(path_visual+str(l_videos[3]))\n",
    "video5 = media.read_video(path_visual+str(l_videos[4]))\n",
    "video6 = media.read_video(path_visual+str(l_videos[5]))\n",
    "video7 = media.read_video(path_visual+str(l_videos[6]))\n",
    "video8 = media.read_video(path_visual+str(l_videos[7]))\n",
    "video9 = media.read_video(path_visual+str(l_videos[8]))\n",
    "video10 = media.read_video(path_visual+str(l_videos[9]))\n",
    "\n",
    "# Show multiple videos side-by-side.\n",
    "s = 90\n",
    "vis_videos = {\n",
    "    'v_ApplyEyeMakeup_g01_c02-DLIB': video1,\n",
    "    'v_ApplyEyeMakeup_g01_c02-MEDIAPIPE': video2,\n",
    "    'v_PlayingFlute_g02_c06-DLIB': video3,\n",
    "    'v_PlayingFlute_g02_c06-MEDIAPIPE': video4,\n",
    "    'v_PlayingFlute_g03_c07-DLIB': video5,\n",
    "    'v_PlayingFlute_g03_c07-MEDIAPIPE': video6,\n",
    "    'v_ShavingBeard_g03_c03-DLIB': video7,\n",
    "    'v_ShavingBeard_g03_c03-MEDIAPIPE': video8,\n",
    "    'v_ShavingBeard_g04_c02-DLIB': video9,\n",
    "    'v_ShavingBeard_g04_c02-MEDIAPIPE': video10,\n",
    "    \n",
    "}\n",
    "media.show_videos(vis_videos, fps=25, columns=2)"
   ]
  },
  {
   "cell_type": "markdown",
   "id": "941bf3d8",
   "metadata": {},
   "source": [
    "No vídeo v_ApplyEyeMakeup_g01_c02 submetido ao Mediapipe, é evidente que quando a personagem fecha o(s) olho(s) para aplicar a maquiagem, o movimento de fechar o olho não é refletido pelo extrator, isto é, conforme o contorno dos olhos da máscara do extrator, os mesmos permanecem abertos durante toda a cena.\n",
    "\n",
    "Outro ponto interessante apontado nos vídeos v_PlayingFlute_g02_c06 e v_PlayingFlute_g03_c07, ao comparado com os demais, é que as personagens encontram-se um tanto distantes da câmera. A hipótese é que ambos os extratores tenham dificuldade em extrair os landmarks ultrapassando uma determinada distância da câmera. O Dlib em nenhum frame retornou informação de landmarks, enquanto que o Mediapipe, em alguns frames conseguiu capturar os landmarks, no entanto, em alguns deles, o Mediapipe superestimou a face da personagem em locais em que não faziam parte da face da da mesma, alterando até o tamanho e direção da face durante os movimentos da personagem.\n",
    "\n",
    "\n",
    "Nos vídeos v_ShavingBeard_g03_c03 e v_ApplyEyeMakeup_g01_c02, ambos submetidos ao DLIB, é possível perceber que quando ocorre oclusão pela mão sob a face, as informações dos landmarks não são encontradas.\n",
    "\n",
    "No vídeo v_ShavingBeard_g03_c03 submetido ao extrator Dlib, grande parte dos momentos que ocorrem oclusão, a face está virada para um dos lados, fato que pode dificultar mais ainda a detecção quando somado a oclusão causada pela mão com a rotação da face.\n",
    "\n",
    "Já no vídeo v_ApplyEyeMakeup_g01_c02 (Dlib), embora uma parte da face ocluída pela mão, maior que no vídeo v_ShavingBeard_g03_c03 (Dlib), nesse caso a personagem encontra-se com a face totalmente virada para a câmera, o que pode facilitar a estimativa de posição dos landmarks ocluídos pela mão.\n",
    "\n",
    "No vídeo v_ShavingBeard_g04_c02, nenhum dos extratores retornou informações de landmarks, a hipótese é que a face esteja muito virada para um dos lados, fazendo com que seja praticamente impossível estimar uma face naquele personagem. Outro ponto interessante neste mesmo vídeo é a pequena parte da face retornada no espelho da cena, a qual nenhum dos extratores foi capaz de detectá-la ou estimá-la.\n"
   ]
  },
  {
   "cell_type": "markdown",
   "id": "a50728ea",
   "metadata": {},
   "source": [
    "## Direcionamentos de investigação\n",
    "\n",
    "Pontos para investigar no Dlib e MediaPipe:\n",
    "\n",
    "1. Qual seria a **distância do personnagem** ideal para identificação de landmarks\n",
    "2. Quais seriam os limites de **rotação da face** para a capacidade de identificação de landmarks?\n",
    "3. Quais características o vídeo **v_PlayingFlute_g02_c06** possui que influenciaram na não identificação de landmarks?\n",
    "4. Considerando um baseline de cenas com movimentos extremos, qual seria a **taxa de fps** adequada para a capacidade de identificação de landmarks?\n",
    "5. E se os vídeos estivessem **rotacionados 90° (selfie)**, afetaria a capacidade dos extratores?\n",
    "6. Se durante a identificação de landmarks de um personagem, surgisse um **segundo personagem**? Qual face permaneceria detectada? A do primeiro ou segundo personagem?\n",
    "7. Se os vídeos estivessem em um ambiente **mais claro** ou **mais escuro**, até que ponto afetaria a detecção de landmarks?\n",
    "8. **Tamanho do vídeo**\n",
    "9. **Taxa de agressividade do mediapipe**\n",
    "10. **Velocidade** do vídeo\n",
    "11. **Qualidade da imagem**\n"
   ]
  },
  {
   "cell_type": "markdown",
   "id": "f283e189",
   "metadata": {},
   "source": [
    "# Data Augmentation"
   ]
  },
  {
   "cell_type": "markdown",
   "id": "764f5014",
   "metadata": {},
   "source": [
    "## Gray Scale"
   ]
  },
  {
   "cell_type": "code",
   "execution_count": null,
   "id": "c012d7fc",
   "metadata": {},
   "outputs": [],
   "source": [
    "lt_videos = sorted(os.listdir('data/vis2-videos/'))\n",
    "print('data/videos/'+lt_videos[1])\n",
    "\n",
    "video_output = 'data/videos/'"
   ]
  },
  {
   "cell_type": "code",
   "execution_count": null,
   "id": "f5ddaf0a",
   "metadata": {},
   "outputs": [],
   "source": [
    "def create_directory(dirName):\n",
    "    if not os.path.exists(dirName):\n",
    "        os.makedirs(dirName)\n",
    "        print(\"Directory \" , dirName ,  \" Created \")\n",
    "    else:\n",
    "        print(\"Directory \" , dirName ,  \" already exists\")\n",
    "    return dirName\n",
    "\n",
    "\n",
    "def read_data_with_subdirectorys(data_path):\n",
    "    videos_path_list = []\n",
    "    print(\"List of all directories in '% s':\" % data_path)\n",
    "\n",
    "    for path, subdirs, files in os.walk(data_path):\n",
    "        for name in files:\n",
    "            if name.endswith('.avi'):\n",
    "                videos_path_list.append(os.path.join(path, name))\n",
    "\n",
    "    return videos_path_list\n",
    "\n",
    "\n",
    "def convert_gray_scale(input_path, video_output):\n",
    "    \n",
    "    files_avi = read_data_with_subdirectorys(input_path)\n",
    "    \n",
    "    for j in os.listdir(input_path):\n",
    "        create_directory(str(video_output)+str(j))\n",
    "            \n",
    "    for i in files_avi:\n",
    "        print(i)\n",
    "        cap = cv2.VideoCapture(i)\n",
    "\n",
    "        frame_width = int(cap.get(3)) \n",
    "        frame_height = int(cap.get(4)) \n",
    "        size = (frame_width, frame_height) \n",
    "        result = cv2.VideoWriter(video_output+i.split('UCF-101-Analysis/')[-1],  \n",
    "                                 cv2.VideoWriter_fourcc(*'MJPG'), \n",
    "                                 25, size, isColor=False) \n",
    "\n",
    "        if cap.isOpened() == False:\n",
    "            print(\"Error opening video stream or file\")\n",
    "\n",
    "        while cap.isOpened():\n",
    "            _, image = cap.read()\n",
    "\n",
    "            if _ == True:\n",
    "                gray = cv2.cvtColor(image, cv2.COLOR_BGR2GRAY)\n",
    "                result.write(gray) \n",
    "                #cv2.imshow(video_output, gray)\n",
    "                #print(video_output+'Gray_'+i)\n",
    "                if cv2.waitKey(25) & 0xFF == ord(\"q\"):\n",
    "                    break\n",
    "            else:\n",
    "                break\n",
    "\n",
    "        cv2.destroyAllWindows()\n",
    "        cap.release()\n",
    "    \n",
    "    return 1"
   ]
  },
  {
   "cell_type": "code",
   "execution_count": null,
   "id": "43b32eb3",
   "metadata": {
    "scrolled": true
   },
   "outputs": [],
   "source": [
    "db_input = '../../data/raw/UCF-101-Analysis/'\n",
    "db_output = create_directory('../../data/raw/UCF-101-Analysis-GrayScale/')\n",
    "\n",
    "#convert_gray_scale(db_input, db_output)"
   ]
  },
  {
   "cell_type": "markdown",
   "id": "c56f4f1e",
   "metadata": {},
   "source": [
    "### No Geral"
   ]
  },
  {
   "cell_type": "code",
   "execution_count": null,
   "id": "20eddfd8",
   "metadata": {},
   "outputs": [],
   "source": [
    "inputs = {\n",
    "    'dlib': '../../data/processed/dlib/UCF-101-Analysis-GrayScale/',\n",
    "    'mediapipe': '../../data/processed/mediapipe/UCF-101-Analysis-GrayScale/'\n",
    "}\n",
    "\n",
    "combined_csv_gray = pre_processed(inputs, '_gray_scale')\n",
    "\n",
    "extractors = {\n",
    "    'extractor1': 'dlib_gray_scale',\n",
    "    'extractor2': 'mediapipe_gray_scale'\n",
    "}\n",
    "\n",
    "plot_var_geral(combined_csv_gray, extractors)"
   ]
  },
  {
   "cell_type": "code",
   "execution_count": null,
   "id": "27ee637f",
   "metadata": {},
   "outputs": [],
   "source": [
    "extractors = {\n",
    "    'extractor1': 'dlib',\n",
    "    'extractor2': 'mediapipe'\n",
    "}\n",
    "\n",
    "plot_var_geral(combined_csv, extractors)"
   ]
  },
  {
   "cell_type": "code",
   "execution_count": null,
   "id": "e2cdd649",
   "metadata": {},
   "outputs": [],
   "source": [
    "#Unificando dataframes\n",
    "\n",
    "columns = ['frame','video_name','keys','extractor','na']\n",
    "combined_gray_with_original = pd.concat([combined_csv.loc[combined_csv.na==0].reset_index()[columns], \n",
    "                                         combined_csv_gray.loc[combined_csv_gray.na==0].reset_index()[columns]], axis=0)\n",
    "combined_gray_with_original.extractor.unique()"
   ]
  },
  {
   "cell_type": "code",
   "execution_count": null,
   "id": "db133d18",
   "metadata": {},
   "outputs": [],
   "source": [
    "fig = plt.figure(figsize=(18,10))\n",
    "plt.subplot(2,2,1)\n",
    "\n",
    "colors = ['blue', 'gray']\n",
    "ax = sns.countplot(x=\"extractor\", hue=\"extractor\", data=combined_gray_with_original.sort_values(by='extractor'), \n",
    "                   palette=colors)\n",
    "ax.set(ylabel='Total of Frames', title='Percentual de frames com landmarks identificados')\n",
    "\n",
    "# add annotations\n",
    "for c in ax.containers:\n",
    "    # custom label calculates percent and add an empty string so 0 value bars don't have a number\n",
    "    labels = [f'{w/(len(combined_csv.index)/2)*100:0.1f}%' if (w := v.get_height()) > 0 else '' for v in c]\n",
    "    ax.bar_label(c, labels=labels, label_type='edge')"
   ]
  },
  {
   "cell_type": "code",
   "execution_count": null,
   "id": "ec591e23",
   "metadata": {
    "scrolled": true
   },
   "outputs": [],
   "source": [
    "#Validação de porcentagens do gráfico [Original]\n",
    "print(\"Total: \"+str(combined_csv.shape[0]/2))\n",
    "print('Original:')\n",
    "print('{:.1f}%'.format(43212/(combined_csv.shape[0]/2)*100))\n",
    "print('{:.1f}%'.format(110407/(combined_csv.shape[0]/2)*100))\n",
    "\n",
    "#Validação de porcentagens do gráfico [Escala de Cinza]\n",
    "print('Escala de Cinza:')\n",
    "print('{:.1f}%'.format( 42808/(combined_csv_gray.shape[0]/2)*100))\n",
    "print('{:.1f}%'.format( 99262/(combined_csv_gray.shape[0]/2)*100))"
   ]
  },
  {
   "cell_type": "markdown",
   "id": "f2ae8fd4",
   "metadata": {},
   "source": [
    "De um total de 134484 frames de toda a base submetidos em cada extrator, obtivemos uma pequena diferença na quantidade de frames com landmarks retornados pelo Dlib, quando os mesmos estavam em escala de cinza, isto é, uma diferença de 0,3%. Já em relação ao Mediapipe, obtivermos uma diferença maior, quando comparado ao Dlib, a quantidade de frames com landmarks retornados dimiuiu em 8,3% ao converter os mesmos para a escala de cinza.\n",
    "\n",
    "De maneira geral, através desses dados analisados, podemos concluir que o mediapipe é mais sensível quando os frames são convertidos para a escala de cinza, influenciando negativamente na detecção de landmarks da face."
   ]
  },
  {
   "cell_type": "markdown",
   "id": "8dc418a5",
   "metadata": {},
   "source": [
    "### Por momentos específicos de uma amostra [Selected]"
   ]
  },
  {
   "cell_type": "code",
   "execution_count": null,
   "id": "c4508a35",
   "metadata": {},
   "outputs": [],
   "source": [
    "videos = os.listdir('../../data/raw/UCF-101-Analysis-Selected-GrayScale/')\n",
    "data_selected_gray = combined_csv_gray.loc[combined_csv_gray.video_name.isin(videos)]\n",
    "print(data_selected_gray.shape)"
   ]
  },
  {
   "cell_type": "code",
   "execution_count": null,
   "id": "e3548447",
   "metadata": {},
   "outputs": [],
   "source": [
    "total = len(data_selected_gray.loc[data_selected_gray['extractor'] == 'mediapipe_gray_scale'])\n",
    "dlib_na = len(data_selected_gray.loc[\n",
    "    (data_selected_gray['extractor'] == 'dlib_gray_scale') & (data_selected_gray['na'] == 1)])\n",
    "mediapipe_na = len(data_selected_gray.loc[\n",
    "    (data_selected_gray['extractor'] == 'mediapipe_gray_scale') & (data_selected_gray['na'] == 1)])\n",
    "\n",
    "print(\"Total de Frames para cada Extrator: {} ({:.2f}%)\".format(total, (total/total)*100))\n",
    "print(\"Total de Frames N/A Dlib: {} ({:.2f}% de todos os frames submetidos ao extrator)\".format(dlib_na, (dlib_na/total)*100))\n",
    "print(\"Total de Frames N/A MediaPipe: {} ({:.2f}% de todos os frames submetidos ao extrator)\" .format(mediapipe_na, (mediapipe_na/total)*100))\n"
   ]
  },
  {
   "cell_type": "code",
   "execution_count": null,
   "id": "52e4d10f",
   "metadata": {},
   "outputs": [],
   "source": [
    "data_selected.shape"
   ]
  },
  {
   "cell_type": "code",
   "execution_count": null,
   "id": "f93f5c38",
   "metadata": {},
   "outputs": [],
   "source": [
    "#Unificando dataframes\n",
    "columns = ['frame','video_name','keys','extractor','na']\n",
    "combined_gray_with_original_selected = pd.concat([data_selected.reset_index()[columns], \n",
    "                                         data_selected_gray.reset_index()[columns]], axis=0)\n",
    "combined_gray_with_original_selected.extractor.unique()"
   ]
  },
  {
   "cell_type": "markdown",
   "id": "77262a60",
   "metadata": {},
   "source": [
    "**Em comparação com os dados sem escala de cinza, em quais momentos o Dlib diminuiu a sua assertividade?**"
   ]
  },
  {
   "cell_type": "code",
   "execution_count": null,
   "id": "78eb3691",
   "metadata": {
    "scrolled": false
   },
   "outputs": [],
   "source": [
    "fig = plt.figure(figsize=(14,16))\n",
    "custom_params = {\"axes.spines.right\": False, \"axes.spines.top\": False}\n",
    "sns.set_theme(style=\"ticks\", rc=custom_params)\n",
    "count = 1 \n",
    "\n",
    "\n",
    "df_temp1 = combined_gray_with_original_selected[['frame', 'video_name', 'na', 'extractor']].loc[(combined_gray_with_original_selected.extractor == 'dlib')\n",
    "                                                  | (combined_gray_with_original_selected.extractor == 'dlib_gray_scale')\n",
    "                                                   ]\n",
    "for i in videos:\n",
    "    #col, row, order\n",
    "    df = df_temp1.loc[df_temp1.video_name ==i].copy()\n",
    "    df['na'] = df['na'].astype(int)\n",
    "    plt.subplot(5,1, count)\n",
    "    ax = sns.lineplot(data=df, x=\"frame\", y=\"na\", hue=\"extractor\", palette=['blue', 'gray'], alpha = 0.5)\n",
    "    sns.scatterplot(data=df, x=\"frame\", y=\"na\", hue=\"extractor\", palette=['blue', 'gray'], alpha = 0.5)\n",
    "    ax.set(ylabel=i)\n",
    "    ax.yaxis.set_major_locator(ticker.IndexLocator(base=1, offset=1))\n",
    "    ax.yaxis.set_major_formatter(ticker.ScalarFormatter())\n",
    "    count= count+1\n"
   ]
  },
  {
   "cell_type": "markdown",
   "id": "654ce3d8",
   "metadata": {},
   "source": [
    "### Get Frames divergentes"
   ]
  },
  {
   "cell_type": "code",
   "execution_count": null,
   "id": "a430339e",
   "metadata": {},
   "outputs": [],
   "source": [
    "def count_dff(part):\n",
    "    nas = part['na'].values\n",
    "    is_equal = (nas[0] == nas).all()\n",
    "    part['is_equal'] = 1 if is_equal else 0\n",
    "    \n",
    "    return part"
   ]
  },
  {
   "cell_type": "code",
   "execution_count": null,
   "id": "edd61788",
   "metadata": {},
   "outputs": [],
   "source": [
    "result = df_temp1.groupby(['frame', 'video_name']).apply(count_dff)"
   ]
  },
  {
   "cell_type": "code",
   "execution_count": null,
   "id": "0e1ee8fb",
   "metadata": {},
   "outputs": [],
   "source": [
    "result.query('is_equal == 0')"
   ]
  },
  {
   "cell_type": "code",
   "execution_count": null,
   "id": "b3179155",
   "metadata": {},
   "outputs": [],
   "source": [
    "df_temp1.loc[(df_temp1.frame == 40) & (df_temp1.video_name == 'v_ShavingBeard_g03_c03.avi')]"
   ]
  },
  {
   "cell_type": "code",
   "execution_count": null,
   "id": "f7940996",
   "metadata": {},
   "outputs": [],
   "source": [
    "df_temp1.assign(count=df_temp1.groupby(['frame', 'video_name'])[\"frame\"].transform('count'))\n",
    "#df_temp1.loc[df_temp1['count'] !=2]"
   ]
  },
  {
   "cell_type": "markdown",
   "id": "b1e13d81",
   "metadata": {},
   "source": [
    "**Em comparação com os dados sem escala de cinza, em quais momentos o MediaPipe diminuiu a sua assertividade?**"
   ]
  },
  {
   "cell_type": "code",
   "execution_count": null,
   "id": "4bb00e25",
   "metadata": {},
   "outputs": [],
   "source": [
    "fig = plt.figure(figsize=(14,16))\n",
    "custom_params = {\"axes.spines.right\": False, \"axes.spines.top\": False}\n",
    "sns.set_theme(style=\"ticks\", rc=custom_params)\n",
    "count = 1 \n",
    "\n",
    "\n",
    "df_temp2 = combined_gray_with_original_selected.loc[(combined_gray_with_original_selected.extractor == 'mediapipe')\n",
    "                                                  | (combined_gray_with_original_selected.extractor == 'mediapipe_gray_scale')]\n",
    "for i in videos:\n",
    "    #col, row, order\n",
    "    df = df_temp2.loc[df_temp2.video_name ==i].copy()\n",
    "    df['na'] = df['na'].astype(int)\n",
    "    plt.subplot(5,1, count)\n",
    "    ax = sns.lineplot(data=df, x=\"frame\", y=\"na\", hue=\"extractor\", palette=['blue', 'gray'], alpha = 0.5)\n",
    "    sns.scatterplot(data=df, x=\"frame\", y=\"na\", hue=\"extractor\", palette=['blue', 'gray'], alpha = 0.5)\n",
    "    ax.set(ylabel=i)\n",
    "    ax.yaxis.set_major_locator(ticker.IndexLocator(base=1, offset=1))\n",
    "    ax.yaxis.set_major_formatter(ticker.ScalarFormatter())\n",
    "    count= count+1\n"
   ]
  },
  {
   "cell_type": "code",
   "execution_count": null,
   "id": "9e85e2a2",
   "metadata": {
    "scrolled": true
   },
   "outputs": [],
   "source": [
    "#Case detectado no MediaPipe e não detectado no Dlib\n",
    "\n",
    "data_selected_gray.loc[(data_selected['video_name'] == 'v_ApplyEyeMakeup_g01_c02.avi') & (data_selected_gray['frame'] == 1)]"
   ]
  },
  {
   "cell_type": "code",
   "execution_count": null,
   "id": "b8bf4fd5",
   "metadata": {},
   "outputs": [],
   "source": [
    "#Case detectado por ambos extratores\n",
    "\n",
    "data_selected_gray.loc[(data_selected_gray['video_name'] == 'v_ApplyEyeMakeup_g01_c02.avi') & (data_selected_gray['frame'] == 3)]"
   ]
  },
  {
   "cell_type": "code",
   "execution_count": null,
   "id": "531e0052",
   "metadata": {},
   "outputs": [],
   "source": [
    "#Case não detectado por ambos extratores\n",
    "\n",
    "data_selected_gray.loc[(data_selected_gray['video_name'] == 'v_PlayingFlute_g03_c07.avi') & (data_selected_gray['frame'] == 150)]"
   ]
  },
  {
   "cell_type": "code",
   "execution_count": null,
   "id": "2e5d5d23",
   "metadata": {},
   "outputs": [],
   "source": [
    "#Contagem de N/As\n",
    "\n",
    "df_na = data_selected_gray.loc[data_selected_gray.na == 1][['frame','video_name','extractor','na']]\n",
    "#Contagem de NA por frame. Se retornar 2, nenhum dos extratores deu sucesso.\n",
    "df_na[\"count\"] = df_na.groupby(['frame', 'video_name'])[\"na\"].transform('count')\n",
    "df_na.head(10)"
   ]
  },
  {
   "cell_type": "markdown",
   "id": "be498638",
   "metadata": {},
   "source": [
    "### Cases"
   ]
  },
  {
   "cell_type": "code",
   "execution_count": null,
   "id": "940405a5",
   "metadata": {},
   "outputs": [],
   "source": [
    "print(\"Quantos frames o MediaPipe detectou e que o Dlib não detectou? \"+str(len(df_na.loc[(df_na['count'] == 1) & (df_na['extractor'] == 'dlib_gray_scale')])))\n",
    "print(\"Quantos frames o Dlib detectou e que o MediaPipe não detectou? \"+str(len(df_na.loc[(df_na['count'] == 1) & (df_na['extractor'] == 'mediapipe_gray_scale')])))\n",
    "print(\"Quantos frames nem o Dlib e nem o Mediapipe detectaram? \"+str(len(df_na.loc[df_na['count'] == 2])))"
   ]
  },
  {
   "cell_type": "markdown",
   "id": "c065f88e",
   "metadata": {},
   "source": [
    "## Análise Visual"
   ]
  },
  {
   "cell_type": "code",
   "execution_count": null,
   "id": "0e6a8f3d",
   "metadata": {},
   "outputs": [],
   "source": [
    "#os.chdir('../../../../notebooks/feature_extraction/')\n",
    "path_visual = './data/vis2-videos/'\n",
    "l_videos = sorted(os.listdir(path_visual))\n",
    "print(l_videos)"
   ]
  },
  {
   "cell_type": "code",
   "execution_count": null,
   "id": "5ee916f0",
   "metadata": {
    "scrolled": false
   },
   "outputs": [],
   "source": [
    "import mediapy as media\n",
    "import cv2\n",
    "\n",
    "video1 = media.read_video(path_visual+str(l_videos[0]))\n",
    "video2 = media.read_video(path_visual+str(l_videos[1]))\n",
    "video3 = media.read_video(path_visual+str(l_videos[2]))\n",
    "video4 = media.read_video(path_visual+str(l_videos[3]))\n",
    "video5 = media.read_video(path_visual+str(l_videos[4]))\n",
    "video6 = media.read_video(path_visual+str(l_videos[5]))\n",
    "video7 = media.read_video(path_visual+str(l_videos[6]))\n",
    "video8 = media.read_video(path_visual+str(l_videos[7]))\n",
    "video9 = media.read_video(path_visual+str(l_videos[8]))\n",
    "video10 = media.read_video(path_visual+str(l_videos[9]))\n",
    "\n",
    "# Show multiple videos side-by-side.\n",
    "s = 90\n",
    "vis_videos = {\n",
    "    'v_ApplyEyeMakeup_g01_c02-DLIB': video1,\n",
    "    'v_ApplyEyeMakeup_g01_c02-MEDIAPIPE': video2,\n",
    "    'v_PlayingFlute_g02_c06-DLIB': video3,\n",
    "    'v_PlayingFlute_g02_c06-MEDIAPIPE': video4,\n",
    "    'v_PlayingFlute_g03_c07-DLIB': video5,\n",
    "    'v_PlayingFlute_g03_c07-MEDIAPIPE': video6,\n",
    "    'v_ShavingBeard_g03_c03-DLIB': video7,\n",
    "    'v_ShavingBeard_g03_c03-MEDIAPIPE': video8,\n",
    "    'v_ShavingBeard_g04_c02-DLIB': video9,\n",
    "    'v_ShavingBeard_g04_c02-MEDIAPIPE': video10,\n",
    "    \n",
    "}\n",
    "media.show_videos(vis_videos, fps=25, columns=2)"
   ]
  },
  {
   "cell_type": "code",
   "execution_count": null,
   "id": "27bd16fd",
   "metadata": {},
   "outputs": [],
   "source": []
  },
  {
   "cell_type": "code",
   "execution_count": null,
   "id": "e58a78fc",
   "metadata": {},
   "outputs": [],
   "source": []
  },
  {
   "cell_type": "code",
   "execution_count": null,
   "id": "39436ee3",
   "metadata": {},
   "outputs": [],
   "source": []
  },
  {
   "cell_type": "code",
   "execution_count": null,
   "id": "e81b32e4",
   "metadata": {},
   "outputs": [],
   "source": []
  },
  {
   "cell_type": "code",
   "execution_count": null,
   "id": "ce711bab",
   "metadata": {},
   "outputs": [],
   "source": []
  },
  {
   "cell_type": "code",
   "execution_count": null,
   "id": "255c9fe7",
   "metadata": {},
   "outputs": [],
   "source": [
    "combined_gray_original = pd.concat([data_selected, combined_csv_gray], axis=0)\n",
    "combined_gray_original.extractor.unique()"
   ]
  },
  {
   "cell_type": "code",
   "execution_count": null,
   "id": "97f9945d",
   "metadata": {},
   "outputs": [],
   "source": [
    "combined_gray_original.loc[combined_gray_original.na == 1]"
   ]
  },
  {
   "cell_type": "code",
   "execution_count": null,
   "id": "de127d2a",
   "metadata": {},
   "outputs": [],
   "source": [
    "fig = plt.figure(figsize=(20,8))\n",
    "plt.subplot(2,2,1)\n",
    "\n",
    "colors = ['blue', 'gray', 'blue', 'gray']\n",
    "df1 = combined_gray_original.loc[combined_gray_original.na == 0].sort_values(by='extractor')\n",
    "ax = sns.countplot(x=\"extractor\", hue=\"extractor\", data=df1, palette=colors)\n",
    "ax.set(ylabel='Total of Frames Detectados', title='Bar Count and Percent of Total')\n",
    "\n",
    "# add annotations\n",
    "for c in ax.containers:\n",
    "    # custom label calculates percent and add an empty string so 0 value bars don't have a number\n",
    "    labels = [f'{w/len(df1.index)*100:0.1f}%' if (w := v.get_height()) > 0 else '' for v in c]\n",
    "    ax.bar_label(c, labels=labels, label_type='edge')"
   ]
  },
  {
   "cell_type": "code",
   "execution_count": null,
   "id": "c976d6e1",
   "metadata": {},
   "outputs": [],
   "source": [
    "fig = plt.figure(figsize=(20,8))\n",
    "plt.subplot(2,2,1)\n",
    "\n",
    "colors = ['blue', 'gray', 'blue', 'gray']\n",
    "df1 = combined_gray_original.loc[combined_gray_original.na == 1].sort_values(by='extractor')\n",
    "ax = sns.countplot(x=\"extractor\", hue=\"extractor\", data=df1, palette=colors)\n",
    "ax.set(ylabel='Total of Frames Detectados', title='Bar Count and Percent of Total')\n",
    "\n",
    "# add annotations\n",
    "for c in ax.containers:\n",
    "    # custom label calculates percent and add an empty string so 0 value bars don't have a number\n",
    "    labels = [f'{w/len(df1.index)*100:0.1f}%' if (w := v.get_height()) > 0 else '' for v in c]\n",
    "    ax.bar_label(c, labels=labels, label_type='edge')"
   ]
  },
  {
   "cell_type": "code",
   "execution_count": null,
   "id": "4e6d20d6",
   "metadata": {},
   "outputs": [],
   "source": [
    "print(STOP)"
   ]
  },
  {
   "cell_type": "code",
   "execution_count": null,
   "id": "d1ebb3e3",
   "metadata": {},
   "outputs": [],
   "source": []
  },
  {
   "cell_type": "code",
   "execution_count": null,
   "id": "6fbc6074",
   "metadata": {},
   "outputs": [],
   "source": []
  },
  {
   "cell_type": "code",
   "execution_count": null,
   "id": "7a680b87",
   "metadata": {},
   "outputs": [],
   "source": []
  },
  {
   "cell_type": "code",
   "execution_count": null,
   "id": "1aded199",
   "metadata": {},
   "outputs": [],
   "source": []
  }
 ],
 "metadata": {
  "kernelspec": {
   "display_name": "Python 3",
   "language": "python",
   "name": "python3"
  },
  "language_info": {
   "codemirror_mode": {
    "name": "ipython",
    "version": 3
   },
   "file_extension": ".py",
   "mimetype": "text/x-python",
   "name": "python",
   "nbconvert_exporter": "python",
   "pygments_lexer": "ipython3",
   "version": "3.9.5"
  },
  "toc": {
   "base_numbering": 1,
   "nav_menu": {},
   "number_sections": true,
   "sideBar": true,
   "skip_h1_title": false,
   "title_cell": "Table of Contents",
   "title_sidebar": "Contents",
   "toc_cell": false,
   "toc_position": {},
   "toc_section_display": true,
   "toc_window_display": false
  }
 },
 "nbformat": 4,
 "nbformat_minor": 5
}
