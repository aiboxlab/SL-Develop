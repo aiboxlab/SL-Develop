{
 "cells": [
  {
   "cell_type": "markdown",
   "id": "669e6358",
   "metadata": {},
   "source": [
    "## Buscar correspondência do dlib no mediapipe\n",
    "Obs.: Consideramos as labels iniciando do 1 e não do 0 (melhor padronizar e iniciar do 0)"
   ]
  },
  {
   "cell_type": "code",
   "execution_count": 1,
   "id": "51c7d6c7-2e49-4a18-9a38-c63586ed9781",
   "metadata": {},
   "outputs": [
    {
     "data": {
      "text/plain": [
       "['processed',\n",
       " 'raw',\n",
       " 'interim',\n",
       " 'external',\n",
       " 'annotations',\n",
       " 'README.md',\n",
       " 'outputs',\n",
       " '__init__.py',\n",
       " 'examples']"
      ]
     },
     "execution_count": 1,
     "metadata": {},
     "output_type": "execute_result"
    }
   ],
   "source": [
    "import math\n",
    "import os\n",
    "import csv\n",
    "import numpy as np\n",
    "import pandas as pd\n",
    "from matplotlib import pyplot as plt\n",
    "os.listdir('../../data')"
   ]
  },
  {
   "cell_type": "markdown",
   "id": "0ce9ec94-0b2f-4368-b439-2b9db9f47f95",
   "metadata": {},
   "source": [
    "Obs: Para gerar o .csv com as landmarks para uma imagem específica, podemos utilizar os seguintes códigos:\n",
    "- **Mediapipe:** FacialActionLibras/src/features/mediapipe/image_face_mesh_labels.py\n",
    "- **Dlib:** FacialActionLibras/src/features/dlib/image_landmarks_labels.py\n",
    "\n",
    "A imagem utilizada como referência para o cálculo das landmarks está localizada em: *FacialActionLibras/notebooks/feature_extraction/images/face_reference02.jpeg* e foi obtida do site [This Person do not Exist](https://thispersondoesnotexist.com/), que gera imagens de faces a partir de uma StyleGAN2. \n",
    "\n",
    "Ela foi escolhida por possuir uma face mais centralizada (o que permite a geração de uma máscara de pontos mais bem definida) e por não conter artefatos na face que poderiam influenciar a detecção de landmarks (e.g. óculos, chapéu, etc.). Podemos observá-la a seguir:\n",
    "\n",
    "![Face utilizada como referência para o cálculo de distância entre landmarks](./images/face_reference02.jpeg)"
   ]
  },
  {
   "cell_type": "code",
   "execution_count": 2,
   "id": "e8eaaf14-7a03-428d-89b9-adb5b80c88a9",
   "metadata": {},
   "outputs": [
    {
     "data": {
      "text/html": [
       "<div>\n",
       "<style scoped>\n",
       "    .dataframe tbody tr th:only-of-type {\n",
       "        vertical-align: middle;\n",
       "    }\n",
       "\n",
       "    .dataframe tbody tr th {\n",
       "        vertical-align: top;\n",
       "    }\n",
       "\n",
       "    .dataframe thead th {\n",
       "        text-align: right;\n",
       "    }\n",
       "</style>\n",
       "<table border=\"1\" class=\"dataframe\">\n",
       "  <thead>\n",
       "    <tr style=\"text-align: right;\">\n",
       "      <th></th>\n",
       "      <th>landmark</th>\n",
       "      <th>x</th>\n",
       "      <th>y</th>\n",
       "    </tr>\n",
       "  </thead>\n",
       "  <tbody>\n",
       "    <tr>\n",
       "      <th>0</th>\n",
       "      <td>1</td>\n",
       "      <td>506</td>\n",
       "      <td>721</td>\n",
       "    </tr>\n",
       "    <tr>\n",
       "      <th>1</th>\n",
       "      <td>2</td>\n",
       "      <td>502</td>\n",
       "      <td>667</td>\n",
       "    </tr>\n",
       "    <tr>\n",
       "      <th>2</th>\n",
       "      <td>3</td>\n",
       "      <td>504</td>\n",
       "      <td>684</td>\n",
       "    </tr>\n",
       "    <tr>\n",
       "      <th>3</th>\n",
       "      <td>4</td>\n",
       "      <td>485</td>\n",
       "      <td>577</td>\n",
       "    </tr>\n",
       "  </tbody>\n",
       "</table>\n",
       "</div>"
      ],
      "text/plain": [
       "   landmark    x    y\n",
       "0         1  506  721\n",
       "1         2  502  667\n",
       "2         3  504  684\n",
       "3         4  485  577"
      ]
     },
     "execution_count": 2,
     "metadata": {},
     "output_type": "execute_result"
    }
   ],
   "source": [
    "df_mpipe = pd.read_csv('./data/face_reference02_landmaks_mediapipe.csv', sep=';', names=['landmark', 'x', 'y'], header=0)\n",
    "df_mpipe.head(4)"
   ]
  },
  {
   "cell_type": "code",
   "execution_count": 3,
   "id": "b6968701-bad6-4d49-bb40-6be55d91e03e",
   "metadata": {},
   "outputs": [
    {
     "data": {
      "text/html": [
       "<div>\n",
       "<style scoped>\n",
       "    .dataframe tbody tr th:only-of-type {\n",
       "        vertical-align: middle;\n",
       "    }\n",
       "\n",
       "    .dataframe tbody tr th {\n",
       "        vertical-align: top;\n",
       "    }\n",
       "\n",
       "    .dataframe thead th {\n",
       "        text-align: right;\n",
       "    }\n",
       "</style>\n",
       "<table border=\"1\" class=\"dataframe\">\n",
       "  <thead>\n",
       "    <tr style=\"text-align: right;\">\n",
       "      <th></th>\n",
       "      <th>landmark</th>\n",
       "      <th>x</th>\n",
       "      <th>y</th>\n",
       "    </tr>\n",
       "  </thead>\n",
       "  <tbody>\n",
       "    <tr>\n",
       "      <th>0</th>\n",
       "      <td>1</td>\n",
       "      <td>227</td>\n",
       "      <td>482</td>\n",
       "    </tr>\n",
       "    <tr>\n",
       "      <th>1</th>\n",
       "      <td>2</td>\n",
       "      <td>235</td>\n",
       "      <td>559</td>\n",
       "    </tr>\n",
       "    <tr>\n",
       "      <th>2</th>\n",
       "      <td>3</td>\n",
       "      <td>245</td>\n",
       "      <td>634</td>\n",
       "    </tr>\n",
       "    <tr>\n",
       "      <th>3</th>\n",
       "      <td>4</td>\n",
       "      <td>257</td>\n",
       "      <td>706</td>\n",
       "    </tr>\n",
       "  </tbody>\n",
       "</table>\n",
       "</div>"
      ],
      "text/plain": [
       "   landmark    x    y\n",
       "0         1  227  482\n",
       "1         2  235  559\n",
       "2         3  245  634\n",
       "3         4  257  706"
      ]
     },
     "execution_count": 3,
     "metadata": {},
     "output_type": "execute_result"
    }
   ],
   "source": [
    "df_dlib = pd.read_csv('./data/face_reference02_landmaks_dlib.csv', sep=';', names=['landmark', 'x', 'y'], header=0)\n",
    "df_dlib.head(4)"
   ]
  },
  {
   "cell_type": "code",
   "execution_count": 4,
   "id": "924fbd47",
   "metadata": {},
   "outputs": [],
   "source": [
    "def calculate_distance_euc(x1, y1, row):\n",
    "    x2 = row['x']\n",
    "    y2 = row['y']\n",
    "    dist = math.sqrt( (x2 - x1)**2 + (y2 - y1)**2 )\n",
    "    return dist\n",
    "\n",
    "def calculate_distance(x1_dlib, y1_dlib, df_media):\n",
    "    df_media[\"diff_distance\"] = df_media.apply(lambda row: calculate_distance_euc(x1_dlib, y1_dlib, row), axis=1)\n",
    "    landmark_nearest_mpipe = int(df_media.loc[df_media['diff_distance'].idxmin()]['landmark'])\n",
    "    x = int(df_media.loc[df_media['diff_distance'].idxmin()]['x'])\n",
    "    y = int(df_media.loc[df_media['diff_distance'].idxmin()]['y'])\n",
    "    #land = int(df_media.loc[df_media['diff_distance'].idxmin()]['landmark'])\n",
    "    return landmark_nearest_mpipe, x, y"
   ]
  },
  {
   "cell_type": "code",
   "execution_count": 5,
   "id": "73c076f3",
   "metadata": {},
   "outputs": [
    {
     "data": {
      "text/html": [
       "<div>\n",
       "<style scoped>\n",
       "    .dataframe tbody tr th:only-of-type {\n",
       "        vertical-align: middle;\n",
       "    }\n",
       "\n",
       "    .dataframe tbody tr th {\n",
       "        vertical-align: top;\n",
       "    }\n",
       "\n",
       "    .dataframe thead th {\n",
       "        text-align: right;\n",
       "    }\n",
       "</style>\n",
       "<table border=\"1\" class=\"dataframe\">\n",
       "  <thead>\n",
       "    <tr style=\"text-align: right;\">\n",
       "      <th></th>\n",
       "      <th>landmark</th>\n",
       "      <th>x</th>\n",
       "      <th>y</th>\n",
       "      <th>landmark_mpipe</th>\n",
       "      <th>x_mpipe</th>\n",
       "      <th>y_mpipe</th>\n",
       "    </tr>\n",
       "  </thead>\n",
       "  <tbody>\n",
       "    <tr>\n",
       "      <th>0</th>\n",
       "      <td>1</td>\n",
       "      <td>227</td>\n",
       "      <td>482</td>\n",
       "      <td>128</td>\n",
       "      <td>237</td>\n",
       "      <td>498</td>\n",
       "    </tr>\n",
       "    <tr>\n",
       "      <th>1</th>\n",
       "      <td>2</td>\n",
       "      <td>235</td>\n",
       "      <td>559</td>\n",
       "      <td>228</td>\n",
       "      <td>237</td>\n",
       "      <td>555</td>\n",
       "    </tr>\n",
       "    <tr>\n",
       "      <th>2</th>\n",
       "      <td>3</td>\n",
       "      <td>245</td>\n",
       "      <td>634</td>\n",
       "      <td>148</td>\n",
       "      <td>255</td>\n",
       "      <td>648</td>\n",
       "    </tr>\n",
       "    <tr>\n",
       "      <th>3</th>\n",
       "      <td>4</td>\n",
       "      <td>257</td>\n",
       "      <td>706</td>\n",
       "      <td>216</td>\n",
       "      <td>260</td>\n",
       "      <td>712</td>\n",
       "    </tr>\n",
       "    <tr>\n",
       "      <th>4</th>\n",
       "      <td>5</td>\n",
       "      <td>279</td>\n",
       "      <td>772</td>\n",
       "      <td>139</td>\n",
       "      <td>285</td>\n",
       "      <td>757</td>\n",
       "    </tr>\n",
       "    <tr>\n",
       "      <th>...</th>\n",
       "      <td>...</td>\n",
       "      <td>...</td>\n",
       "      <td>...</td>\n",
       "      <td>...</td>\n",
       "      <td>...</td>\n",
       "      <td>...</td>\n",
       "    </tr>\n",
       "    <tr>\n",
       "      <th>63</th>\n",
       "      <td>64</td>\n",
       "      <td>551</td>\n",
       "      <td>732</td>\n",
       "      <td>303</td>\n",
       "      <td>545</td>\n",
       "      <td>727</td>\n",
       "    </tr>\n",
       "    <tr>\n",
       "      <th>64</th>\n",
       "      <td>65</td>\n",
       "      <td>629</td>\n",
       "      <td>728</td>\n",
       "      <td>309</td>\n",
       "      <td>629</td>\n",
       "      <td>726</td>\n",
       "    </tr>\n",
       "    <tr>\n",
       "      <th>65</th>\n",
       "      <td>66</td>\n",
       "      <td>550</td>\n",
       "      <td>767</td>\n",
       "      <td>318</td>\n",
       "      <td>543</td>\n",
       "      <td>772</td>\n",
       "    </tr>\n",
       "    <tr>\n",
       "      <th>66</th>\n",
       "      <td>67</td>\n",
       "      <td>511</td>\n",
       "      <td>773</td>\n",
       "      <td>15</td>\n",
       "      <td>509</td>\n",
       "      <td>775</td>\n",
       "    </tr>\n",
       "    <tr>\n",
       "      <th>67</th>\n",
       "      <td>68</td>\n",
       "      <td>474</td>\n",
       "      <td>767</td>\n",
       "      <td>88</td>\n",
       "      <td>477</td>\n",
       "      <td>772</td>\n",
       "    </tr>\n",
       "  </tbody>\n",
       "</table>\n",
       "<p>68 rows × 6 columns</p>\n",
       "</div>"
      ],
      "text/plain": [
       "    landmark    x    y  landmark_mpipe  x_mpipe  y_mpipe\n",
       "0          1  227  482             128      237      498\n",
       "1          2  235  559             228      237      555\n",
       "2          3  245  634             148      255      648\n",
       "3          4  257  706             216      260      712\n",
       "4          5  279  772             139      285      757\n",
       "..       ...  ...  ...             ...      ...      ...\n",
       "63        64  551  732             303      545      727\n",
       "64        65  629  728             309      629      726\n",
       "65        66  550  767             318      543      772\n",
       "66        67  511  773              15      509      775\n",
       "67        68  474  767              88      477      772\n",
       "\n",
       "[68 rows x 6 columns]"
      ]
     },
     "execution_count": 5,
     "metadata": {},
     "output_type": "execute_result"
    }
   ],
   "source": [
    "df_dlib['landmark_mpipe'], df_dlib['x_mpipe'], df_dlib['y_mpipe'] = zip(*df_dlib.apply(lambda x: calculate_distance(x['x'], x['y'], df_mpipe.copy()), axis=1))\n",
    "df_dlib"
   ]
  },
  {
   "cell_type": "markdown",
   "id": "04f12c6e-834c-4069-8899-45314dae4927",
   "metadata": {},
   "source": [
    "Validando que para a face utilizada como referência anteriormente, face_reference_01.png, obtivemos ids repetidos na região da boca, devido à proximidade dos pontos pela boca estar fechada."
   ]
  },
  {
   "cell_type": "code",
   "execution_count": 32,
   "id": "f2e60547-e30e-4886-a607-111d59b5d91d",
   "metadata": {},
   "outputs": [
    {
     "data": {
      "text/plain": [
       "68"
      ]
     },
     "execution_count": 32,
     "metadata": {},
     "output_type": "execute_result"
    }
   ],
   "source": [
    "len(df_dlib['landmark_mpipe'].to_list())"
   ]
  },
  {
   "cell_type": "code",
   "execution_count": 40,
   "id": "c80312da-59a0-4110-bed4-d0b3e2e84bec",
   "metadata": {},
   "outputs": [
    {
     "data": {
      "text/plain": [
       "(1, 468)"
      ]
     },
     "execution_count": 40,
     "metadata": {},
     "output_type": "execute_result"
    }
   ],
   "source": [
    "df_mpipe['landmark'].min(), df_mpipe['landmark'].max()"
   ]
  },
  {
   "cell_type": "code",
   "execution_count": 38,
   "id": "faa90452-aadd-4bf5-9b8a-0eb4903f00c8",
   "metadata": {},
   "outputs": [
    {
     "data": {
      "text/plain": [
       "313    2\n",
       "14     2\n",
       "39     2\n",
       "35     1\n",
       "154    1\n",
       "      ..\n",
       "169    1\n",
       "198    1\n",
       "6      1\n",
       "5      1\n",
       "307    1\n",
       "Name: landmark_mpipe, Length: 65, dtype: int64"
      ]
     },
     "execution_count": 38,
     "metadata": {},
     "output_type": "execute_result"
    }
   ],
   "source": [
    "df_dlib['landmark_mpipe'].value_counts()"
   ]
  },
  {
   "cell_type": "code",
   "execution_count": 33,
   "id": "75adb8bc-9aef-4dab-9170-9549fba93edd",
   "metadata": {},
   "outputs": [
    {
     "data": {
      "text/plain": [
       "(array([  3,   5,   6,  10,  12,  14,  17,  35,  39,  63,  64,  73,  74,\n",
       "         76,  86,  98, 106, 108, 137, 139, 145, 148, 151, 153, 154, 156,\n",
       "        159, 160, 162, 163, 169, 177, 181, 192, 198, 214, 228, 289, 292,\n",
       "        294, 297, 303, 306, 307, 311, 313, 316, 321, 324, 327, 335, 337,\n",
       "        354, 357, 362, 366, 374, 378, 379, 381, 383, 386, 387, 391, 398]),\n",
       " array([1, 1, 1, 1, 1, 2, 1, 1, 2, 1, 1, 1, 1, 1, 1, 1, 1, 1, 1, 1, 1, 1,\n",
       "        1, 1, 1, 1, 1, 1, 1, 1, 1, 1, 1, 1, 1, 1, 1, 1, 1, 1, 1, 1, 1, 1,\n",
       "        1, 2, 1, 1, 1, 1, 1, 1, 1, 1, 1, 1, 1, 1, 1, 1, 1, 1, 1, 1, 1]))"
      ]
     },
     "execution_count": 33,
     "metadata": {},
     "output_type": "execute_result"
    }
   ],
   "source": [
    "np.unique(sorted(df_dlib['landmark_mpipe'].to_list()), return_counts=True)"
   ]
  },
  {
   "cell_type": "code",
   "execution_count": 36,
   "id": "a6956b26-63b9-4a2c-b71d-b56efbfc3ba6",
   "metadata": {},
   "outputs": [
    {
     "data": {
      "text/plain": [
       "(array([  2,   4,   5,   9,  11,  13,  16,  27,  34,  38,  62,  63,  72,\n",
       "         73,  75,  85,  89,  96,  97, 105, 107, 136, 138, 144, 147, 150,\n",
       "        152, 153, 155, 158, 161, 162, 168, 176, 197, 215, 227, 288, 291,\n",
       "        292, 293, 296, 302, 305, 310, 312, 315, 320, 323, 326, 334, 336,\n",
       "        353, 356, 361, 365, 373, 377, 378, 380, 382, 385, 386, 390, 397]),\n",
       " array([1, 1, 1, 1, 1, 2, 1, 1, 1, 2, 1, 1, 1, 1, 1, 1, 1, 1, 1, 1, 1, 1,\n",
       "        1, 1, 1, 1, 1, 1, 1, 1, 1, 1, 1, 1, 1, 1, 1, 1, 1, 1, 1, 1, 1, 1,\n",
       "        1, 2, 1, 1, 1, 1, 1, 1, 1, 1, 1, 1, 1, 1, 1, 1, 1, 1, 1, 1, 1]))"
      ]
     },
     "execution_count": 36,
     "metadata": {},
     "output_type": "execute_result"
    }
   ],
   "source": [
    "np.unique(sorted(np.array( [34, 227, 147, 215, 138, 136, 150, 176, 152, 377, 378, 365, 397, 288, 361, 323, 356, 162, 63, 105, 107, 9, 336, 296, 334, 293, 353, 168, 197, 5, 4, 75, 97, 2, 326, 305, 161, 27, 158, 155, 153, 144, 382, 385, 386, 390, 373, 380, 62, 73, 72, 11, 302, 310, 291, 320, 315, 16, 85, 89, 96, 38, 13, 312, 292, 312, 13, 38])), return_counts=True)"
   ]
  },
  {
   "cell_type": "markdown",
   "id": "0133af64-bcdb-472f-a78c-fea7378dc053",
   "metadata": {},
   "source": [
    "Verificação dos ids gerados para a face de referência final, face_reference02.jpeg. Escolhemos uma face de referência melhor para não gerar ids duplicados."
   ]
  },
  {
   "cell_type": "code",
   "execution_count": 6,
   "id": "e4a108d6-eb7f-4be8-88a1-183660a1169b",
   "metadata": {},
   "outputs": [
    {
     "data": {
      "text/plain": [
       "(array([  1,   3,   5,   6,  14,  15,  18,  38,  40,  56,  64,  67,  71,\n",
       "         76,  77,  79,  83,  85,  88,  98, 108, 128, 137, 139, 145, 148,\n",
       "        149, 150, 153, 154, 156, 159, 160, 169, 181, 198, 216, 228, 247,\n",
       "        268, 286, 292, 294, 297, 301, 303, 305, 309, 315, 318, 322, 324,\n",
       "        329, 337, 357, 366, 368, 374, 379, 381, 383, 386, 387, 401, 436,\n",
       "        448, 461, 467]),\n",
       " array([1, 1, 1, 1, 1, 1, 1, 1, 1, 1, 1, 1, 1, 1, 1, 1, 1, 1, 1, 1, 1, 1,\n",
       "        1, 1, 1, 1, 1, 1, 1, 1, 1, 1, 1, 1, 1, 1, 1, 1, 1, 1, 1, 1, 1, 1,\n",
       "        1, 1, 1, 1, 1, 1, 1, 1, 1, 1, 1, 1, 1, 1, 1, 1, 1, 1, 1, 1, 1, 1,\n",
       "        1, 1]))"
      ]
     },
     "execution_count": 6,
     "metadata": {},
     "output_type": "execute_result"
    }
   ],
   "source": [
    "np.unique(sorted(df_dlib['landmark_mpipe'].to_list()), return_counts=True)"
   ]
  },
  {
   "cell_type": "markdown",
   "id": "9bf78b7c-2c0a-416f-8c4c-e3be9d713503",
   "metadata": {},
   "source": [
    "### Conjunto de landmarks correspondentes entre Dlib e Mediapipe\n",
    "\n",
    "Para padronizar o nosso processo, utilizaremos, a partir daqui, os landmarks começados a partir de Zero."
   ]
  },
  {
   "cell_type": "code",
   "execution_count": 7,
   "id": "52fdd883-1f1b-403d-90b3-c3c0e6d3c347",
   "metadata": {},
   "outputs": [],
   "source": [
    "df_dlib['landmark_mpipe'] = df_dlib['landmark_mpipe']-1"
   ]
  },
  {
   "cell_type": "code",
   "execution_count": 8,
   "id": "1b1a44ff-e338-4e4d-b85d-4f0b3d495639",
   "metadata": {},
   "outputs": [
    {
     "data": {
      "text/plain": [
       "(array([  0,   2,   4,   5,  13,  14,  17,  37,  39,  55,  63,  66,  70,\n",
       "         75,  76,  78,  82,  84,  87,  97, 107, 127, 136, 138, 144, 147,\n",
       "        148, 149, 152, 153, 155, 158, 159, 168, 180, 197, 215, 227, 246,\n",
       "        267, 285, 291, 293, 296, 300, 302, 304, 308, 314, 317, 321, 323,\n",
       "        328, 336, 356, 365, 367, 373, 378, 380, 382, 385, 386, 400, 435,\n",
       "        447, 460, 466]),\n",
       " array([1, 1, 1, 1, 1, 1, 1, 1, 1, 1, 1, 1, 1, 1, 1, 1, 1, 1, 1, 1, 1, 1,\n",
       "        1, 1, 1, 1, 1, 1, 1, 1, 1, 1, 1, 1, 1, 1, 1, 1, 1, 1, 1, 1, 1, 1,\n",
       "        1, 1, 1, 1, 1, 1, 1, 1, 1, 1, 1, 1, 1, 1, 1, 1, 1, 1, 1, 1, 1, 1,\n",
       "        1, 1]))"
      ]
     },
     "execution_count": 8,
     "metadata": {},
     "output_type": "execute_result"
    }
   ],
   "source": [
    "np.unique(sorted(df_dlib['landmark_mpipe'].to_list()), return_counts=True)"
   ]
  },
  {
   "cell_type": "markdown",
   "id": "e9c27625-4e3e-4985-a32a-c06163d40c19",
   "metadata": {},
   "source": [
    "O array abaixo será carregado no arquivo *FacialActionLibras/src/features/mediapipe/image_face_mesh_take.py*, na constante LANDMARK_IDS."
   ]
  },
  {
   "cell_type": "code",
   "execution_count": 9,
   "id": "ac41a841-02eb-4e0f-9330-f6bf4c703ddc",
   "metadata": {},
   "outputs": [
    {
     "data": {
      "text/plain": [
       "array([127, 227, 147, 215, 138, 136, 149, 148, 152, 400, 378, 365, 367,\n",
       "       435, 323, 447, 356,  70,  63,  66, 107,  55, 285, 336, 296, 293,\n",
       "       300, 168, 197,   5,   4,  75,  97,   2, 328, 460, 246, 159, 158,\n",
       "       155, 153, 144, 382, 385, 386, 466, 373, 380,  76,  39,  37,   0,\n",
       "       267, 304, 291, 321, 314,  17,  84, 180,  78,  82,  13, 302, 308,\n",
       "       317,  14,  87])"
      ]
     },
     "execution_count": 9,
     "metadata": {},
     "output_type": "execute_result"
    }
   ],
   "source": [
    "np.array(df_dlib['landmark_mpipe'].to_list())"
   ]
  },
  {
   "cell_type": "code",
   "execution_count": null,
   "id": "5453e797-9dc3-4ecf-9c12-f8c5c76e0207",
   "metadata": {},
   "outputs": [],
   "source": [
    "[127 227 147 215 138 136 149 148 152 400 378 365 367 435 323 447 356  70\n",
    "  63  66 107  55 285 336 296 293 300 168 197   5   4  75  97   2 328 460\n",
    " 246 159 158 155 153 144 382 385 386 466 373 380  76  39  37   0 267 304\n",
    " 291 321 314  17  84 180  78  82  13 302 308 317  14  87]"
   ]
  },
  {
   "cell_type": "code",
   "execution_count": 10,
   "id": "5a60cb8b",
   "metadata": {},
   "outputs": [],
   "source": [
    "df_dlib.to_csv(\n",
    "        \"../../data/examples/lands_mp_match_dlib_682d_ref02\" + str(\".csv\"), sep=\";\"\n",
    "    )"
   ]
  },
  {
   "cell_type": "code",
   "execution_count": 28,
   "id": "cf640e02",
   "metadata": {},
   "outputs": [],
   "source": [
    "\n"
   ]
  },
  {
   "cell_type": "code",
   "execution_count": 54,
   "id": "f84a675a",
   "metadata": {},
   "outputs": [
    {
     "data": {
      "text/plain": [
       "<AxesSubplot:xlabel='x', ylabel='y'>"
      ]
     },
     "execution_count": 54,
     "metadata": {},
     "output_type": "execute_result"
    },
    {
     "data": {
      "image/png": "[encoded data removed]",
      "text/plain": [
       "<Figure size 432x288 with 1 Axes>"
      ]
     },
     "metadata": {
      "needs_background": "light"
     },
     "output_type": "display_data"
    }
   ],
   "source": [
    "df_dlib.plot.scatter(x='x', y='y')"
   ]
  },
  {
   "cell_type": "code",
   "execution_count": 55,
   "id": "a99033a1",
   "metadata": {},
   "outputs": [
    {
     "data": {
      "text/plain": [
       "<AxesSubplot:xlabel='x_mpipe', ylabel='y_mpipe'>"
      ]
     },
     "execution_count": 55,
     "metadata": {},
     "output_type": "execute_result"
    },
    {
     "data": {
      "image/png": "[encoded data removed]",
      "text/plain": [
       "<Figure size 432x288 with 1 Axes>"
      ]
     },
     "metadata": {
      "needs_background": "light"
     },
     "output_type": "display_data"
    }
   ],
   "source": [
    "df_dlib.plot.scatter(x='x_mpipe', y='y_mpipe')"
   ]
  },
  {
   "cell_type": "code",
   "execution_count": 56,
   "id": "412f185d",
   "metadata": {},
   "outputs": [
    {
     "name": "stdout",
     "output_type": "stream",
     "text": [
      "<class 'pandas.core.frame.DataFrame'>\n",
      "Int64Index: 68 entries, 0 to 67\n",
      "Data columns (total 6 columns):\n",
      " #   Column          Non-Null Count  Dtype\n",
      "---  ------          --------------  -----\n",
      " 0   landmark        68 non-null     int64\n",
      " 1   x               68 non-null     int64\n",
      " 2   y               68 non-null     int64\n",
      " 3   landmark_mpipe  68 non-null     int64\n",
      " 4   x_mpipe         68 non-null     int64\n",
      " 5   y_mpipe         68 non-null     int64\n",
      "dtypes: int64(6)\n",
      "memory usage: 3.7 KB\n"
     ]
    }
   ],
   "source": [
    "df_dlib.info()"
   ]
  },
  {
   "cell_type": "markdown",
   "id": "b801247a-65aa-48e7-88c9-677305707874",
   "metadata": {},
   "source": [
    "Detect landmarks via mediapipe\n",
    "filtrar landmarks correspondentes\n",
    "ordenar\n",
    "exportar"
   ]
  },
  {
   "cell_type": "code",
   "execution_count": null,
   "id": "312d6087-3f48-4a8e-936a-6561fdc40ea7",
   "metadata": {},
   "outputs": [],
   "source": []
  }
 ],
 "metadata": {
  "kernelspec": {
   "display_name": "Python 3",
   "language": "python",
   "name": "python3"
  },
  "language_info": {
   "codemirror_mode": {
    "name": "ipython",
    "version": 3
   },
   "file_extension": ".py",
   "mimetype": "text/x-python",
   "name": "python",
   "nbconvert_exporter": "python",
   "pygments_lexer": "ipython3",
   "version": "3.9.0"
  }
 },
 "nbformat": 4,
 "nbformat_minor": 5
}
