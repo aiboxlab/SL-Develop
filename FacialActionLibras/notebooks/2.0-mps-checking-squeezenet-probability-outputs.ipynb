{
 "cells": [
  {
   "cell_type": "markdown",
   "id": "e0695f8e-2211-4ee2-a087-88514fe2143e",
   "metadata": {
    "tags": []
   },
   "source": [
    "### Auxiliary functions"
   ]
  },
  {
   "cell_type": "code",
   "execution_count": 1,
   "id": "2e8066d0-4485-4a8e-9b18-04fe95f4763c",
   "metadata": {},
   "outputs": [],
   "source": [
    "def Text2Array(keys):\n",
    "    array_data = []\n",
    "    \n",
    "    for line in keys:\n",
    "        aux_str = line[2:-2]\n",
    "        aux_str = aux_str.split(\",\")\n",
    "        array_data.append([float(v) for v in aux_str])\n",
    "    \n",
    "    return np.asarray(array_data)"
   ]
  },
  {
   "cell_type": "code",
   "execution_count": 2,
   "id": "b37167ad-6d9d-4ca3-83ab-3ba53d90e2cf",
   "metadata": {},
   "outputs": [],
   "source": [
    "def load_le(path):\n",
    "    res = []\n",
    "    with open(path, \"rb\") as file:\n",
    "        res = pkl.load(file)\n",
    "    return res"
   ]
  },
  {
   "cell_type": "code",
   "execution_count": 3,
   "id": "aee181ed-faf4-4271-804f-f21be4c223e9",
   "metadata": {},
   "outputs": [],
   "source": [
    "def ordered_u(encoded_Y_u):\n",
    "    Y_u = np_utils.to_categorical(encoded_Y_u)\n",
    "    labels_encoded_u = encoder_u.inverse_transform(encoded_Y_u)\n",
    "    labels_ordered_u = np.sort(labels_encoded_u)\n",
    "    labels_ordered_u = np.append(labels_ordered_u, 74)\n",
    "    labels_ordered_u = set(labels_ordered_u)\n",
    "    labels_ordered_u = np.fromiter(\n",
    "        labels_ordered_u, int, len(labels_ordered_u)\n",
    "    )\n",
    "    return labels_ordered_u\n",
    "\n",
    "def ordered_l(encoded_Y_l):\n",
    "    Y_l = np_utils.to_categorical(encoded_Y_l)\n",
    "    num_classes_l = Y_l.shape[1]\n",
    "    labels_encoded_l = encoder_l.inverse_transform(encoded_Y_l)\n",
    "    labels_ordered_l = np.sort(labels_encoded_l)\n",
    "    labels_ordered_l = np.append(labels_ordered_l, 73)\n",
    "    labels_ordered_l = set(labels_ordered_l)\n",
    "    labels_ordered_l = np.fromiter(\n",
    "        labels_ordered_l, int, len(labels_ordered_l)\n",
    "    )\n",
    "    return labels_ordered_l"
   ]
  },
  {
   "cell_type": "code",
   "execution_count": 4,
   "id": "4f997a71-d448-4d22-8c9c-70eb78b06530",
   "metadata": {},
   "outputs": [],
   "source": [
    "def load_y_u():\n",
    "    # logger.info(\"Loading the upper train2 file\")\n",
    "    x_u_train2 = np.load(f\"FacialActionLibras/data/annotations/x_u_train2.npy\")\n",
    "\n",
    "    # logger.info(\"Loading the y_u file\")\n",
    "    y_u = np.load(f\"FacialActionLibras/data/annotations/y_u.npy\")\n",
    "    y_u_train1 = np.load(f\"FacialActionLibras/data/annotations/y_u_corpus.npy\")\n",
    "    y_u_train2 = np.load(f\"FacialActionLibras/data/annotations/y_u_train2.npy\")\n",
    "\n",
    "    # logger.info(\"Making the Y_u\")\n",
    "    Y_u = np.append(\n",
    "        np.append(y_u, y_u_train1),\n",
    "        y_u_train2[: int(x_u_train2.size / (60 * 97 * 1))],\n",
    "    )\n",
    "    return Y_u\n",
    "\n",
    "\n",
    "def load_y_l():\n",
    "    # logger.info(\"Loading the x_l_train2 file\")\n",
    "    x_l_train2 = np.load(f\"FacialActionLibras/data/annotations/x_l_train2.npy\")\n",
    "\n",
    "    # logger.info(\"Loading the y_l_train2 file\")\n",
    "    y_l = np.load(f\"FacialActionLibras/data/annotations/y_l.npy\")\n",
    "    y_l_train1 = np.load(f\"FacialActionLibras/data/annotations/y_l_corpus.npy\")\n",
    "    y_l_train2 = np.load(f\"FacialActionLibras/data/annotations/y_l_train2.npy\")\n",
    "\n",
    "    # logger.info(\"Loading the Y_l file\")\n",
    "    Y_l = np.append(\n",
    "        np.append(y_l, y_l_train1),\n",
    "        y_l_train2[: int(x_l_train2.size / (36 * 98 * 1))],\n",
    "    )\n",
    "    Y_l = np.nan_to_num(Y_l)\n",
    "    return Y_l"
   ]
  },
  {
   "cell_type": "markdown",
   "id": "4889753b-842a-45aa-8a41-1918ab99c902",
   "metadata": {},
   "source": [
    "### Analysis"
   ]
  },
  {
   "cell_type": "code",
   "execution_count": 5,
   "id": "277fe8ee-a0b8-4b6c-aa2e-38e3d0d89ecc",
   "metadata": {},
   "outputs": [],
   "source": [
    "# !pip install pickle5"
   ]
  },
  {
   "cell_type": "code",
   "execution_count": 6,
   "id": "e53c718f-150d-4bb9-bdcf-c2009b8918bf",
   "metadata": {},
   "outputs": [],
   "source": [
    "import numpy as np\n",
    "import pandas as pd\n",
    "import matplotlib.pyplot as plt\n",
    "import pickle5 as pkl\n",
    "from keras.utils import np_utils"
   ]
  },
  {
   "cell_type": "code",
   "execution_count": 8,
   "id": "2bba85ca-4786-450c-907d-a8072eac624b",
   "metadata": {},
   "outputs": [],
   "source": [
    "encoder_l = load_le(\"../models/y_l_encoder.pkl\")\n",
    "encoder_u = load_le(\"../models/y_u_encoder.pkl\")"
   ]
  },
  {
   "cell_type": "code",
   "execution_count": 14,
   "id": "ede24780-21a8-4ca7-b6df-a97317de24e2",
   "metadata": {},
   "outputs": [],
   "source": [
    "upper_classes = [int(v) for v in encoder_u.classes_]\n",
    "lower_classes = [int(v) for v in encoder_l.classes_]"
   ]
  },
  {
   "cell_type": "code",
   "execution_count": 19,
   "id": "e7d17e7e-03b2-44f4-be11-4b9a905cf403",
   "metadata": {},
   "outputs": [
    {
     "name": "stdout",
     "output_type": "stream",
     "text": [
      "[0, 1, 2, 4, 5, 6, 9, 10, 12, 13, 14, 15, 16, 19, 23, 24, 25, 26, 27, 28, 35, 41, 42, 43, 44, 45, 46, 49, 56, 61, 62, 63, 64, 70, 71, 72, 73, 123, 124, 125, 126, 142, 146, 149, 155, 242, 246, 256, 413, 414, 420, 423, 424, 426, 427, 441, 442, 443, 444, 446, 461, 462, 464, 471, 473, 527, 562, 564, 570, 944, 1044, 1210, 1212, 1213, 1214, 1223, 1226, 1227, 1231, 1241, 1242, 1243, 1244, 1246, 1261, 1262, 1263, 1264, 1270, 1271, 1273, 1343, 1344, 1362, 1363, 1442, 1443, 1464, 1928, 1961, 2343, 2842, 2861, 4214, 4243, 4261, 4262, 4361, 4370, 4373, 4944, 6173, 6264, 7071, 12512, 12519, 12527, 41042, 41044, 41244, 41343, 41442, 41443, 41444, 41944, 42364, 42643, 42772, 43543, 43544, 44244, 44262, 44344, 44373, 44446, 44462, 44473, 47071, 57071, 121242, 121243, 121943, 124161, 124162, 124263, 127071, 192842, 192843, 234270, 277071, 427071, 447071, 1257071, 4437071, 4447071, 12427071, 12437071, 444467071]\n",
      "158\n"
     ]
    }
   ],
   "source": [
    "print(upper_classes)\n",
    "print(len(upper_classes))"
   ]
  },
  {
   "cell_type": "code",
   "execution_count": 20,
   "id": "9cf75d37-07a1-4c8a-bc69-3d6d5326b2df",
   "metadata": {},
   "outputs": [
    {
     "name": "stdout",
     "output_type": "stream",
     "text": [
      "[0, 1, 2, 3, 4, 5, 9, 10, 12, 13, 14, 15, 16, 17, 18, 20, 22, 23, 24, 25, 26, 27, 28, 33, 34, 35, 61, 62, 72, 73, 225, 232, 234, 372, 418, 434, 472, 524, 525, 526, 528, 534, 572, 1015, 1016, 1017, 1023, 1025, 1215, 1217, 1220, 1222, 1223, 1224, 1225, 1226, 1228, 1314, 1323, 1325, 1328, 1423, 1425, 1516, 1517, 1518, 1520, 1522, 1523, 1524, 1525, 1526, 1528, 1572, 1617, 1620, 1623, 1625, 1626, 1670, 1720, 1723, 1724, 1725, 1726, 1734, 1772, 1822, 1825, 1826, 1834, 1872, 1873, 1922, 1925, 1928, 2024, 2025, 2026, 2027, 2117, 2223, 2225, 2226, 2324, 2325, 2326, 2334, 2370, 2371, 2372, 2373, 2426, 2428, 2470, 2472, 2516, 2525, 2526, 2527, 2528, 2531, 2532, 2562, 2570, 2572, 2628, 2633, 2662, 2825, 2832, 2872, 2873, 3462, 3472, 3473, 5526, 6172, 11025, 11625, 18222, 21726, 22254, 22526, 51225, 51525, 51925, 52225, 52526, 52527, 101225, 101625, 102225, 102526, 102527, 102572, 121517, 121625, 121720, 121725, 121925, 122025, 122225, 122526, 122527, 122528, 122541, 122572, 122573, 122872, 131625, 131925, 132526, 142526, 151617, 151620, 151625, 151720, 151722, 151723, 151724, 151725, 151726, 151728, 151762, 151771, 151925, 152025, 152026, 152225, 152526, 152825, 161725, 162025, 162225, 162325, 162525, 162526, 162572, 172025, 172026, 172225, 172428, 172526, 182225, 182226, 182526, 187071, 192225, 192526, 192527, 192528, 201517, 202426, 202526, 202527, 202532, 222325, 222526, 222527, 222561, 222572, 222573, 232425, 232634, 237071, 242526, 252628, 252672, 252673, 252728, 252772, 252773, 347071, 1517526, 1822256, 5151625, 5192526, 5222526, 10121625, 10151725, 10162526, 10162572, 10192526, 12162572, 12172026, 12172526, 12202526, 12222526, 15161725, 15162025, 15162526, 15162570, 15162572, 15171925, 15172025, 15172026, 15172526, 15182225, 15192526, 15202526, 15222572, 15232526, 16192526, 16202526, 16222526, 17202526, 17202527, 17202528, 17202529, 17202530, 17202531, 17202532, 17202533, 17202534, 17202535, 17202536, 18202526, 18222526, 18222572, 18222573, 19202527, 19222526, 19252628, 19252672, 20151720, 20151771, 20222526, 22252672, 22252673, 22257071, 25262873, 25267071, 25277071, 26202526, 1012162572, 1016192526, 1217202526, 1516172026, 1516192526, 1517202526, 1822257071]\n",
      "302\n"
     ]
    }
   ],
   "source": [
    "print(lower_classes)\n",
    "print(len(lower_classes))"
   ]
  },
  {
   "cell_type": "code",
   "execution_count": 8,
   "id": "3793c2aa-a6d3-4943-b25a-9a78c9289cd7",
   "metadata": {},
   "outputs": [],
   "source": [
    "path = '../data/outputs/hm_libras_sample/predicts_squeezenet/probabilities/predicts-hm_libras_sample-02052022_095657-0h0m30s-dlib_crop_True_factor_115.csv'\n",
    "data = pd.read_csv(path, sep=';', index_col=0)"
   ]
  },
  {
   "cell_type": "code",
   "execution_count": 9,
   "id": "cf0392d2-2a08-4080-8f4b-a9cf4c69f179",
   "metadata": {},
   "outputs": [
    {
     "data": {
      "text/html": [
       "<div>\n",
       "<style scoped>\n",
       "    .dataframe tbody tr th:only-of-type {\n",
       "        vertical-align: middle;\n",
       "    }\n",
       "\n",
       "    .dataframe tbody tr th {\n",
       "        vertical-align: top;\n",
       "    }\n",
       "\n",
       "    .dataframe thead th {\n",
       "        text-align: right;\n",
       "    }\n",
       "</style>\n",
       "<table border=\"1\" class=\"dataframe\">\n",
       "  <thead>\n",
       "    <tr style=\"text-align: right;\">\n",
       "      <th></th>\n",
       "      <th>video_name</th>\n",
       "      <th>end</th>\n",
       "      <th>frame</th>\n",
       "      <th>start</th>\n",
       "      <th>up_prob</th>\n",
       "      <th>low_prob</th>\n",
       "    </tr>\n",
       "  </thead>\n",
       "  <tbody>\n",
       "    <tr>\n",
       "      <th>130</th>\n",
       "      <td>S05TF04V01</td>\n",
       "      <td>4.371</td>\n",
       "      <td>131</td>\n",
       "      <td>4.338</td>\n",
       "      <td>[[0.625943660736084, 0.007149229757487774, 0.0...</td>\n",
       "      <td>[[0.0002657814766280353, 2.0181374793537543e-0...</td>\n",
       "    </tr>\n",
       "    <tr>\n",
       "      <th>131</th>\n",
       "      <td>S05TF04V01</td>\n",
       "      <td>4.404</td>\n",
       "      <td>132</td>\n",
       "      <td>4.371</td>\n",
       "      <td>[[0.4879344403743744, 0.008491292595863342, 0....</td>\n",
       "      <td>[[0.000650075962767005, 4.0788529531710083e-07...</td>\n",
       "    </tr>\n",
       "    <tr>\n",
       "      <th>132</th>\n",
       "      <td>S05TF04V01</td>\n",
       "      <td>4.438</td>\n",
       "      <td>133</td>\n",
       "      <td>4.404</td>\n",
       "      <td>[[0.4960860013961792, 0.007617947179824114, 0....</td>\n",
       "      <td>[[0.0007148667937144637, 4.550174992346001e-07...</td>\n",
       "    </tr>\n",
       "    <tr>\n",
       "      <th>133</th>\n",
       "      <td>S05TF04V01</td>\n",
       "      <td>4.471</td>\n",
       "      <td>134</td>\n",
       "      <td>4.438</td>\n",
       "      <td>[[0.5798447132110596, 0.008852003142237663, 0....</td>\n",
       "      <td>[[0.0009014260722324252, 3.354311672865151e-07...</td>\n",
       "    </tr>\n",
       "    <tr>\n",
       "      <th>134</th>\n",
       "      <td>S05TF04V01</td>\n",
       "      <td>4.504</td>\n",
       "      <td>135</td>\n",
       "      <td>4.471</td>\n",
       "      <td>[[0.6143555641174316, 0.009920109994709492, 0....</td>\n",
       "      <td>[[0.00460362434387207, 4.8225433602056e-07, 5....</td>\n",
       "    </tr>\n",
       "  </tbody>\n",
       "</table>\n",
       "</div>"
      ],
      "text/plain": [
       "     video_name    end  frame  start  \\\n",
       "130  S05TF04V01  4.371    131  4.338   \n",
       "131  S05TF04V01  4.404    132  4.371   \n",
       "132  S05TF04V01  4.438    133  4.404   \n",
       "133  S05TF04V01  4.471    134  4.438   \n",
       "134  S05TF04V01  4.504    135  4.471   \n",
       "\n",
       "                                               up_prob  \\\n",
       "130  [[0.625943660736084, 0.007149229757487774, 0.0...   \n",
       "131  [[0.4879344403743744, 0.008491292595863342, 0....   \n",
       "132  [[0.4960860013961792, 0.007617947179824114, 0....   \n",
       "133  [[0.5798447132110596, 0.008852003142237663, 0....   \n",
       "134  [[0.6143555641174316, 0.009920109994709492, 0....   \n",
       "\n",
       "                                              low_prob  \n",
       "130  [[0.0002657814766280353, 2.0181374793537543e-0...  \n",
       "131  [[0.000650075962767005, 4.0788529531710083e-07...  \n",
       "132  [[0.0007148667937144637, 4.550174992346001e-07...  \n",
       "133  [[0.0009014260722324252, 3.354311672865151e-07...  \n",
       "134  [[0.00460362434387207, 4.8225433602056e-07, 5....  "
      ]
     },
     "execution_count": 9,
     "metadata": {},
     "output_type": "execute_result"
    }
   ],
   "source": [
    "data.tail()"
   ]
  },
  {
   "cell_type": "code",
   "execution_count": 10,
   "id": "50996ed2-3042-42a2-bb35-72bd2ca40220",
   "metadata": {},
   "outputs": [],
   "source": [
    "up_str = data['up_prob'].values\n",
    "low_str = data['low_prob'].values\n",
    "\n",
    "up_float = Text2Array(up_str)\n",
    "low_float = Text2Array(low_str)"
   ]
  },
  {
   "cell_type": "code",
   "execution_count": 11,
   "id": "06b1d995-1840-4e4a-bb3a-3cf87fb42d6d",
   "metadata": {},
   "outputs": [
    {
     "data": {
      "text/plain": [
       "((135, 178), (135, 314))"
      ]
     },
     "execution_count": 11,
     "metadata": {},
     "output_type": "execute_result"
    }
   ],
   "source": [
    "up_float.shape, low_float.shape"
   ]
  },
  {
   "cell_type": "code",
   "execution_count": 12,
   "id": "ef136a12-a911-4fad-abf1-47cc09267c02",
   "metadata": {},
   "outputs": [
    {
     "data": {
      "text/plain": [
       "'[[0.002933440264314413, 2.1128350624621817e-07, 1.0372272072345368e-06, 7.2982406891242135e-06, 0.00043215681216679513, 4.576168976200279e-06, 1.5426580546318291e-07, 1.3198967963035102e-07, 0.0001216156524606049, 0.00038954344927333295, 3.428824129514396e-06, 0.00011275113502051681, 1.302774649047933e-06, 0.20006299018859863, 0.0014642267487943172, 2.342425250390079e-05, 0.0001998068910324946, 0.004156154580414295, 3.6120556615060195e-05, 0.0001884207595139742, 3.2798793654365e-06, 0.00492151128128171, 6.918793224031106e-05, 2.9419386464724084e-06, 0.0008507125312462449, 0.0001888629631139338, 6.826900378342771e-09, 1.0350164302508347e-05, 0.0013680203119292855, 5.010358654544689e-05, 1.7738394717525807e-06, 2.42521468862833e-06, 2.9299812354111054e-07, 4.557321631182276e-07, 6.341485914163059e-08, 5.629027555187349e-07, 2.4549507315896335e-07, 1.0119334348246412e-07, 5.3968960855854675e-06, 1.4050068784854375e-05, 3.2596230994386133e-06, 4.34966386819724e-05, 5.185795089346357e-06, 2'"
      ]
     },
     "execution_count": 12,
     "metadata": {},
     "output_type": "execute_result"
    }
   ],
   "source": [
    "low_str[0][:1000]"
   ]
  },
  {
   "cell_type": "code",
   "execution_count": 13,
   "id": "b38467d2-a196-4035-9832-6f457f2cfff4",
   "metadata": {},
   "outputs": [
    {
     "data": {
      "text/plain": [
       "array([2.93344026e-03, 2.11283506e-07, 1.03722721e-06, 7.29824069e-06,\n",
       "       4.32156812e-04])"
      ]
     },
     "execution_count": 13,
     "metadata": {},
     "output_type": "execute_result"
    }
   ],
   "source": [
    "low_float[0][:5]"
   ]
  },
  {
   "cell_type": "code",
   "execution_count": 14,
   "id": "decd832d-9e01-4ffa-a6ff-c2f5c8bac94f",
   "metadata": {},
   "outputs": [],
   "source": [
    "up_indexes = np.argmax(up_float, axis=1)\n",
    "low_indexes = np.argmax(low_float, axis=1)"
   ]
  },
  {
   "cell_type": "code",
   "execution_count": 15,
   "id": "02bd9909-3b67-4963-81fd-cb9c64c5f362",
   "metadata": {},
   "outputs": [],
   "source": [
    "up_classes = [encoder_u.inverse_transform(np.asarray([pos])) for pos in up_indexes]\n",
    "low_classes = [encoder_l.inverse_transform(np.asarray([pos])) for pos in low_indexes]"
   ]
  },
  {
   "cell_type": "code",
   "execution_count": 16,
   "id": "15be9564-38fa-4d31-9018-8667c2354a84",
   "metadata": {},
   "outputs": [],
   "source": [
    "up_classes = np.concatenate(up_classes)\n",
    "low_classes = np.concatenate(low_classes)"
   ]
  },
  {
   "cell_type": "code",
   "execution_count": 17,
   "id": "622a5ae5-2815-4033-a438-4065af25008e",
   "metadata": {},
   "outputs": [
    {
     "data": {
      "text/plain": [
       "((135,), (135,))"
      ]
     },
     "execution_count": 17,
     "metadata": {},
     "output_type": "execute_result"
    }
   ],
   "source": [
    "up_classes.shape, low_classes.shape"
   ]
  },
  {
   "cell_type": "code",
   "execution_count": 18,
   "id": "2ff2f71d-783b-432b-88b8-63bd83e89a8f",
   "metadata": {},
   "outputs": [
    {
     "name": "stdout",
     "output_type": "stream",
     "text": [
      "0.0 1017.0\n",
      "0.0 1017.0\n",
      "0.0 1017.0\n",
      "0.0 1017.0\n",
      "0.0 1017.0\n",
      "0.0 1017.0\n",
      "0.0 1017.0\n",
      "0.0 1017.0\n",
      "0.0 1017.0\n",
      "0.0 17.0\n",
      "0.0 1017.0\n",
      "0.0 1017.0\n",
      "0.0 17.0\n",
      "0.0 151724.0\n",
      "0.0 0.0\n",
      "0.0 1017.0\n",
      "0.0 1017.0\n",
      "0.0 1017.0\n",
      "0.0 17.0\n",
      "0.0 17.0\n",
      "0.0 17.0\n",
      "0.0 17.0\n",
      "0.0 17.0\n",
      "0.0 17.0\n",
      "0.0 1518.0\n",
      "0.0 17.0\n",
      "0.0 17.0\n",
      "0.0 17.0\n",
      "0.0 1017.0\n",
      "0.0 17.0\n",
      "0.0 1017.0\n",
      "0.0 1017.0\n",
      "0.0 1017.0\n",
      "0.0 1017.0\n",
      "0.0 1017.0\n",
      "0.0 1518.0\n",
      "0.0 1518.0\n",
      "0.0 1017.0\n",
      "0.0 1017.0\n",
      "0.0 17.0\n",
      "0.0 1017.0\n",
      "0.0 17.0\n",
      "0.0 1518.0\n",
      "0.0 17.0\n",
      "0.0 17.0\n",
      "0.0 17.0\n",
      "0.0 17.0\n",
      "0.0 17.0\n",
      "0.0 17.0\n",
      "0.0 17.0\n",
      "0.0 1017.0\n",
      "0.0 151724.0\n",
      "0.0 1017.0\n",
      "0.0 1017.0\n",
      "0.0 17.0\n",
      "0.0 17.0\n",
      "0.0 1017.0\n",
      "0.0 1017.0\n",
      "0.0 17.0\n",
      "0.0 1518.0\n",
      "0.0 17.0\n",
      "0.0 17.0\n",
      "0.0 17.0\n",
      "0.0 1017.0\n",
      "0.0 17.0\n",
      "0.0 17.0\n",
      "0.0 17.0\n",
      "0.0 17.0\n",
      "0.0 1017.0\n",
      "0.0 1017.0\n",
      "0.0 1017.0\n",
      "0.0 1017.0\n",
      "0.0 17.0\n",
      "0.0 1017.0\n",
      "0.0 1017.0\n",
      "0.0 1017.0\n",
      "0.0 17.0\n",
      "0.0 17.0\n",
      "0.0 17.0\n",
      "0.0 17.0\n",
      "0.0 17.0\n",
      "0.0 151724.0\n",
      "0.0 1017.0\n",
      "0.0 1017.0\n",
      "0.0 1017.0\n",
      "0.0 1017.0\n",
      "0.0 1017.0\n",
      "0.0 1017.0\n",
      "0.0 17.0\n",
      "0.0 17.0\n",
      "0.0 17.0\n",
      "0.0 17.0\n",
      "0.0 1017.0\n",
      "0.0 17.0\n",
      "0.0 17.0\n",
      "0.0 17.0\n",
      "0.0 17.0\n",
      "0.0 1017.0\n",
      "0.0 17.0\n",
      "0.0 17.0\n",
      "0.0 17.0\n",
      "0.0 1518.0\n",
      "0.0 1017.0\n",
      "0.0 1017.0\n",
      "0.0 1017.0\n",
      "0.0 1017.0\n",
      "0.0 1017.0\n",
      "0.0 1017.0\n",
      "0.0 1017.0\n",
      "0.0 17.0\n",
      "0.0 17.0\n",
      "0.0 17.0\n",
      "0.0 17.0\n",
      "0.0 17.0\n",
      "0.0 1017.0\n",
      "0.0 1017.0\n",
      "0.0 1017.0\n",
      "0.0 1017.0\n",
      "0.0 1017.0\n",
      "0.0 1017.0\n",
      "0.0 1017.0\n",
      "0.0 1017.0\n",
      "0.0 1017.0\n",
      "0.0 1017.0\n",
      "0.0 1017.0\n",
      "0.0 1017.0\n",
      "0.0 1017.0\n",
      "0.0 17.0\n",
      "0.0 17.0\n",
      "0.0 17.0\n",
      "0.0 17.0\n",
      "0.0 1518.0\n",
      "0.0 17.0\n",
      "0.0 1518.0\n",
      "0.0 1518.0\n"
     ]
    }
   ],
   "source": [
    "for n, v in enumerate(zip(up_classes, low_classes)):\n",
    "    u = v[0]\n",
    "    l = v[1]\n",
    "    print(u,l)"
   ]
  },
  {
   "cell_type": "code",
   "execution_count": 19,
   "id": "505b876b-3295-409c-9c0c-47d2149f0005",
   "metadata": {},
   "outputs": [
    {
     "name": "stdout",
     "output_type": "stream",
     "text": [
      "[0, 1, 2, 3, 4, 5, 9, 10, 12, 13, 14, 15, 16, 17, 18, 20, 22, 23, 24, 25, 26, 27, 28, 33, 34, 35, 61, 62, 72, 73, 225, 232, 234, 372, 418, 434, 472, 524, 525, 526, 528, 534, 572, 1015, 1016, 1017, 1023, 1025, 1215, 1217, 1220, 1222, 1223, 1224, 1225, 1226, 1228, 1314, 1323, 1325, 1328, 1423, 1425, 1516, 1517, 1518, 1520, 1522, 1523, 1524, 1525, 1526, 1528, 1572, 1617, 1620, 1623, 1625, 1626, 1670, 1720, 1723, 1724, 1725, 1726, 1734, 1772, 1822, 1825, 1826, 1834, 1872, 1873, 1922, 1925, 1928, 2024, 2025, 2026, 2027, 2117, 2223, 2225, 2226, 2324, 2325, 2326, 2334, 2370, 2371, 2372, 2373, 2426, 2428, 2470, 2472, 2516, 2525, 2526, 2527, 2528, 2531, 2532, 2562, 2570, 2572, 2628, 2633, 2662, 2825, 2832, 2872, 2873, 3462, 3472, 3473, 5526, 6172, 11025, 11625, 18222, 21726, 22254, 22526, 51225, 51525, 51925, 52225, 52526, 52527, 101225, 101625, 102225, 102526, 102527, 102572, 121517, 121625, 121720, 121725, 121925, 122025, 122225, 122526, 122527, 122528, 122541, 122572, 122573, 122872, 131625, 131925, 132526, 142526, 151617, 151620, 151625, 151720, 151722, 151723, 151724, 151725, 151726, 151728, 151762, 151771, 151925, 152025, 152026, 152225, 152526, 152825, 161725, 162025, 162225, 162325, 162525, 162526, 162572, 172025, 172026, 172225, 172428, 172526, 182225, 182226, 182526, 187071, 192225, 192526, 192527, 192528, 201517, 202426, 202526, 202527, 202532, 222325, 222526, 222527, 222561, 222572, 222573, 232425, 232634, 237071, 242526, 252628, 252672, 252673, 252728, 252772, 252773, 347071, 1517526, 1822256, 5151625, 5192526, 5222526, 10121625, 10151725, 10162526, 10162572, 10192526, 12162572, 12172026, 12172526, 12202526, 12222526, 15161725, 15162025, 15162526, 15162570, 15162572, 15171925, 15172025, 15172026, 15172526, 15182225, 15192526, 15202526, 15222572, 15232526, 16192526, 16202526, 16222526, 17202526, 17202527, 17202528, 17202529, 17202530, 17202531, 17202532, 17202533, 17202534, 17202535, 17202536, 18202526, 18222526, 18222572, 18222573, 19202527, 19222526, 19252628, 19252672, 20151720, 20151771, 20222526, 22252672, 22252673, 22257071, 25262873, 25267071, 25277071, 26202526, 1012162572, 1016192526, 1217202526, 1516172026, 1516192526, 1517202526, 1822257071]\n"
     ]
    }
   ],
   "source": [
    "e_classes = [int(c) for c in encoder_l.classes_]\n",
    "print(e_classes)"
   ]
  },
  {
   "cell_type": "code",
   "execution_count": null,
   "id": "b0fbb8f4-1625-4df5-906a-4090ed879fde",
   "metadata": {},
   "outputs": [],
   "source": []
  }
 ],
 "metadata": {
  "kernelspec": {
   "display_name": "Python 3",
   "language": "python",
   "name": "python3"
  },
  "language_info": {
   "codemirror_mode": {
    "name": "ipython",
    "version": 3
   },
   "file_extension": ".py",
   "mimetype": "text/x-python",
   "name": "python",
   "nbconvert_exporter": "python",
   "pygments_lexer": "ipython3",
   "version": "3.9.0"
  }
 },
 "nbformat": 4,
 "nbformat_minor": 5
}
