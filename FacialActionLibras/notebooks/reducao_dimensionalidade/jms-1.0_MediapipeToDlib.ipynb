{
 "cells": [
  {
   "cell_type": "code",
   "execution_count": 1,
   "id": "593ecb3a",
   "metadata": {},
   "outputs": [],
   "source": [
    "import os\n",
    "import glob\n",
    "import pandas as pd\n",
    "import seaborn as sns\n",
    "import numpy as np\n",
    "import matplotlib.pyplot as plt\n",
    "import mediapy as media\n",
    "import cv2\n",
    "from scipy import stats\n",
    "#import pdb"
   ]
  },
  {
   "cell_type": "code",
   "execution_count": 27,
   "id": "9e10ca41",
   "metadata": {},
   "outputs": [],
   "source": [
    "def get_name_video(string):\n",
    "    new_name = string.split('/')[-1]\n",
    "    return new_name\n",
    "\n",
    "def get_files(path, extrator, aug, extension):\n",
    "    \"\"\"\n",
    "    Descrição: Recebe um path e lista todos os arquivos e seta o extrator + tipo de augmentation\n",
    "    Retorna um dataframe com todos os files concatenados de um determinado path\n",
    "    \"\"\"\n",
    "    all_filenames = []\n",
    "    df = pd.DataFrame()\n",
    "    df_interno = pd.DataFrame()\n",
    "   \n",
    "\n",
    "    if(aug == 'original'):\n",
    "        all_filenames = [i for i in glob.glob(path+'*.{}'.format(extension))]\n",
    "    else:\n",
    "        all_filenames = [i for i in glob.glob(path+aug+'/'+'*.{}'.format(extension))]\n",
    "        \n",
    "    if(len(all_filenames) > 0):\n",
    "        \n",
    "        for f in all_filenames:    \n",
    "            df_interno = pd.read_csv(f, sep=\";\", index_col=None)\n",
    "            if(' video_name' in df_interno.columns):\n",
    "                df_interno.rename(columns={' video_name':'video_name'}, inplace=True)\n",
    "\n",
    "            df = pd.concat([df, df_interno], axis=0)\n",
    "\n",
    "        #df = pd.concat([pd.read_csv(f, sep=\";\", index_col=None) for f in all_filenames ])\n",
    "        df['extractor'] = extrator\n",
    "        df['aug'] = aug\n",
    "        #print(df['video_name'])\n",
    "        \n",
    "\n",
    "        df['video_name'] = df.apply(lambda row : get_name_video(row['video_name']), axis = 1)\n",
    "        df['video_name'] = df['video_name'].str.split('.', expand=True)[0]\n",
    "        df['class'] = df['video_name'].str.split('-', expand=True)[2]\n",
    "        \n",
    "        \n",
    "        \n",
    "        return df[['frame', 'video_name', 'keys', 'extractor', 'aug', 'class']]\n",
    "        \n",
    "    \n",
    "\n",
    "\n",
    "\n",
    "def join_files(paths, aug, extension='csv'):\n",
    "    \n",
    "    \"\"\"\n",
    "    Descrição: Recebe um dict dos paths de cada base submetida por cada extrator\n",
    "    Retorna o dataframe combinado\n",
    "    \"\"\"\n",
    "    \n",
    "    df_combined = pd.DataFrame()\n",
    "    \n",
    "    if(aug=='original'):\n",
    "\n",
    "        for key, value in paths.items():\n",
    "            print(key, value)\n",
    "            df = get_files(value, key, aug, extension)\n",
    "            df_combined = pd.concat([df_combined, df], axis=0)\n",
    "    \n",
    "    elif(aug=='aug'):\n",
    "        \n",
    "        for key, value in paths.items():\n",
    "            print(key, value)\n",
    "            for aug in os.listdir(paths[key]):\n",
    "                print(aug)\n",
    "                df = get_files(value, key, aug, extension='csv')\n",
    "                df_combined = pd.concat([df_combined, df], axis=0)\n",
    "        \n",
    "        \n",
    "    return df_combined\n"
   ]
  },
  {
   "cell_type": "code",
   "execution_count": 28,
   "id": "c73e6587",
   "metadata": {},
   "outputs": [
    {
     "name": "stdout",
     "output_type": "stream",
     "text": [
      "dlib ../../data/processed/ReducaoDimensionalidade/Base-Tamires-dlib/\n",
      "mediapipe ../../data/processed/ReducaoDimensionalidade/Base-Tamires-mediapipe/\n"
     ]
    },
    {
     "data": {
      "text/plain": [
       "(15266, 6)"
      ]
     },
     "execution_count": 28,
     "metadata": {},
     "output_type": "execute_result"
    }
   ],
   "source": [
    "#Original\n",
    "inputs_orig = {\n",
    "    'dlib': '../../data/processed/ReducaoDimensionalidade/Base-Tamires-dlib/',\n",
    "    'mediapipe': '../../data/processed/ReducaoDimensionalidade/Base-Tamires-mediapipe/'\n",
    "}\n",
    "\n",
    "df_combined_orig = join_files(inputs_orig, aug='original', extension='csv')\n",
    "df_combined_orig.shape"
   ]
  },
  {
   "cell_type": "code",
   "execution_count": 29,
   "id": "b7cdff18",
   "metadata": {},
   "outputs": [
    {
     "data": {
      "text/html": [
       "<div>\n",
       "<style scoped>\n",
       "    .dataframe tbody tr th:only-of-type {\n",
       "        vertical-align: middle;\n",
       "    }\n",
       "\n",
       "    .dataframe tbody tr th {\n",
       "        vertical-align: top;\n",
       "    }\n",
       "\n",
       "    .dataframe thead th {\n",
       "        text-align: right;\n",
       "    }\n",
       "</style>\n",
       "<table border=\"1\" class=\"dataframe\">\n",
       "  <thead>\n",
       "    <tr style=\"text-align: right;\">\n",
       "      <th></th>\n",
       "      <th>frame</th>\n",
       "      <th>video_name</th>\n",
       "      <th>keys</th>\n",
       "      <th>extractor</th>\n",
       "      <th>aug</th>\n",
       "      <th>class</th>\n",
       "    </tr>\n",
       "  </thead>\n",
       "  <tbody>\n",
       "    <tr>\n",
       "      <th>0</th>\n",
       "      <td>1</td>\n",
       "      <td>RostoIntensidade-08Oitava-Apaixonado</td>\n",
       "      <td>[[26, 78], [27, 88], [29, 98], [31, 108], [35,...</td>\n",
       "      <td>dlib</td>\n",
       "      <td>original</td>\n",
       "      <td>Apaixonado</td>\n",
       "    </tr>\n",
       "    <tr>\n",
       "      <th>1</th>\n",
       "      <td>2</td>\n",
       "      <td>RostoIntensidade-08Oitava-Apaixonado</td>\n",
       "      <td>[[26, 76], [27, 86], [28, 96], [31, 106], [35,...</td>\n",
       "      <td>dlib</td>\n",
       "      <td>original</td>\n",
       "      <td>Apaixonado</td>\n",
       "    </tr>\n",
       "    <tr>\n",
       "      <th>2</th>\n",
       "      <td>3</td>\n",
       "      <td>RostoIntensidade-08Oitava-Apaixonado</td>\n",
       "      <td>[[26, 78], [27, 88], [29, 98], [32, 108], [35,...</td>\n",
       "      <td>dlib</td>\n",
       "      <td>original</td>\n",
       "      <td>Apaixonado</td>\n",
       "    </tr>\n",
       "    <tr>\n",
       "      <th>3</th>\n",
       "      <td>4</td>\n",
       "      <td>RostoIntensidade-08Oitava-Apaixonado</td>\n",
       "      <td>[[26, 77], [27, 87], [29, 97], [31, 107], [35,...</td>\n",
       "      <td>dlib</td>\n",
       "      <td>original</td>\n",
       "      <td>Apaixonado</td>\n",
       "    </tr>\n",
       "    <tr>\n",
       "      <th>4</th>\n",
       "      <td>5</td>\n",
       "      <td>RostoIntensidade-08Oitava-Apaixonado</td>\n",
       "      <td>[[26, 76], [27, 86], [29, 96], [31, 105], [34,...</td>\n",
       "      <td>dlib</td>\n",
       "      <td>original</td>\n",
       "      <td>Apaixonado</td>\n",
       "    </tr>\n",
       "    <tr>\n",
       "      <th>...</th>\n",
       "      <td>...</td>\n",
       "      <td>...</td>\n",
       "      <td>...</td>\n",
       "      <td>...</td>\n",
       "      <td>...</td>\n",
       "      <td>...</td>\n",
       "    </tr>\n",
       "    <tr>\n",
       "      <th>62</th>\n",
       "      <td>63</td>\n",
       "      <td>RostoIntensidade-05Quinta-Surpresa</td>\n",
       "      <td>[[0.4913488030433655, 0.6416061520576477, -0.0...</td>\n",
       "      <td>mediapipe</td>\n",
       "      <td>original</td>\n",
       "      <td>Surpresa</td>\n",
       "    </tr>\n",
       "    <tr>\n",
       "      <th>63</th>\n",
       "      <td>64</td>\n",
       "      <td>RostoIntensidade-05Quinta-Surpresa</td>\n",
       "      <td>[[0.4897609353065491, 0.648978054523468, -0.08...</td>\n",
       "      <td>mediapipe</td>\n",
       "      <td>original</td>\n",
       "      <td>Surpresa</td>\n",
       "    </tr>\n",
       "    <tr>\n",
       "      <th>64</th>\n",
       "      <td>65</td>\n",
       "      <td>RostoIntensidade-05Quinta-Surpresa</td>\n",
       "      <td>[[0.4897198975086212, 0.6551631093025208, -0.0...</td>\n",
       "      <td>mediapipe</td>\n",
       "      <td>original</td>\n",
       "      <td>Surpresa</td>\n",
       "    </tr>\n",
       "    <tr>\n",
       "      <th>65</th>\n",
       "      <td>66</td>\n",
       "      <td>RostoIntensidade-05Quinta-Surpresa</td>\n",
       "      <td>[[0.49190855026245117, 0.6634485721588135, -0....</td>\n",
       "      <td>mediapipe</td>\n",
       "      <td>original</td>\n",
       "      <td>Surpresa</td>\n",
       "    </tr>\n",
       "    <tr>\n",
       "      <th>66</th>\n",
       "      <td>67</td>\n",
       "      <td>RostoIntensidade-05Quinta-Surpresa</td>\n",
       "      <td>[[0.4905622899532318, 0.668410062789917, -0.07...</td>\n",
       "      <td>mediapipe</td>\n",
       "      <td>original</td>\n",
       "      <td>Surpresa</td>\n",
       "    </tr>\n",
       "  </tbody>\n",
       "</table>\n",
       "<p>15266 rows × 6 columns</p>\n",
       "</div>"
      ],
      "text/plain": [
       "    frame                            video_name  \\\n",
       "0       1  RostoIntensidade-08Oitava-Apaixonado   \n",
       "1       2  RostoIntensidade-08Oitava-Apaixonado   \n",
       "2       3  RostoIntensidade-08Oitava-Apaixonado   \n",
       "3       4  RostoIntensidade-08Oitava-Apaixonado   \n",
       "4       5  RostoIntensidade-08Oitava-Apaixonado   \n",
       "..    ...                                   ...   \n",
       "62     63    RostoIntensidade-05Quinta-Surpresa   \n",
       "63     64    RostoIntensidade-05Quinta-Surpresa   \n",
       "64     65    RostoIntensidade-05Quinta-Surpresa   \n",
       "65     66    RostoIntensidade-05Quinta-Surpresa   \n",
       "66     67    RostoIntensidade-05Quinta-Surpresa   \n",
       "\n",
       "                                                 keys  extractor       aug  \\\n",
       "0   [[26, 78], [27, 88], [29, 98], [31, 108], [35,...       dlib  original   \n",
       "1   [[26, 76], [27, 86], [28, 96], [31, 106], [35,...       dlib  original   \n",
       "2   [[26, 78], [27, 88], [29, 98], [32, 108], [35,...       dlib  original   \n",
       "3   [[26, 77], [27, 87], [29, 97], [31, 107], [35,...       dlib  original   \n",
       "4   [[26, 76], [27, 86], [29, 96], [31, 105], [34,...       dlib  original   \n",
       "..                                                ...        ...       ...   \n",
       "62  [[0.4913488030433655, 0.6416061520576477, -0.0...  mediapipe  original   \n",
       "63  [[0.4897609353065491, 0.648978054523468, -0.08...  mediapipe  original   \n",
       "64  [[0.4897198975086212, 0.6551631093025208, -0.0...  mediapipe  original   \n",
       "65  [[0.49190855026245117, 0.6634485721588135, -0....  mediapipe  original   \n",
       "66  [[0.4905622899532318, 0.668410062789917, -0.07...  mediapipe  original   \n",
       "\n",
       "         class  \n",
       "0   Apaixonado  \n",
       "1   Apaixonado  \n",
       "2   Apaixonado  \n",
       "3   Apaixonado  \n",
       "4   Apaixonado  \n",
       "..         ...  \n",
       "62    Surpresa  \n",
       "63    Surpresa  \n",
       "64    Surpresa  \n",
       "65    Surpresa  \n",
       "66    Surpresa  \n",
       "\n",
       "[15266 rows x 6 columns]"
      ]
     },
     "execution_count": 29,
     "metadata": {},
     "output_type": "execute_result"
    }
   ],
   "source": [
    "df_combined_orig"
   ]
  },
  {
   "cell_type": "code",
   "execution_count": 40,
   "id": "d0d9d43f",
   "metadata": {},
   "outputs": [
    {
     "data": {
      "text/plain": [
       "frame          int64\n",
       "video_name    object\n",
       "keys          object\n",
       "extractor     object\n",
       "aug           object\n",
       "class         object\n",
       "dtype: object"
      ]
     },
     "execution_count": 40,
     "metadata": {},
     "output_type": "execute_result"
    }
   ],
   "source": [
    "df_combined_orig.dtypes"
   ]
  },
  {
   "cell_type": "code",
   "execution_count": 69,
   "id": "b90ef6c9",
   "metadata": {},
   "outputs": [
    {
     "data": {
      "text/plain": [
       "array([['[[26, 78], [27, 88], [29, 98], [31, 108], [35, 117], [41, 127], [49, 134], [58, 138], [69, 138], [79, 136], [88, 131], [95, 124], [99, 115], [102, 105], [103, 96], [104, 86], [104, 77], [32, 67], [37, 60], [45, 57], [53, 58], [61, 61], [71, 62], [78, 59], [87, 59], [94, 62], [98, 68], [66, 69], [67, 75], [67, 80], [67, 86], [60, 96], [63, 96], [67, 97], [71, 96], [74, 95], [40, 74], [45, 72], [50, 71], [55, 73], [50, 75], [45, 75], [76, 74], [81, 72], [86, 72], [91, 74], [86, 75], [81, 75], [50, 110], [57, 106], [63, 104], [68, 105], [72, 104], [78, 106], [84, 109], [78, 112], [73, 114], [68, 114], [63, 114], [57, 113], [53, 110], [63, 109], [68, 109], [72, 108], [82, 109], [72, 109], [68, 109], [62, 109]]']],\n",
       "      dtype=object)"
      ]
     },
     "execution_count": 69,
     "metadata": {},
     "output_type": "execute_result"
    }
   ],
   "source": [
    "lista = df_combined_orig.head(1)[['keys']].to_numpy()\n",
    "np.array(lista[[0]])"
   ]
  },
  {
   "cell_type": "code",
   "execution_count": 53,
   "id": "81d95642",
   "metadata": {},
   "outputs": [
    {
     "data": {
      "text/plain": [
       "array([['[[26, 78], [27, 88], [29, 98], [31, 108], [35, 117], [41, 127], [49, 134], [58, 138], [69, 138], [79, 136], [88, 131], [95, 124], [99, 115], [102, 105], [103, 96], [104, 86], [104, 77], [32, 67], [37, 60], [45, 57], [53, 58], [61, 61], [71, 62], [78, 59], [87, 59], [94, 62], [98, 68], [66, 69], [67, 75], [67, 80], [67, 86], [60, 96], [63, 96], [67, 97], [71, 96], [74, 95], [40, 74], [45, 72], [50, 71], [55, 73], [50, 75], [45, 75], [76, 74], [81, 72], [86, 72], [91, 74], [86, 75], [81, 75], [50, 110], [57, 106], [63, 104], [68, 105], [72, 104], [78, 106], [84, 109], [78, 112], [73, 114], [68, 114], [63, 114], [57, 113], [53, 110], [63, 109], [68, 109], [72, 108], [82, 109], [72, 109], [68, 109], [62, 109]]']],\n",
       "      dtype=object)"
      ]
     },
     "execution_count": 53,
     "metadata": {},
     "output_type": "execute_result"
    }
   ],
   "source": [
    "aa = np.asarray(df_combined_orig.head(1)[['keys']])\n",
    "aa"
   ]
  },
  {
   "cell_type": "code",
   "execution_count": 43,
   "id": "da7e5c79",
   "metadata": {},
   "outputs": [
    {
     "data": {
      "text/plain": [
       "array(['[[26, 78], [27, 88], [29, 98], [31, 108], [35, 117], [41, 127], [49, 134], [58, 138], [69, 138], [79, 136], [88, 131], [95, 124], [99, 115], [102, 105], [103, 96], [104, 86], [104, 77], [32, 67], [37, 60], [45, 57], [53, 58], [61, 61], [71, 62], [78, 59], [87, 59], [94, 62], [98, 68], [66, 69], [67, 75], [67, 80], [67, 86], [60, 96], [63, 96], [67, 97], [71, 96], [74, 95], [40, 74], [45, 72], [50, 71], [55, 73], [50, 75], [45, 75], [76, 74], [81, 72], [86, 72], [91, 74], [86, 75], [81, 75], [50, 110], [57, 106], [63, 104], [68, 105], [72, 104], [78, 106], [84, 109], [78, 112], [73, 114], [68, 114], [63, 114], [57, 113], [53, 110], [63, 109], [68, 109], [72, 108], [82, 109], [72, 109], [68, 109], [62, 109]]'],\n",
       "      dtype=object)"
      ]
     },
     "execution_count": 43,
     "metadata": {},
     "output_type": "execute_result"
    }
   ],
   "source": [
    "lista"
   ]
  },
  {
   "cell_type": "code",
   "execution_count": 38,
   "id": "7a879431",
   "metadata": {},
   "outputs": [
    {
     "name": "stdout",
     "output_type": "stream",
     "text": [
      "[\n"
     ]
    }
   ],
   "source": [
    "for i in lista:\n",
    "    print(i[0][0])"
   ]
  },
  {
   "cell_type": "code",
   "execution_count": null,
   "id": "04b4d947",
   "metadata": {},
   "outputs": [],
   "source": [
    "image = cv2.imread(\"../../../data/examples/me_landmaks_dlib_.jpg\")\n",
    "height, width, _ = image.shape"
   ]
  },
  {
   "cell_type": "code",
   "execution_count": null,
   "id": "e4a292ec",
   "metadata": {},
   "outputs": [],
   "source": [
    "def plot_img(img_x, img_y, img_z):\n",
    "    fig = plt.figure()\n",
    "    hdl = plt.scatter(img_x,img_y,c=img_z,marker='o',cmap=cm.Greys_r)\n",
    "    ax = plt.gca()"
   ]
  },
  {
   "cell_type": "code",
   "execution_count": null,
   "id": "b17f4f2c",
   "metadata": {},
   "outputs": [],
   "source": [
    "for i in df_combined_orig.head(1)['keys']:\n",
    "    \n",
    "    x = int(pt1.x * width)\n",
    "    y = int(pt1.y * height)\n",
    "        \n",
    "    cv2.circle(image, (x, y), 2, (0, 0, 255), -1)\n",
    "\n",
    "    cv2.putText(\n",
    "        image,\n",
    "        text=str(n + 1),\n",
    "        org=(x, y),\n",
    "        fontFace=cv2.FONT_HERSHEY_SIMPLEX,\n",
    "        fontScale=0.3,\n",
    "        color=(0, 0, 0),\n",
    "        thickness=1,\n",
    "        lineType=cv2.LINE_AA,\n",
    "    )"
   ]
  },
  {
   "cell_type": "code",
   "execution_count": null,
   "id": "35202a1b",
   "metadata": {},
   "outputs": [],
   "source": []
  }
 ],
 "metadata": {
  "kernelspec": {
   "display_name": "Python 3 (ipykernel)",
   "language": "python",
   "name": "python3"
  },
  "language_info": {
   "codemirror_mode": {
    "name": "ipython",
    "version": 3
   },
   "file_extension": ".py",
   "mimetype": "text/x-python",
   "name": "python",
   "nbconvert_exporter": "python",
   "pygments_lexer": "ipython3",
   "version": "3.8.10"
  }
 },
 "nbformat": 4,
 "nbformat_minor": 5
}
